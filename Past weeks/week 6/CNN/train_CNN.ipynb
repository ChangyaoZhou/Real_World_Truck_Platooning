{
 "cells": [
  {
   "cell_type": "markdown",
   "metadata": {},
   "source": [
    "### 1 Loading Dataset"
   ]
  },
  {
   "cell_type": "code",
   "execution_count": 1,
   "metadata": {},
   "outputs": [],
   "source": [
    "import numpy as np\n",
    "import random\n",
    "import cv2\n",
    "import matplotlib.pyplot as plt\n",
    "import torch\n",
    "import torch.nn as nn\n",
    "import torch.optim as optim\n",
    "from torch.utils.data import DataLoader\n",
    "import os\n",
    "import random\n",
    "\n",
    "from models.my_datasets import MyDataset2\n",
    "from models.my_models_CNN import MyModel_CNN\n",
    "#from models.my_models_vgg16 import MyModel_CNN\n"
   ]
  },
  {
   "cell_type": "code",
   "execution_count": 2,
   "metadata": {},
   "outputs": [],
   "source": [
    "%load_ext autoreload\n",
    "%autoreload 2"
   ]
  },
  {
   "cell_type": "code",
   "execution_count": 3,
   "metadata": {},
   "outputs": [
    {
     "name": "stdout",
     "output_type": "stream",
     "text": [
      "True\n",
      "cuda:0\n"
     ]
    }
   ],
   "source": [
    "device = torch.device(\"cuda:0\" if torch.cuda.is_available() else \"cpu\")\n",
    "print(torch.cuda.is_available())\n",
    "print(device)"
   ]
  },
  {
   "cell_type": "code",
   "execution_count": 4,
   "metadata": {},
   "outputs": [
    {
     "data": {
      "text/plain": [
       "\"\\nROOT = './output/town04_image_data/images/'\\nOUT = './output/town04_image_data/smallimages/'\\nSIZE = (400,300)\\nimage_paths = os.listdir(ROOT)\\nimage_paths.sort()\\nfor im in image_paths:\\n    #print(im)\\n    img = cv2.imread(ROOT+im)\\n    img = cv2.resize(img, SIZE,  interpolation = cv2.INTER_AREA)\\n    cv2.imwrite(OUT+im, img)\\n\""
      ]
     },
     "execution_count": 4,
     "metadata": {},
     "output_type": "execute_result"
    }
   ],
   "source": [
    "'''\n",
    "ROOT = './output/town04_image_data/images/'\n",
    "OUT = './output/town04_image_data/smallimages/'\n",
    "SIZE = (400,300)\n",
    "image_paths = os.listdir(ROOT)\n",
    "image_paths.sort()\n",
    "for im in image_paths:\n",
    "    #print(im)\n",
    "    img = cv2.imread(ROOT+im)\n",
    "    img = cv2.resize(img, SIZE,  interpolation = cv2.INTER_AREA)\n",
    "    cv2.imwrite(OUT+im, img)\n",
    "'''"
   ]
  },
  {
   "cell_type": "code",
   "execution_count": 5,
   "metadata": {},
   "outputs": [
    {
     "data": {
      "text/plain": [
       "'\\n#### delete the data for the unstored images\\nROOT = \\'./output/town04_image_data/\\'\\nout = open(ROOT+\"alldata.txt\",\\'w\\')\\nlines=[]\\nwith open(ROOT+\"offdata_image.txt\", \\'r\\') as infile:\\n    for line in infile:\\n        line = line.rstrip()\\n        words = line.split()\\n        img = cv2.imread(ROOT+words[0])\\n        if img is None:\\n            pass\\n        else:\\n            out.write(line)\\n            out.write(\\'\\r\\n\\')\\nout.close()\\n'"
      ]
     },
     "execution_count": 5,
     "metadata": {},
     "output_type": "execute_result"
    }
   ],
   "source": [
    "'''\n",
    "#### delete the data for the unstored images\n",
    "ROOT = './output/town04_image_data/'\n",
    "out = open(ROOT+\"alldata.txt\",'w')\n",
    "lines=[]\n",
    "with open(ROOT+\"offdata_image.txt\", 'r') as infile:\n",
    "    for line in infile:\n",
    "        line = line.rstrip()\n",
    "        words = line.split()\n",
    "        img = cv2.imread(ROOT+words[0])\n",
    "        if img is None:\n",
    "            pass\n",
    "        else:\n",
    "            out.write(line)\n",
    "            out.write('\\r\\n')\n",
    "out.close()\n",
    "'''"
   ]
  },
  {
   "cell_type": "code",
   "execution_count": 6,
   "metadata": {},
   "outputs": [
    {
     "data": {
      "text/plain": [
       "'\\n#### conpute the delta imformation from the original information\\nROOT = \\'./output/town04_image_data/\\'\\nout = open(ROOT+\"delta.txt\",\\'w\\')\\ndelta_data = np.empty((0,3))\\nwith open(ROOT+\"data_image_all.txt\", \\'r\\') as infile:\\n    for line in infile:\\n        line = line.rstrip()\\n        words = line.split()\\n        newline = np.array([[float(words[1])-float(words[2]), float(words[3]), float(words[4])]])\\n        delta_data = np.append(delta_data, newline, axis=0)\\n        \\nnp.set_printoptions(threshold = np.inf)\\nout.write(str(repr(np.array(delta_data))))\\nout.close()\\n'"
      ]
     },
     "execution_count": 6,
     "metadata": {},
     "output_type": "execute_result"
    }
   ],
   "source": [
    "'''\n",
    "#### conpute the delta imformation from the original information\n",
    "ROOT = './output/town04_image_data/'\n",
    "out = open(ROOT+\"delta.txt\",'w')\n",
    "delta_data = np.empty((0,3))\n",
    "with open(ROOT+\"data_image_all.txt\", 'r') as infile:\n",
    "    for line in infile:\n",
    "        line = line.rstrip()\n",
    "        words = line.split()\n",
    "        newline = np.array([[float(words[1])-float(words[2]), float(words[3]), float(words[4])]])\n",
    "        delta_data = np.append(delta_data, newline, axis=0)\n",
    "        \n",
    "np.set_printoptions(threshold = np.inf)\n",
    "out.write(str(repr(np.array(delta_data))))\n",
    "out.close()\n",
    "'''"
   ]
  },
  {
   "cell_type": "code",
   "execution_count": 7,
   "metadata": {},
   "outputs": [
    {
     "name": "stdout",
     "output_type": "stream",
     "text": [
      "images_off/traj2_000400_06_14.png -242.4651336669922 -89.66815948486328 2.9370048902243795 9.82763165797355 -232.04872131347656 -91.74087524414062 2.9605392447774106 10.110875254337783 0.3203449918246954 -0.026774356665906118\n",
      "\n",
      "images_off/traj1_000350_06_20.png 60.16181564331055 -365.4378356933594 2.5680950275950067 4.938781917230327 67.0915298461914 -369.4236755371094 2.6588768628336275 6.442531880363426 5.781098062571181e-15 -0.032447193974995375\n",
      "\n",
      "images_off/traj2_000440_07_07.png -267.2572021484375 -85.60802459716797 3.031147634758681 4.946451463651957 -260.1221923828125 -86.26103973388672 -3.057859939440503 5.500541389535576 4.212148376172911e-06 -0.4359970948803277\n",
      "\n",
      "images_off/traj1_000890_01_12.png -234.5464630126953 -95.35982513427734 2.845401736105578 9.830406107899563 -222.01995849609375 -98.53285217285156 2.914413827329456 10.164826953402173 0.9999999999999976 -0.011167870484469366\n",
      "\n",
      "images_off/pjx_1_000240_09_06.png 331.8236389160156 -336.22998046875 0.6792986910960457 4.93782940709217 324.86492919921875 -339.8918151855469 0.2765033659677494 4.907013839535309 0.3924882316946789 0.3099633198925611\n",
      "\n",
      "images_off/traj1_000210_02_06.png 130.19769287109375 -393.5276794433594 2.985302914489621 4.939535686531241 138.74295043945312 -395.7518005371094 2.8402391983324597 5.027911160722654 0.9999999999999993 0.04564544724106426\n",
      "\n",
      "images_off/traj2_000500_01_14.png -300.2452087402344 -83.41282653808594 3.0981809972926295 4.939072387876817 -292.30718994140625 -82.91253662109375 -3.005405253345866 6.432854106303026 3.3553302812570558e-15 -0.042726152601068663\n",
      "\n",
      "images_off/traj1_000800_08_06.png -148.1591033935547 -132.23733520507812 2.5916104737042973 9.830280449879375 -138.53961181640625 -137.00314331054688 2.876138609826728 9.868564920236834 0.6480707635797033 -0.1843690886829065\n",
      "\n",
      "images_off/pjx_2_000740_01_17.png 323.0550842285156 -199.26437377929688 -1.9385339990704715 4.929272443847384 326.1728515625 -192.24755859375 -2.0146478088152087 5.090686617595097 0.1347739291020397 0.010031140077052038\n",
      "\n",
      "images_off/traj1_000900_03_04.png -236.5227508544922 -95.20874786376953 2.959556005702953 9.822437300462614 -225.27415466308594 -96.68190002441406 2.975490497453224 9.217186787682726 0.9999999999999961 0.09286585361888573\n",
      "\n",
      "images_off/pjx_1_000250_05_18.png 340.1164245605469 -329.2720947265625 0.721283159365036 4.939599823561408 334.41424560546875 -334.34637451171875 0.7232112879942533 6.508662665130496 7.389568504176663e-14 -0.003661059412986587\n",
      "\n"
     ]
    }
   ],
   "source": [
    "#preprocess the txt file\n",
    "ROOT = './output/town04_data/trajectory1_pjx/'\n",
    "train_out = open(ROOT+\"traindata_shuffle.txt\",'w')\n",
    "val_out = open(ROOT+\"valdata_shuffle.txt\",'w')\n",
    "over_out = open(ROOT+\"overdata_shuffle.txt\",'w')\n",
    "lines=[]\n",
    "with open(ROOT+\"data_all.txt\", 'r') as infile:\n",
    "    for line in infile:\n",
    "        lines.append(line)\n",
    "    random.shuffle(lines)\n",
    "    num_train = np.ceil(0.8*len(lines))\n",
    "    for count, line in enumerate(lines):\n",
    "        if count <=num_train:\n",
    "            if count>=25 and count<=35:\n",
    "                print(line)\n",
    "                over_out.write(line)\n",
    "            train_out.write(line)\n",
    "        else:\n",
    "            val_out.write(line) \n",
    "train_out.close()            \n",
    "val_out.close()\n",
    "over_out.close()        "
   ]
  },
  {
   "cell_type": "code",
   "execution_count": 8,
   "metadata": {},
   "outputs": [
    {
     "name": "stdout",
     "output_type": "stream",
     "text": [
      "Overfit size: 11\n",
      "Train size: 50472\n",
      "Validation size: 12616\n"
     ]
    }
   ],
   "source": [
    "TRANSFORM = cv2.resize\n",
    "SIZE = (200,150)\n",
    "over_data = MyDataset2(root = ROOT, txtname = 'overdata_shuffle.txt', transform=TRANSFORM, size=SIZE)\n",
    "train_data = MyDataset2(root = ROOT, txtname = 'traindata_shuffle.txt' , transform = TRANSFORM, size= SIZE)\n",
    "val_data = MyDataset2(root = ROOT, txtname = 'valdata_shuffle.txt', transform = TRANSFORM, size= SIZE)\n",
    "over_loader = DataLoader(dataset=over_data, batch_size=32, shuffle=True)\n",
    "train_loader = DataLoader(dataset=train_data, batch_size=32, shuffle=True)\n",
    "val_loader = DataLoader(dataset=val_data, batch_size=32, shuffle=True)\n",
    "print(\"Overfit size: %i\" % len(over_data))\n",
    "print(\"Train size: %i\" % len(train_data))\n",
    "print(\"Validation size: %i\" % len(val_data))"
   ]
  },
  {
   "cell_type": "code",
   "execution_count": 9,
   "metadata": {},
   "outputs": [
    {
     "name": "stdout",
     "output_type": "stream",
     "text": [
      "(150, 200, 3)\n"
     ]
    }
   ],
   "source": [
    "print(over_data[0][0][0].shape)\n",
    "cv2.imshow('Window',over_data[0][0][0])\n",
    "cv2.waitKey(0)\n",
    "cv2.destroyAllWindows()"
   ]
  },
  {
   "cell_type": "markdown",
   "metadata": {},
   "source": [
    "### 2 Defining Neural Network"
   ]
  },
  {
   "cell_type": "code",
   "execution_count": 10,
   "metadata": {},
   "outputs": [
    {
     "name": "stdout",
     "output_type": "stream",
     "text": [
      "MyModel_CNN(\n",
      "  (features): Sequential(\n",
      "    (0): Conv2d(3, 30, kernel_size=(3, 3), stride=(2, 2), padding=(1, 1))\n",
      "    (1): MaxPool2d(kernel_size=2, stride=2, padding=0, dilation=1, ceil_mode=False)\n",
      "    (2): ReLU()\n",
      "    (3): Conv2d(30, 60, kernel_size=(3, 3), stride=(2, 2), padding=(1, 1))\n",
      "    (4): MaxPool2d(kernel_size=2, stride=2, padding=0, dilation=1, ceil_mode=False)\n",
      "    (5): ReLU()\n",
      "    (6): Conv2d(60, 60, kernel_size=(3, 3), stride=(2, 2), padding=(1, 1))\n",
      "    (7): MaxPool2d(kernel_size=2, stride=2, padding=0, dilation=1, ceil_mode=False)\n",
      "  )\n",
      "  (predict): Sequential(\n",
      "    (0): Flatten(start_dim=1, end_dim=-1)\n",
      "    (1): Linear(in_features=372, out_features=32, bias=True)\n",
      "    (2): ReLU()\n",
      "    (3): Linear(in_features=32, out_features=2, bias=True)\n",
      "  )\n",
      ")\n"
     ]
    }
   ],
   "source": [
    "mynet= MyModel_CNN().to(device)\n",
    "print(mynet)"
   ]
  },
  {
   "cell_type": "code",
   "execution_count": 11,
   "metadata": {},
   "outputs": [
    {
     "name": "stdout",
     "output_type": "stream",
     "text": [
      "61,562 total parameters.\n",
      "61,562 trainable parameters.\n"
     ]
    }
   ],
   "source": [
    "total_params = sum(p.numel() for p in mynet.parameters())\n",
    "print(f'{total_params:,} total parameters.')\n",
    "total_trainable_params = sum(\n",
    "    p.numel() for p in mynet.parameters() if p.requires_grad)\n",
    "print(f'{total_trainable_params:,} trainable parameters.')"
   ]
  },
  {
   "cell_type": "markdown",
   "metadata": {},
   "source": [
    "### 3 Training Neural network"
   ]
  },
  {
   "cell_type": "code",
   "execution_count": 12,
   "metadata": {},
   "outputs": [],
   "source": [
    "mycriterion = nn.MSELoss(reduction='mean') \n",
    "myoptimizer = optim.Adam(mynet.parameters(), lr=1e-6, eps = 1e-08) "
   ]
  },
  {
   "cell_type": "code",
   "execution_count": 13,
   "metadata": {
    "scrolled": true
   },
   "outputs": [],
   "source": [
    "def run_epoch(model,criterion,optimizer,dataloader,iftrain):    \n",
    "    running_loss = 0.0  \n",
    "    \n",
    "    #Iterating through the minibatches of the data\n",
    "    for i, data in enumerate(dataloader, 0): \n",
    "        X, y = data\n",
    "        X = [x.cuda() for x in X]\n",
    "        y = y.to(device)\n",
    "        #Y = [y.cuda() for y in Y]\n",
    "        #X = torch.tensor(X)\n",
    "        #Y = torch.as_tensor(np.array(Y))\n",
    "        #print(X.shape,y.shape)\n",
    "        if iftrain:  \n",
    "            optimizer.zero_grad()\n",
    "            y_pred = model(X)\n",
    "            y_pred = y_pred.float()\n",
    "            #print(y)\n",
    "            #print(y_pred)\n",
    "            y = y.float()\n",
    "            loss = criterion(y_pred, y)  \n",
    "            loss.backward()             \n",
    "            optimizer.step()            \n",
    "            running_loss += loss.item() \n",
    "            #print('x', X[1])\n",
    "            #print('prediction', y_pred)\n",
    "            #print('gt', y)\n",
    "        else:\n",
    "            y_pred = model(X)\n",
    "            y_pred = y_pred.float()  \n",
    "            y = y.float()\n",
    "            loss = criterion(y_pred , y)  \n",
    "            running_loss += loss.item()    \n",
    "    return running_loss    "
   ]
  },
  {
   "cell_type": "code",
   "execution_count": 14,
   "metadata": {
    "scrolled": true
   },
   "outputs": [
    {
     "name": "stdout",
     "output_type": "stream",
     "text": [
      "Epoch  10/200, train_loss: 3.043734e-01, val_loss: 1.799065e-01 \n",
      "Epoch  20/200, train_loss: 1.130993e-01, val_loss: 6.657188e-02 \n",
      "Epoch  30/200, train_loss: 4.612103e-02, val_loss: 3.384228e-02 \n",
      "Epoch  40/200, train_loss: 2.034618e-02, val_loss: 2.277463e-02 \n",
      "Epoch  50/200, train_loss: 1.331364e-02, val_loss: 1.297989e-02 \n",
      "Epoch  60/200, train_loss: 5.225585e-03, val_loss: 4.366772e-03 \n",
      "Epoch  70/200, train_loss: 2.193859e-03, val_loss: 1.960634e-03 \n",
      "Epoch  80/200, train_loss: 5.970253e-04, val_loss: 6.419891e-04 \n",
      "Epoch  90/200, train_loss: 1.523279e-04, val_loss: 1.411553e-04 \n",
      "Epoch 100/200, train_loss: 3.335633e-05, val_loss: 2.441728e-05 \n",
      "Epoch 110/200, train_loss: 8.535954e-06, val_loss: 6.731830e-06 \n",
      "Epoch 120/200, train_loss: 3.333519e-06, val_loss: 3.827747e-06 \n",
      "Epoch 130/200, train_loss: 1.423123e-06, val_loss: 2.064823e-06 \n",
      "Epoch 140/200, train_loss: 7.955385e-07, val_loss: 8.119788e-07 \n",
      "Epoch 150/200, train_loss: 3.667882e-07, val_loss: 2.300819e-07 \n",
      "Epoch 160/200, train_loss: 7.956353e-08, val_loss: 9.268999e-08 \n",
      "Epoch 170/200, train_loss: 2.874319e-08, val_loss: 2.128833e-08 \n",
      "Epoch 180/200, train_loss: 4.761404e-09, val_loss: 5.313356e-09 \n",
      "Epoch 190/200, train_loss: 4.646063e-09, val_loss: 3.632621e-09 \n",
      "Epoch 200/200, train_loss: 1.516409e-09, val_loss: 1.772095e-09 \n"
     ]
    }
   ],
   "source": [
    "# test if the model will overfit with only one sample\n",
    "max_epochs = 200\n",
    "train_history = []\n",
    "val_history = []\n",
    "myoptimizer = optim.Adam(mynet.parameters(), lr=1e-4, eps = 1e-08) \n",
    "scheduler = optim.lr_scheduler.CosineAnnealingLR(myoptimizer, max_epochs)\n",
    "for epoch in range(max_epochs):\n",
    "    '''\n",
    "    if epoch >= 1999 and epoch <= 2999:\n",
    "        myoptimizer.param_groups[0]['lr'] = 1e-5\n",
    "    elif epoch > 2999:\n",
    "        myoptimizer.param_groups[0]['lr'] = 1e-6\n",
    "        \n",
    "    scheduler.step()\n",
    "    '''\n",
    "    train_loss = run_epoch(model=mynet,criterion=mycriterion,\n",
    "                           optimizer=myoptimizer,dataloader=over_loader,\n",
    "                           iftrain=True)\n",
    "    train_history.append(train_loss)\n",
    "    val_loss =  run_epoch(model=mynet,criterion=mycriterion,\n",
    "                           optimizer=myoptimizer,dataloader=over_loader,\n",
    "                           iftrain=False)\n",
    "    val_history.append(val_loss)\n",
    "    if epoch % 10 == 9:\n",
    "        print(f\"Epoch {epoch + 1: >3}/{max_epochs}, train_loss: %2e, val_loss: %2e \"% \n",
    "          (train_loss, val_loss))\n",
    "        #print(scheduler.get_last_lr())"
   ]
  },
  {
   "cell_type": "code",
   "execution_count": 15,
   "metadata": {},
   "outputs": [
    {
     "data": {
      "image/png": "[encoded data removed]",
      "text/plain": [
       "<Figure size 640x480 with 1 Axes>"
      ]
     },
     "metadata": {},
     "output_type": "display_data"
    }
   ],
   "source": [
    "# plot the train&validation loss curve with only one sample\n",
    "epochs = range(len(train_history))\n",
    "plt.figure()\n",
    "plt.plot(epochs, train_history, 'bo', label='Training loss')\n",
    "plt.plot(epochs, val_history, 'b', label='Validation loss')\n",
    "plt.title('Training and validation loss')\n",
    "\n",
    "plt.legend()\n",
    "plt.show()"
   ]
  },
  {
   "cell_type": "code",
   "execution_count": 18,
   "metadata": {},
   "outputs": [
    {
     "name": "stdout",
     "output_type": "stream",
     "text": [
      "test_in tensor(4.9391, device='cuda:0')\n",
      "prediction:[[-3.0443072e-05 -4.2698950e-02]], ground truth:[ 3.35533028e-15 -4.27261526e-02]\n"
     ]
    }
   ],
   "source": [
    "mynet.eval()\n",
    "TEST = random.randint (0, 11)\n",
    "test_in, gt_output = over_data[TEST]\n",
    "test_in = [torch.tensor(x).cuda() for x in test_in]\n",
    "#gt_output = torch.tensor(gt_output).to(device)\n",
    "output_pred = mynet(test_in) \n",
    "#print('TEST', TEST)\n",
    "print('test_in',test_in[1])\n",
    "print('prediction:{}, ground truth:{}'.format(output_pred.cpu().detach().numpy(), gt_output))"
   ]
  },
  {
   "cell_type": "code",
   "execution_count": 19,
   "metadata": {},
   "outputs": [],
   "source": [
    "# start the main training process\n",
    "\n",
    "num_trainbatch = np.ceil(len(train_data)/32) \n",
    "num_valbatch = np.ceil(len(val_data)/32) \n",
    "train_history = []\n",
    "val_history = []\n",
    "\n",
    "min_loss = 100000\n",
    "current_patience = 0\n",
    "patience = 5\n",
    "\n"
   ]
  },
  {
   "cell_type": "code",
   "execution_count": 21,
   "metadata": {
    "scrolled": true
   },
   "outputs": [
    {
     "name": "stdout",
     "output_type": "stream",
     "text": [
      "Start training!\n",
      "Epoch   1/10, train_loss: 6.389668e-02, val_loss: 7.809505e-02 \n",
      "Epoch   2/10, train_loss: 6.052549e-02, val_loss: 7.693707e-02 \n"
     ]
    },
    {
     "ename": "KeyboardInterrupt",
     "evalue": "",
     "output_type": "error",
     "traceback": [
      "\u001b[0;31m---------------------------------------------------------------------------\u001b[0m",
      "\u001b[0;31mKeyboardInterrupt\u001b[0m                         Traceback (most recent call last)",
      "\u001b[0;32m<ipython-input-21-7df6cd39d3f3>\u001b[0m in \u001b[0;36m<module>\u001b[0;34m\u001b[0m\n\u001b[1;32m     15\u001b[0m     val_loss =  run_epoch(model=mynet,criterion=mycriterion,\n\u001b[1;32m     16\u001b[0m                            \u001b[0moptimizer\u001b[0m\u001b[0;34m=\u001b[0m\u001b[0mmyoptimizer\u001b[0m\u001b[0;34m,\u001b[0m\u001b[0mdataloader\u001b[0m\u001b[0;34m=\u001b[0m\u001b[0mval_loader\u001b[0m\u001b[0;34m,\u001b[0m\u001b[0;34m\u001b[0m\u001b[0;34m\u001b[0m\u001b[0m\n\u001b[0;32m---> 17\u001b[0;31m                            iftrain=False)\n\u001b[0m\u001b[1;32m     18\u001b[0m     \u001b[0mval_history\u001b[0m\u001b[0;34m.\u001b[0m\u001b[0mappend\u001b[0m\u001b[0;34m(\u001b[0m\u001b[0mval_loss\u001b[0m\u001b[0;34m/\u001b[0m\u001b[0mnum_valbatch\u001b[0m\u001b[0;34m)\u001b[0m\u001b[0;34m\u001b[0m\u001b[0;34m\u001b[0m\u001b[0m\n\u001b[1;32m     19\u001b[0m     \u001b[0;31m#if epoch % 100 == 99:\u001b[0m\u001b[0;34m\u001b[0m\u001b[0;34m\u001b[0m\u001b[0;34m\u001b[0m\u001b[0m\n",
      "\u001b[0;32m<ipython-input-13-a2bc0db22586>\u001b[0m in \u001b[0;36mrun_epoch\u001b[0;34m(model, criterion, optimizer, dataloader, iftrain)\u001b[0m\n\u001b[1;32m      3\u001b[0m \u001b[0;34m\u001b[0m\u001b[0m\n\u001b[1;32m      4\u001b[0m     \u001b[0;31m#Iterating through the minibatches of the data\u001b[0m\u001b[0;34m\u001b[0m\u001b[0;34m\u001b[0m\u001b[0;34m\u001b[0m\u001b[0m\n\u001b[0;32m----> 5\u001b[0;31m     \u001b[0;32mfor\u001b[0m \u001b[0mi\u001b[0m\u001b[0;34m,\u001b[0m \u001b[0mdata\u001b[0m \u001b[0;32min\u001b[0m \u001b[0menumerate\u001b[0m\u001b[0;34m(\u001b[0m\u001b[0mdataloader\u001b[0m\u001b[0;34m,\u001b[0m \u001b[0;36m0\u001b[0m\u001b[0;34m)\u001b[0m\u001b[0;34m:\u001b[0m\u001b[0;34m\u001b[0m\u001b[0;34m\u001b[0m\u001b[0m\n\u001b[0m\u001b[1;32m      6\u001b[0m         \u001b[0mX\u001b[0m\u001b[0;34m,\u001b[0m \u001b[0my\u001b[0m \u001b[0;34m=\u001b[0m \u001b[0mdata\u001b[0m\u001b[0;34m\u001b[0m\u001b[0;34m\u001b[0m\u001b[0m\n\u001b[1;32m      7\u001b[0m         \u001b[0mX\u001b[0m \u001b[0;34m=\u001b[0m \u001b[0;34m[\u001b[0m\u001b[0mx\u001b[0m\u001b[0;34m.\u001b[0m\u001b[0mcuda\u001b[0m\u001b[0;34m(\u001b[0m\u001b[0;34m)\u001b[0m \u001b[0;32mfor\u001b[0m \u001b[0mx\u001b[0m \u001b[0;32min\u001b[0m \u001b[0mX\u001b[0m\u001b[0;34m]\u001b[0m\u001b[0;34m\u001b[0m\u001b[0;34m\u001b[0m\u001b[0m\n",
      "\u001b[0;32m~/anaconda3/envs/intellisys/lib/python3.7/site-packages/torch/utils/data/dataloader.py\u001b[0m in \u001b[0;36m__next__\u001b[0;34m(self)\u001b[0m\n\u001b[1;32m    519\u001b[0m             \u001b[0;32mif\u001b[0m \u001b[0mself\u001b[0m\u001b[0;34m.\u001b[0m\u001b[0m_sampler_iter\u001b[0m \u001b[0;32mis\u001b[0m \u001b[0;32mNone\u001b[0m\u001b[0;34m:\u001b[0m\u001b[0;34m\u001b[0m\u001b[0;34m\u001b[0m\u001b[0m\n\u001b[1;32m    520\u001b[0m                 \u001b[0mself\u001b[0m\u001b[0;34m.\u001b[0m\u001b[0m_reset\u001b[0m\u001b[0;34m(\u001b[0m\u001b[0;34m)\u001b[0m\u001b[0;34m\u001b[0m\u001b[0;34m\u001b[0m\u001b[0m\n\u001b[0;32m--> 521\u001b[0;31m             \u001b[0mdata\u001b[0m \u001b[0;34m=\u001b[0m \u001b[0mself\u001b[0m\u001b[0;34m.\u001b[0m\u001b[0m_next_data\u001b[0m\u001b[0;34m(\u001b[0m\u001b[0;34m)\u001b[0m\u001b[0;34m\u001b[0m\u001b[0;34m\u001b[0m\u001b[0m\n\u001b[0m\u001b[1;32m    522\u001b[0m             \u001b[0mself\u001b[0m\u001b[0;34m.\u001b[0m\u001b[0m_num_yielded\u001b[0m \u001b[0;34m+=\u001b[0m \u001b[0;36m1\u001b[0m\u001b[0;34m\u001b[0m\u001b[0;34m\u001b[0m\u001b[0m\n\u001b[1;32m    523\u001b[0m             \u001b[0;32mif\u001b[0m \u001b[0mself\u001b[0m\u001b[0;34m.\u001b[0m\u001b[0m_dataset_kind\u001b[0m \u001b[0;34m==\u001b[0m \u001b[0m_DatasetKind\u001b[0m\u001b[0;34m.\u001b[0m\u001b[0mIterable\u001b[0m \u001b[0;32mand\u001b[0m\u001b[0;31m \u001b[0m\u001b[0;31m\\\u001b[0m\u001b[0;34m\u001b[0m\u001b[0;34m\u001b[0m\u001b[0m\n",
      "\u001b[0;32m~/anaconda3/envs/intellisys/lib/python3.7/site-packages/torch/utils/data/dataloader.py\u001b[0m in \u001b[0;36m_next_data\u001b[0;34m(self)\u001b[0m\n\u001b[1;32m    559\u001b[0m     \u001b[0;32mdef\u001b[0m \u001b[0m_next_data\u001b[0m\u001b[0;34m(\u001b[0m\u001b[0mself\u001b[0m\u001b[0;34m)\u001b[0m\u001b[0;34m:\u001b[0m\u001b[0;34m\u001b[0m\u001b[0;34m\u001b[0m\u001b[0m\n\u001b[1;32m    560\u001b[0m         \u001b[0mindex\u001b[0m \u001b[0;34m=\u001b[0m \u001b[0mself\u001b[0m\u001b[0;34m.\u001b[0m\u001b[0m_next_index\u001b[0m\u001b[0;34m(\u001b[0m\u001b[0;34m)\u001b[0m  \u001b[0;31m# may raise StopIteration\u001b[0m\u001b[0;34m\u001b[0m\u001b[0;34m\u001b[0m\u001b[0m\n\u001b[0;32m--> 561\u001b[0;31m         \u001b[0mdata\u001b[0m \u001b[0;34m=\u001b[0m \u001b[0mself\u001b[0m\u001b[0;34m.\u001b[0m\u001b[0m_dataset_fetcher\u001b[0m\u001b[0;34m.\u001b[0m\u001b[0mfetch\u001b[0m\u001b[0;34m(\u001b[0m\u001b[0mindex\u001b[0m\u001b[0;34m)\u001b[0m  \u001b[0;31m# may raise StopIteration\u001b[0m\u001b[0;34m\u001b[0m\u001b[0;34m\u001b[0m\u001b[0m\n\u001b[0m\u001b[1;32m    562\u001b[0m         \u001b[0;32mif\u001b[0m \u001b[0mself\u001b[0m\u001b[0;34m.\u001b[0m\u001b[0m_pin_memory\u001b[0m\u001b[0;34m:\u001b[0m\u001b[0;34m\u001b[0m\u001b[0;34m\u001b[0m\u001b[0m\n\u001b[1;32m    563\u001b[0m             \u001b[0mdata\u001b[0m \u001b[0;34m=\u001b[0m \u001b[0m_utils\u001b[0m\u001b[0;34m.\u001b[0m\u001b[0mpin_memory\u001b[0m\u001b[0;34m.\u001b[0m\u001b[0mpin_memory\u001b[0m\u001b[0;34m(\u001b[0m\u001b[0mdata\u001b[0m\u001b[0;34m)\u001b[0m\u001b[0;34m\u001b[0m\u001b[0;34m\u001b[0m\u001b[0m\n",
      "\u001b[0;32m~/anaconda3/envs/intellisys/lib/python3.7/site-packages/torch/utils/data/_utils/fetch.py\u001b[0m in \u001b[0;36mfetch\u001b[0;34m(self, possibly_batched_index)\u001b[0m\n\u001b[1;32m     47\u001b[0m     \u001b[0;32mdef\u001b[0m \u001b[0mfetch\u001b[0m\u001b[0;34m(\u001b[0m\u001b[0mself\u001b[0m\u001b[0;34m,\u001b[0m \u001b[0mpossibly_batched_index\u001b[0m\u001b[0;34m)\u001b[0m\u001b[0;34m:\u001b[0m\u001b[0;34m\u001b[0m\u001b[0;34m\u001b[0m\u001b[0m\n\u001b[1;32m     48\u001b[0m         \u001b[0;32mif\u001b[0m \u001b[0mself\u001b[0m\u001b[0;34m.\u001b[0m\u001b[0mauto_collation\u001b[0m\u001b[0;34m:\u001b[0m\u001b[0;34m\u001b[0m\u001b[0;34m\u001b[0m\u001b[0m\n\u001b[0;32m---> 49\u001b[0;31m             \u001b[0mdata\u001b[0m \u001b[0;34m=\u001b[0m \u001b[0;34m[\u001b[0m\u001b[0mself\u001b[0m\u001b[0;34m.\u001b[0m\u001b[0mdataset\u001b[0m\u001b[0;34m[\u001b[0m\u001b[0midx\u001b[0m\u001b[0;34m]\u001b[0m \u001b[0;32mfor\u001b[0m \u001b[0midx\u001b[0m \u001b[0;32min\u001b[0m \u001b[0mpossibly_batched_index\u001b[0m\u001b[0;34m]\u001b[0m\u001b[0;34m\u001b[0m\u001b[0;34m\u001b[0m\u001b[0m\n\u001b[0m\u001b[1;32m     50\u001b[0m         \u001b[0;32melse\u001b[0m\u001b[0;34m:\u001b[0m\u001b[0;34m\u001b[0m\u001b[0;34m\u001b[0m\u001b[0m\n\u001b[1;32m     51\u001b[0m             \u001b[0mdata\u001b[0m \u001b[0;34m=\u001b[0m \u001b[0mself\u001b[0m\u001b[0;34m.\u001b[0m\u001b[0mdataset\u001b[0m\u001b[0;34m[\u001b[0m\u001b[0mpossibly_batched_index\u001b[0m\u001b[0;34m]\u001b[0m\u001b[0;34m\u001b[0m\u001b[0;34m\u001b[0m\u001b[0m\n",
      "\u001b[0;32m~/anaconda3/envs/intellisys/lib/python3.7/site-packages/torch/utils/data/_utils/fetch.py\u001b[0m in \u001b[0;36m<listcomp>\u001b[0;34m(.0)\u001b[0m\n\u001b[1;32m     47\u001b[0m     \u001b[0;32mdef\u001b[0m \u001b[0mfetch\u001b[0m\u001b[0;34m(\u001b[0m\u001b[0mself\u001b[0m\u001b[0;34m,\u001b[0m \u001b[0mpossibly_batched_index\u001b[0m\u001b[0;34m)\u001b[0m\u001b[0;34m:\u001b[0m\u001b[0;34m\u001b[0m\u001b[0;34m\u001b[0m\u001b[0m\n\u001b[1;32m     48\u001b[0m         \u001b[0;32mif\u001b[0m \u001b[0mself\u001b[0m\u001b[0;34m.\u001b[0m\u001b[0mauto_collation\u001b[0m\u001b[0;34m:\u001b[0m\u001b[0;34m\u001b[0m\u001b[0;34m\u001b[0m\u001b[0m\n\u001b[0;32m---> 49\u001b[0;31m             \u001b[0mdata\u001b[0m \u001b[0;34m=\u001b[0m \u001b[0;34m[\u001b[0m\u001b[0mself\u001b[0m\u001b[0;34m.\u001b[0m\u001b[0mdataset\u001b[0m\u001b[0;34m[\u001b[0m\u001b[0midx\u001b[0m\u001b[0;34m]\u001b[0m \u001b[0;32mfor\u001b[0m \u001b[0midx\u001b[0m \u001b[0;32min\u001b[0m \u001b[0mpossibly_batched_index\u001b[0m\u001b[0;34m]\u001b[0m\u001b[0;34m\u001b[0m\u001b[0;34m\u001b[0m\u001b[0m\n\u001b[0m\u001b[1;32m     50\u001b[0m         \u001b[0;32melse\u001b[0m\u001b[0;34m:\u001b[0m\u001b[0;34m\u001b[0m\u001b[0;34m\u001b[0m\u001b[0m\n\u001b[1;32m     51\u001b[0m             \u001b[0mdata\u001b[0m \u001b[0;34m=\u001b[0m \u001b[0mself\u001b[0m\u001b[0;34m.\u001b[0m\u001b[0mdataset\u001b[0m\u001b[0;34m[\u001b[0m\u001b[0mpossibly_batched_index\u001b[0m\u001b[0;34m]\u001b[0m\u001b[0;34m\u001b[0m\u001b[0;34m\u001b[0m\u001b[0m\n",
      "\u001b[0;32m/media/melina/Extreme SSD/Carla_0.9.11/PythonAPI/examples/models/my_datasets.py\u001b[0m in \u001b[0;36m__getitem__\u001b[0;34m(self, index)\u001b[0m\n\u001b[1;32m     42\u001b[0m     \u001b[0;32mdef\u001b[0m \u001b[0m__getitem__\u001b[0m\u001b[0;34m(\u001b[0m\u001b[0mself\u001b[0m\u001b[0;34m,\u001b[0m \u001b[0mindex\u001b[0m\u001b[0;34m)\u001b[0m\u001b[0;34m:\u001b[0m\u001b[0;34m\u001b[0m\u001b[0;34m\u001b[0m\u001b[0m\n\u001b[1;32m     43\u001b[0m         \u001b[0mimg_path\u001b[0m \u001b[0;34m=\u001b[0m \u001b[0mself\u001b[0m\u001b[0;34m.\u001b[0m\u001b[0minput_list\u001b[0m\u001b[0;34m[\u001b[0m\u001b[0mindex\u001b[0m\u001b[0;34m]\u001b[0m\u001b[0;34m[\u001b[0m\u001b[0;36m0\u001b[0m\u001b[0;34m]\u001b[0m\u001b[0;34m\u001b[0m\u001b[0;34m\u001b[0m\u001b[0m\n\u001b[0;32m---> 44\u001b[0;31m         \u001b[0mimg\u001b[0m \u001b[0;34m=\u001b[0m \u001b[0mcv2\u001b[0m\u001b[0;34m.\u001b[0m\u001b[0mimread\u001b[0m\u001b[0;34m(\u001b[0m\u001b[0mself\u001b[0m\u001b[0;34m.\u001b[0m\u001b[0mroot\u001b[0m\u001b[0;34m+\u001b[0m\u001b[0mimg_path\u001b[0m\u001b[0;34m)\u001b[0m\u001b[0;34m\u001b[0m\u001b[0;34m\u001b[0m\u001b[0m\n\u001b[0m\u001b[1;32m     45\u001b[0m         \u001b[0;31m#print(img_path)\u001b[0m\u001b[0;34m\u001b[0m\u001b[0;34m\u001b[0m\u001b[0;34m\u001b[0m\u001b[0m\n\u001b[1;32m     46\u001b[0m         \u001b[0;32mif\u001b[0m \u001b[0mself\u001b[0m\u001b[0;34m.\u001b[0m\u001b[0mtransform\u001b[0m \u001b[0;32mis\u001b[0m \u001b[0;32mnot\u001b[0m \u001b[0;32mNone\u001b[0m\u001b[0;34m:\u001b[0m\u001b[0;34m\u001b[0m\u001b[0;34m\u001b[0m\u001b[0m\n",
      "\u001b[0;31mKeyboardInterrupt\u001b[0m: "
     ]
    }
   ],
   "source": [
    "myoptimizer = optim.Adam(mynet.parameters(), lr=5e-4, eps = 1e-08) \n",
    "max_epochs = 10\n",
    "print('Start training!')\n",
    "for epoch in range(max_epochs): \n",
    "    \n",
    "    if epoch > 9 and epoch <= 14:\n",
    "        myoptimizer.param_groups[0]['lr'] = 1e-5\n",
    "    elif epoch > 19:\n",
    "        myoptimizer.param_groups[0]['lr'] = 1e-6\n",
    "    \n",
    "    train_loss = run_epoch(model=mynet,criterion=mycriterion,\n",
    "                           optimizer=myoptimizer,dataloader=train_loader,\n",
    "                           iftrain=True)\n",
    "    train_history.append(train_loss/num_trainbatch)\n",
    "    val_loss =  run_epoch(model=mynet,criterion=mycriterion,\n",
    "                           optimizer=myoptimizer,dataloader=val_loader,\n",
    "                           iftrain=False)\n",
    "    val_history.append(val_loss/num_valbatch)\n",
    "    #if epoch % 100 == 99:\n",
    "    print(f\"Epoch {epoch + 1: >3}/{max_epochs}, train_loss: %e, val_loss: %e \"% \n",
    "      (train_loss/num_trainbatch, val_loss/num_valbatch))\n",
    "'''\n",
    "    # early stopping\n",
    "    if min_loss == 100000 or val_loss < min_loss :\n",
    "        min_loss = val_loss\n",
    "        current_patience = 0\n",
    "        torch.save(mynet.state_dict(),'mynet.pth')\n",
    "      \n",
    "    else :\n",
    "        current_patience += 1 \n",
    "        if current_patience >= patience :\n",
    "            print(\"Stopping early at epoch {}!\".format(epoch+1)) \n",
    "            break   '''\n",
    "\n",
    "print('FINISH.')"
   ]
  },
  {
   "cell_type": "code",
   "execution_count": 22,
   "metadata": {
    "scrolled": true
   },
   "outputs": [
    {
     "data": {
      "image/png": "[encoded data removed]",
      "text/plain": [
       "<Figure size 640x480 with 1 Axes>"
      ]
     },
     "metadata": {},
     "output_type": "display_data"
    }
   ],
   "source": [
    "# plot the train&validation loss curve \n",
    "epochs = range(len(train_history))\n",
    "plt.figure()\n",
    "plt.plot(epochs, train_history, 'b', label='Training loss')\n",
    "plt.plot(epochs, val_history, 'r', label='Validation loss')\n",
    "plt.title('Training and validation loss')\n",
    "\n",
    "plt.legend()\n",
    "plt.show()\n"
   ]
  },
  {
   "cell_type": "code",
   "execution_count": 25,
   "metadata": {},
   "outputs": [],
   "source": [
    "# save trained model\n",
    "torch.save(mynet.state_dict(),'./models/mynet_small_1.pth')"
   ]
  },
  {
   "cell_type": "code",
   "execution_count": 15,
   "metadata": {},
   "outputs": [
    {
     "data": {
      "text/plain": [
       "<All keys matched successfully>"
      ]
     },
     "execution_count": 15,
     "metadata": {},
     "output_type": "execute_result"
    }
   ],
   "source": [
    "mynet.load_state_dict(torch.load('./models/mynet_alexnet_all_4.pth'))"
   ]
  },
  {
   "cell_type": "code",
   "execution_count": 19,
   "metadata": {},
   "outputs": [
    {
     "name": "stdout",
     "output_type": "stream",
     "text": [
      "prediction:[[1.0451425  0.05493085]], ground truth:[1.         0.05130721]\n",
      "prediction:[[ 1.0106381 -0.3864771]], ground truth:[ 1.        -0.3706857]\n",
      "prediction:[[ 4.1950214e-01 -2.6309118e-04]], ground truth:[ 0.47017243 -0.04200191]\n",
      "prediction:[[ 0.05943284 -0.02394141]], ground truth:[ 4.09873380e-13 -5.81281568e-02]\n",
      "prediction:[[0.3540799  0.02195956]], ground truth:[0.35644556 0.00636777]\n",
      "prediction:[[0.41602182 0.06518103]], ground truth:[0.4249547  0.05413849]\n",
      "prediction:[[1.0684751  0.06621121]], ground truth:[1.         0.01296327]\n",
      "prediction:[[-0.03565545 -0.09232545]], ground truth:[ 4.94692660e-13 -4.96037369e-02]\n",
      "prediction:[[ 1.0412581  -0.02417692]], ground truth:[ 1.         -0.00370599]\n",
      "prediction:[[0.9985546  0.23713678]], ground truth:[0.99996426 0.22649477]\n",
      "prediction:[[0.3921817  0.02228834]], ground truth:[3.57651344e-01 4.26219437e-05]\n",
      "prediction:[[0.29400325 0.01852754]], ground truth:[ 0.28448046 -0.0015667 ]\n",
      "prediction:[[ 0.9948844 -0.9880783]], ground truth:[ 1. -1.]\n",
      "prediction:[[ 0.00199166 -0.04237993]], ground truth:[ 2.30647106e-15 -3.01443910e-02]\n",
      "prediction:[[ 0.09022314 -0.67089486]], ground truth:[ 0.16531389 -0.6346909 ]\n",
      "prediction:[[ 0.36217707 -0.5959509 ]], ground truth:[1.         0.00864384]\n",
      "prediction:[[ 0.07982156 -0.07085761]], ground truth:[ 3.12304759e-06 -5.35366975e-02]\n",
      "prediction:[[-0.00104893  0.00214104]], ground truth:[ 2.61088651e-16 -7.53663035e-03]\n",
      "prediction:[[ 0.28454888 -0.14371125]], ground truth:[ 0.26152461 -0.10325071]\n",
      "prediction:[[0.4014598  0.00516579]], ground truth:[0.45106952 0.00654685]\n",
      "prediction:[[-0.03347148  0.06981014]], ground truth:[9.15886571e-14 1.51526089e-02]\n"
     ]
    }
   ],
   "source": [
    "for i in range (21):\n",
    "    TEST = random.randint (0, 2900)\n",
    "    test_in, gt_output = val_data[TEST]\n",
    "    test_in = [torch.tensor(x).cuda() for x in test_in]\n",
    "    gt_output = torch.tensor(gt_output).to(device)\n",
    "    output_pred = mynet(test_in) \n",
    "    #print('TEST', TEST)\n",
    "    #print('test_in',test_in)\n",
    "    print('prediction:{}, ground truth:{}'.format(output_pred.cpu().detach().numpy(), gt_output.cpu().detach().numpy()))"
   ]
  },
  {
   "cell_type": "code",
   "execution_count": null,
   "metadata": {},
   "outputs": [],
   "source": []
  }
 ],
 "metadata": {
  "kernelspec": {
   "display_name": "Python 3",
   "language": "python",
   "name": "python3"
  },
  "language_info": {
   "codemirror_mode": {
    "name": "ipython",
    "version": 3
   },
   "file_extension": ".py",
   "mimetype": "text/x-python",
   "name": "python",
   "nbconvert_exporter": "python",
   "pygments_lexer": "ipython3",
   "version": "3.7.11"
  }
 },
 "nbformat": 4,
 "nbformat_minor": 5
}
