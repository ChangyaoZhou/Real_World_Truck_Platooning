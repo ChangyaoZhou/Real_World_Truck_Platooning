{
 "cells": [
  {
   "cell_type": "markdown",
   "metadata": {},
   "source": [
    "### 1 Loading Dataset"
   ]
  },
  {
   "cell_type": "code",
   "execution_count": 1,
   "metadata": {},
   "outputs": [],
   "source": [
    "import numpy as np\n",
    "import random\n",
    "import cv2\n",
    "import matplotlib.pyplot as plt\n",
    "import torch\n",
    "import torch.nn as nn\n",
    "import torch.optim as optim\n",
    "from torch.utils.data import DataLoader\n",
    "import os\n",
    "import random\n",
    "from torchvision import transforms\n",
    "\n",
    "from models.my_datasets import MyDataset2\n",
    "from models.my_models_CNN import MyModel_CNN\n",
    "#from models.my_models_alex import MyModel_CNN\n"
   ]
  },
  {
   "cell_type": "code",
   "execution_count": 2,
   "metadata": {},
   "outputs": [],
   "source": [
    "%load_ext autoreload\n",
    "%autoreload 2"
   ]
  },
  {
   "cell_type": "code",
   "execution_count": 3,
   "metadata": {},
   "outputs": [
    {
     "name": "stdout",
     "output_type": "stream",
     "text": [
      "True\n",
      "cuda:0\n"
     ]
    }
   ],
   "source": [
    "device = torch.device(\"cuda:0\" if torch.cuda.is_available() else \"cpu\")\n",
    "print(torch.cuda.is_available())\n",
    "print(device)"
   ]
  },
  {
   "cell_type": "code",
   "execution_count": 4,
   "metadata": {},
   "outputs": [
    {
     "data": {
      "text/plain": [
       "\"\\nROOT = './output/town04_image_data/images/'\\nOUT = './output/town04_image_data/smallimages/'\\nSIZE = (400,300)\\nimage_paths = os.listdir(ROOT)\\nimage_paths.sort()\\nfor im in image_paths:\\n    #print(im)\\n    img = cv2.imread(ROOT+im)\\n    img = cv2.resize(img, SIZE,  interpolation = cv2.INTER_AREA)\\n    cv2.imwrite(OUT+im, img)\\n\""
      ]
     },
     "execution_count": 4,
     "metadata": {},
     "output_type": "execute_result"
    }
   ],
   "source": [
    "'''\n",
    "ROOT = './output/town04_image_data/images/'\n",
    "OUT = './output/town04_image_data/smallimages/'\n",
    "SIZE = (400,300)\n",
    "image_paths = os.listdir(ROOT)\n",
    "image_paths.sort()\n",
    "for im in image_paths:\n",
    "    #print(im)\n",
    "    img = cv2.imread(ROOT+im)\n",
    "    img = cv2.resize(img, SIZE,  interpolation = cv2.INTER_AREA)\n",
    "    cv2.imwrite(OUT+im, img)\n",
    "'''"
   ]
  },
  {
   "cell_type": "code",
   "execution_count": 5,
   "metadata": {},
   "outputs": [
    {
     "data": {
      "text/plain": [
       "'\\n#### delete the data for the unstored images\\nROOT = \\'./output/town04_image_data/\\'\\nout = open(ROOT+\"alldata.txt\",\\'w\\')\\nlines=[]\\nwith open(ROOT+\"offdata_image.txt\", \\'r\\') as infile:\\n    for line in infile:\\n        line = line.rstrip()\\n        words = line.split()\\n        img = cv2.imread(ROOT+words[0])\\n        if img is None:\\n            pass\\n        else:\\n            out.write(line)\\n            out.write(\\'\\r\\n\\')\\nout.close()\\n'"
      ]
     },
     "execution_count": 5,
     "metadata": {},
     "output_type": "execute_result"
    }
   ],
   "source": [
    "'''\n",
    "#### delete the data for the unstored images\n",
    "ROOT = './output/town04_image_data/'\n",
    "out = open(ROOT+\"alldata.txt\",'w')\n",
    "lines=[]\n",
    "with open(ROOT+\"offdata_image.txt\", 'r') as infile:\n",
    "    for line in infile:\n",
    "        line = line.rstrip()\n",
    "        words = line.split()\n",
    "        img = cv2.imread(ROOT+words[0])\n",
    "        if img is None:\n",
    "            pass\n",
    "        else:\n",
    "            out.write(line)\n",
    "            out.write('\\r\\n')\n",
    "out.close()\n",
    "'''"
   ]
  },
  {
   "cell_type": "code",
   "execution_count": 6,
   "metadata": {},
   "outputs": [
    {
     "data": {
      "text/plain": [
       "'\\n#### compute the delta imformation from the original information\\nROOT = \\'./output/town04_image_data/\\'\\nout = open(ROOT+\"delta.txt\",\\'w\\')\\ndelta_data = np.empty((0,3))\\nwith open(ROOT+\"data_image_all.txt\", \\'r\\') as infile:\\n    for line in infile:\\n        line = line.rstrip()\\n        words = line.split()\\n        newline = np.array([[float(words[1])-float(words[2]), float(words[3]), float(words[4])]])\\n        delta_data = np.append(delta_data, newline, axis=0)\\n        \\nnp.set_printoptions(threshold = np.inf)\\nout.write(str(repr(np.array(delta_data))))\\nout.close()\\n'"
      ]
     },
     "execution_count": 6,
     "metadata": {},
     "output_type": "execute_result"
    }
   ],
   "source": [
    "'''\n",
    "#### compute the delta imformation from the original information\n",
    "ROOT = './output/town04_image_data/'\n",
    "out = open(ROOT+\"delta.txt\",'w')\n",
    "delta_data = np.empty((0,3))\n",
    "with open(ROOT+\"data_image_all.txt\", 'r') as infile:\n",
    "    for line in infile:\n",
    "        line = line.rstrip()\n",
    "        words = line.split()\n",
    "        newline = np.array([[float(words[1])-float(words[2]), float(words[3]), float(words[4])]])\n",
    "        delta_data = np.append(delta_data, newline, axis=0)\n",
    "        \n",
    "np.set_printoptions(threshold = np.inf)\n",
    "out.write(str(repr(np.array(delta_data))))\n",
    "out.close()\n",
    "'''"
   ]
  },
  {
   "cell_type": "code",
   "execution_count": 7,
   "metadata": {},
   "outputs": [
    {
     "name": "stdout",
     "output_type": "stream",
     "text": [
      "images_off/traj3_000130_03_05.png -15.400992393493652 -243.2406005859375 1.716253525003117 14.71961465378797 -13.507819175720215 -254.91734313964844 2.242531307499981 10.858845505013758 0.999999999998921 -0.6993662381710568\n",
      "\n",
      "images_off/traj1_000560_04_01.png -3.52687931060791 -288.6733093261719 2.0606214260810285 9.935275923985431 -0.9093541502952576 -297.00396728515625 2.176896903486651 10.424831968028455 1.9976255905848633e-14 -0.9999999999999425\n",
      "\n",
      "images_on/000122_2.png 382.0631103515625 -183.5748748779297 1.5544274734708337 4.939576285193618 382.1448669433594 -191.1739959716797 1.5923080105000116 4.986300537786222 0.2889066660118707 -0.008141696205994675\n",
      "\n",
      "images_off/pjx_3_000760_02_12.png 334.88427734375 -123.30331420898438 3.06692880190055 4.9057189185027035 342.30889892578125 -123.26493835449219 2.1904843513682355 5.1108169200676725 0.07511022391559222 0.9999999999999616\n",
      "\n",
      "images_off/pjx_1_000550_10_12.png 382.2666015625 -196.11941528320312 1.6022976609069535 4.9378006346758445 381.37652587890625 -204.42626953125 1.3745254823557462 4.148059173895941 0.9999999999999984 0.12587970683932462\n",
      "\n",
      "images_off/traj2_000310_06_08.png -154.89781188964844 -123.68549346923828 2.6195457019586836 9.828894462537967 -147.75457763671875 -129.6750030517578 2.9463304814135105 7.836009958939835 1.0 -0.9999999999999981\n",
      "\n",
      "images_off/traj1_000690_03_17.png -120.95174407958984 -141.84519958496094 2.510810166231293 11.951344070996946 -111.58804321289062 -149.02442932128906 2.440460901824087 11.955001193491983 0.6859259474903318 0.026702265788483275\n",
      "\n",
      "images_off/traj1_000670_05_10.png -96.30934143066406 -163.01467895507812 2.3527550176445073 12.165033646338651 -88.00882720947266 -172.0624237060547 2.402091941050988 9.688015799065662 1.0 -0.1568571777995687\n",
      "\n",
      "images_off/pjx_2_000740_10_07.png 325.25811767578125 -194.82786560058594 -1.8796198157518478 4.940407653523852 327.3814697265625 -188.71107482910156 -1.9230281430976486 3.3772246806674033 0.9999999999999999 0.029601212057027648\n",
      "\n",
      "images_off/traj1_000790_07_09.png -142.3097381591797 -135.86143493652344 2.588815752456368 9.830207736207141 -134.43441772460938 -142.199462890625 -2.805724097972815 6.326271651970146 0.999999999999091 -0.9999999999994394\n",
      "\n",
      "images_off/traj1_000090_06_10.png 187.25177001953125 -395.9090270996094 -3.133739257851259 4.939648719933782 194.88156127929688 -396.72283935546875 2.943931772219676 4.931794311526913 0.3618735635261773 0.08532141910286713\n",
      "\n"
     ]
    }
   ],
   "source": [
    "#preprocess the txt file\n",
    "ROOT = './output/town04_data/trajectory1_pjx/'\n",
    "train_out = open(ROOT+\"traindata_shuffle.txt\",'w')\n",
    "val_out = open(ROOT+\"valdata_shuffle.txt\",'w')\n",
    "over_out = open(ROOT+\"overdata_shuffle.txt\",'w')\n",
    "lines=[]\n",
    "with open(ROOT+\"data_all.txt\", 'r') as infile:\n",
    "    for line in infile:\n",
    "        lines.append(line)\n",
    "    random.shuffle(lines)\n",
    "    num_train = np.ceil(0.85*len(lines))\n",
    "    for count, line in enumerate(lines):\n",
    "        if count <=num_train:\n",
    "            if count>=25 and count<=35:\n",
    "                print(line)\n",
    "                over_out.write(line)\n",
    "            train_out.write(line)\n",
    "        else:\n",
    "            val_out.write(line) \n",
    "train_out.close()            \n",
    "val_out.close()\n",
    "over_out.close()        "
   ]
  },
  {
   "cell_type": "code",
   "execution_count": 8,
   "metadata": {},
   "outputs": [
    {
     "name": "stdout",
     "output_type": "stream",
     "text": [
      "Overfit size: 11\n",
      "Train size: 53626\n",
      "Validation size: 9462\n"
     ]
    }
   ],
   "source": [
    "TRANSFORM = transforms.Compose([#transforms.Grayscale(num_output_channels=3),\n",
    "                                transforms.ToTensor(),\n",
    "                                transforms.Normalize((0.5,), (0.5, ))])\n",
    "\n",
    "                                #transforms.Normalize([0.485, 0.456, 0.406],[0.229, 0.224, 0.225])])\n",
    "SIZE = (200,150)\n",
    "over_data = MyDataset2(root = ROOT, txtname = 'overdata_shuffle.txt', transform=TRANSFORM, size=SIZE)\n",
    "train_data = MyDataset2(root = ROOT, txtname = 'traindata_shuffle.txt' , transform = TRANSFORM, size= SIZE)\n",
    "val_data = MyDataset2(root = ROOT, txtname = 'valdata_shuffle.txt', transform = TRANSFORM, size= SIZE)\n",
    "over_loader = DataLoader(dataset=over_data, batch_size=32, shuffle=True)\n",
    "train_loader = DataLoader(dataset=train_data, batch_size=32, shuffle=True)\n",
    "val_loader = DataLoader(dataset=val_data, batch_size=32, shuffle=True)\n",
    "print(\"Overfit size: %i\" % len(over_data))\n",
    "print(\"Train size: %i\" % len(train_data))\n",
    "print(\"Validation size: %i\" % len(val_data))"
   ]
  },
  {
   "cell_type": "code",
   "execution_count": 9,
   "metadata": {},
   "outputs": [
    {
     "name": "stdout",
     "output_type": "stream",
     "text": [
      "torch.Size([1, 150, 200])\n"
     ]
    },
    {
     "ename": "error",
     "evalue": "OpenCV(4.5.4) :-1: error: (-5:Bad argument) in function 'imshow'\n> Overload resolution failed:\n>  - mat is not a numpy array, neither a scalar\n>  - Expected Ptr<cv::cuda::GpuMat> for argument 'mat'\n>  - Expected Ptr<cv::UMat> for argument 'mat'\n",
     "output_type": "error",
     "traceback": [
      "\u001b[0;31m---------------------------------------------------------------------------\u001b[0m",
      "\u001b[0;31merror\u001b[0m                                     Traceback (most recent call last)",
      "\u001b[0;32m<ipython-input-9-550740790079>\u001b[0m in \u001b[0;36m<module>\u001b[0;34m\u001b[0m\n\u001b[1;32m      1\u001b[0m \u001b[0mprint\u001b[0m\u001b[0;34m(\u001b[0m\u001b[0mover_data\u001b[0m\u001b[0;34m[\u001b[0m\u001b[0;36m0\u001b[0m\u001b[0;34m]\u001b[0m\u001b[0;34m[\u001b[0m\u001b[0;36m0\u001b[0m\u001b[0;34m]\u001b[0m\u001b[0;34m[\u001b[0m\u001b[0;36m0\u001b[0m\u001b[0;34m]\u001b[0m\u001b[0;34m.\u001b[0m\u001b[0mshape\u001b[0m\u001b[0;34m)\u001b[0m\u001b[0;34m\u001b[0m\u001b[0;34m\u001b[0m\u001b[0m\n\u001b[0;32m----> 2\u001b[0;31m \u001b[0mcv2\u001b[0m\u001b[0;34m.\u001b[0m\u001b[0mimshow\u001b[0m\u001b[0;34m(\u001b[0m\u001b[0;34m'Window'\u001b[0m\u001b[0;34m,\u001b[0m\u001b[0mover_data\u001b[0m\u001b[0;34m[\u001b[0m\u001b[0;36m0\u001b[0m\u001b[0;34m]\u001b[0m\u001b[0;34m[\u001b[0m\u001b[0;36m0\u001b[0m\u001b[0;34m]\u001b[0m\u001b[0;34m[\u001b[0m\u001b[0;36m0\u001b[0m\u001b[0;34m]\u001b[0m\u001b[0;34m)\u001b[0m\u001b[0;34m\u001b[0m\u001b[0;34m\u001b[0m\u001b[0m\n\u001b[0m\u001b[1;32m      3\u001b[0m \u001b[0mcv2\u001b[0m\u001b[0;34m.\u001b[0m\u001b[0mwaitKey\u001b[0m\u001b[0;34m(\u001b[0m\u001b[0;36m0\u001b[0m\u001b[0;34m)\u001b[0m\u001b[0;34m\u001b[0m\u001b[0;34m\u001b[0m\u001b[0m\n\u001b[1;32m      4\u001b[0m \u001b[0mcv2\u001b[0m\u001b[0;34m.\u001b[0m\u001b[0mdestroyAllWindows\u001b[0m\u001b[0;34m(\u001b[0m\u001b[0;34m)\u001b[0m\u001b[0;34m\u001b[0m\u001b[0;34m\u001b[0m\u001b[0m\n",
      "\u001b[0;31merror\u001b[0m: OpenCV(4.5.4) :-1: error: (-5:Bad argument) in function 'imshow'\n> Overload resolution failed:\n>  - mat is not a numpy array, neither a scalar\n>  - Expected Ptr<cv::cuda::GpuMat> for argument 'mat'\n>  - Expected Ptr<cv::UMat> for argument 'mat'\n"
     ]
    }
   ],
   "source": [
    "print(over_data[0][0][0].shape)\n",
    "cv2.imshow('Window',over_data[0][0][0])\n",
    "cv2.waitKey(0)\n",
    "cv2.destroyAllWindows()"
   ]
  },
  {
   "cell_type": "markdown",
   "metadata": {},
   "source": [
    "### 2 Defining Neural Network"
   ]
  },
  {
   "cell_type": "code",
   "execution_count": 10,
   "metadata": {},
   "outputs": [
    {
     "name": "stdout",
     "output_type": "stream",
     "text": [
      "MyModel_CNN(\n",
      "  (expands): Conv2d(1, 3, kernel_size=(3, 3), stride=(1, 1), padding=(1, 1))\n",
      "  (features): Sequential(\n",
      "    (0): Conv2d(3, 64, kernel_size=(11, 11), stride=(4, 4), padding=(2, 2))\n",
      "    (1): ReLU(inplace=True)\n",
      "    (2): MaxPool2d(kernel_size=3, stride=2, padding=0, dilation=1, ceil_mode=False)\n",
      "    (3): Conv2d(64, 192, kernel_size=(5, 5), stride=(1, 1), padding=(2, 2))\n",
      "    (4): ReLU(inplace=True)\n",
      "    (5): MaxPool2d(kernel_size=3, stride=2, padding=0, dilation=1, ceil_mode=False)\n",
      "    (6): Conv2d(192, 384, kernel_size=(3, 3), stride=(1, 1), padding=(1, 1))\n",
      "    (7): ReLU(inplace=True)\n",
      "    (8): Conv2d(384, 256, kernel_size=(3, 3), stride=(1, 1), padding=(1, 1))\n",
      "    (9): ReLU(inplace=True)\n",
      "    (10): Conv2d(256, 256, kernel_size=(3, 3), stride=(1, 1), padding=(1, 1))\n",
      "    (11): ReLU(inplace=True)\n",
      "    (12): MaxPool2d(kernel_size=3, stride=2, padding=0, dilation=1, ceil_mode=False)\n",
      "  )\n",
      "  (predict): Sequential(\n",
      "    (0): Flatten(start_dim=1, end_dim=-1)\n",
      "    (1): Linear(in_features=3870, out_features=512, bias=True)\n",
      "    (2): ReLU()\n",
      "    (3): Linear(in_features=512, out_features=2, bias=True)\n",
      "  )\n",
      ")\n"
     ]
    }
   ],
   "source": [
    "mynet= MyModel_CNN().to(device)\n",
    "print(mynet)"
   ]
  },
  {
   "cell_type": "code",
   "execution_count": 11,
   "metadata": {},
   "outputs": [
    {
     "name": "stdout",
     "output_type": "stream",
     "text": [
      "4,452,704 total parameters.\n",
      "4,452,704 trainable parameters.\n"
     ]
    }
   ],
   "source": [
    "total_params = sum(p.numel() for p in mynet.parameters())\n",
    "print(f'{total_params:,} total parameters.')\n",
    "total_trainable_params = sum(\n",
    "    p.numel() for p in mynet.parameters() if p.requires_grad)\n",
    "print(f'{total_trainable_params:,} trainable parameters.')"
   ]
  },
  {
   "cell_type": "markdown",
   "metadata": {},
   "source": [
    "### 3 Training Neural network"
   ]
  },
  {
   "cell_type": "code",
   "execution_count": 12,
   "metadata": {},
   "outputs": [],
   "source": [
    "mycriterion = nn.MSELoss(reduction='mean') \n",
    "myoptimizer = optim.Adam(mynet.parameters(), lr=1e-6, eps = 1e-08) "
   ]
  },
  {
   "cell_type": "code",
   "execution_count": 13,
   "metadata": {
    "scrolled": true
   },
   "outputs": [],
   "source": [
    "def run_epoch(model,criterion,optimizer,dataloader,iftrain):    \n",
    "    running_loss1 = 0.0  \n",
    "    running_loss2 = 0.0\n",
    "    #Iterating through the minibatches of the data\n",
    "    for i, data in enumerate(dataloader, 0): \n",
    "        X, y1, y2 = data\n",
    "        X = [x.cuda() for x in X]\n",
    "        y1 = y1.to(device).float()\n",
    "        y2 = y2.to(device).float()\n",
    "        #Y = [y.cuda() for y in Y]\n",
    "        #X = torch.tensor(X)\n",
    "        #Y = torch.as_tensor(np.array(Y))\n",
    "        #print(X.shape)\n",
    "        if iftrain:  \n",
    "            optimizer.zero_grad()\n",
    "            y_pred = model(X)\n",
    "            y_pred1 = y_pred[:,0].float()\n",
    "            y_pred2 = y_pred[:,1].float()\n",
    "            loss1 = criterion(y_pred1, y1)\n",
    "            loss2 = criterion(y_pred2, y2) \n",
    "            loss = loss1 + loss2\n",
    "            #print(y)\n",
    "            #print(y_pred)\n",
    "            loss.backward()             \n",
    "            optimizer.step()            \n",
    "            running_loss1 += loss1.item() \n",
    "            running_loss2 += loss2.item() \n",
    "            #print('x', X[1])\n",
    "            #print('prediction', y_pred)\n",
    "            #print('gt', y)\n",
    "        else:\n",
    "            y_pred = y_pred = model(X)\n",
    "            y_pred1 = y_pred[:,0].float()\n",
    "            y_pred2 = y_pred[:,1].float()\n",
    "            loss1 = criterion(y_pred1, y1)\n",
    "            loss2 = criterion(y_pred2, y2) \n",
    "            loss = loss1 + loss2 \n",
    "            running_loss1 += loss1.item() \n",
    "            running_loss2 += loss2.item()     \n",
    "    return running_loss1, running_loss2"
   ]
  },
  {
   "cell_type": "code",
   "execution_count": 14,
   "metadata": {
    "scrolled": true
   },
   "outputs": [
    {
     "name": "stdout",
     "output_type": "stream",
     "text": [
      "Epoch  10/200 \n",
      "Throttle: train_loss: 3.551230e-02, val_loss: 2.596163e-02 \n",
      "Steering Angle: train_loss: 3.856241e-02, val_loss: 1.803605e-02 \n",
      "Epoch  20/200 \n",
      "Throttle: train_loss: 8.009193e-03, val_loss: 2.785644e-03 \n",
      "Steering Angle: train_loss: 7.589693e-03, val_loss: 4.245000e-03 \n",
      "Epoch  30/200 \n",
      "Throttle: train_loss: 4.599959e-03, val_loss: 3.907646e-03 \n",
      "Steering Angle: train_loss: 2.240815e-03, val_loss: 1.333040e-03 \n",
      "Epoch  40/200 \n",
      "Throttle: train_loss: 8.503094e-04, val_loss: 1.316443e-03 \n",
      "Steering Angle: train_loss: 5.701184e-04, val_loss: 6.492198e-04 \n",
      "Epoch  50/200 \n",
      "Throttle: train_loss: 1.680560e-04, val_loss: 1.728353e-04 \n",
      "Steering Angle: train_loss: 3.128790e-04, val_loss: 1.996357e-04 \n",
      "Epoch  60/200 \n",
      "Throttle: train_loss: 1.674888e-04, val_loss: 9.360404e-05 \n",
      "Steering Angle: train_loss: 1.032663e-04, val_loss: 6.960880e-05 \n",
      "Epoch  70/200 \n",
      "Throttle: train_loss: 6.714362e-05, val_loss: 5.142192e-05 \n",
      "Steering Angle: train_loss: 3.441020e-05, val_loss: 2.698964e-05 \n",
      "Epoch  80/200 \n",
      "Throttle: train_loss: 1.358673e-05, val_loss: 1.545806e-05 \n",
      "Steering Angle: train_loss: 1.149561e-05, val_loss: 1.421738e-05 \n",
      "Epoch  90/200 \n",
      "Throttle: train_loss: 4.661799e-06, val_loss: 8.799079e-06 \n",
      "Steering Angle: train_loss: 3.391210e-06, val_loss: 2.939187e-06 \n",
      "Epoch 100/200 \n",
      "Throttle: train_loss: 1.732654e-06, val_loss: 2.560651e-06 \n",
      "Steering Angle: train_loss: 1.067747e-06, val_loss: 1.432556e-06 \n",
      "Epoch 110/200 \n",
      "Throttle: train_loss: 3.723572e-07, val_loss: 7.736620e-07 \n",
      "Steering Angle: train_loss: 5.660973e-07, val_loss: 6.663215e-07 \n",
      "Epoch 120/200 \n",
      "Throttle: train_loss: 3.855643e-07, val_loss: 3.955166e-07 \n",
      "Steering Angle: train_loss: 1.930906e-07, val_loss: 2.221608e-07 \n",
      "Epoch 130/200 \n",
      "Throttle: train_loss: 9.940499e-08, val_loss: 8.141624e-08 \n",
      "Steering Angle: train_loss: 1.365463e-07, val_loss: 7.829101e-08 \n",
      "Epoch 140/200 \n",
      "Throttle: train_loss: 5.374540e-08, val_loss: 1.869622e-08 \n",
      "Steering Angle: train_loss: 1.862806e-08, val_loss: 1.529555e-08 \n",
      "Epoch 150/200 \n",
      "Throttle: train_loss: 7.500079e-09, val_loss: 6.171535e-09 \n",
      "Steering Angle: train_loss: 5.951547e-09, val_loss: 4.479698e-09 \n",
      "Epoch 160/200 \n",
      "Throttle: train_loss: 2.000428e-09, val_loss: 5.368738e-09 \n",
      "Steering Angle: train_loss: 3.084351e-09, val_loss: 3.938038e-09 \n",
      "Epoch 170/200 \n",
      "Throttle: train_loss: 1.737775e-09, val_loss: 1.089986e-09 \n",
      "Steering Angle: train_loss: 1.556821e-09, val_loss: 1.309123e-09 \n",
      "Epoch 180/200 \n",
      "Throttle: train_loss: 5.242605e-10, val_loss: 4.285202e-11 \n",
      "Steering Angle: train_loss: 3.519947e-10, val_loss: 4.316924e-10 \n",
      "Epoch 190/200 \n",
      "Throttle: train_loss: 7.403768e-11, val_loss: 1.530459e-10 \n",
      "Steering Angle: train_loss: 1.313192e-10, val_loss: 2.252519e-10 \n",
      "Epoch 200/200 \n",
      "Throttle: train_loss: 1.154201e-10, val_loss: 5.837738e-11 \n",
      "Steering Angle: train_loss: 3.489441e-11, val_loss: 2.545852e-11 \n"
     ]
    }
   ],
   "source": [
    "# test if the model will overfit with only one sample\n",
    "max_epochs = 200\n",
    "train_history_th = []\n",
    "train_history_st = []\n",
    "val_history_th = []\n",
    "val_history_st = []\n",
    "myoptimizer = optim.Adam(mynet.parameters(), lr=1e-4, eps = 1e-08) \n",
    "#scheduler = optim.lr_scheduler.CosineAnnealingLR(myoptimizer, max_epochs)\n",
    "for epoch in range(max_epochs): \n",
    "    '''\n",
    "    if epoch >= 1999 and epoch <= 2999:\n",
    "        myoptimizer.param_groups[0]['lr'] = 1e-5\n",
    "    elif epoch > 2999:\n",
    "        myoptimizer.param_groups[0]['lr'] = 1e-6\n",
    "    scheduler.step()\n",
    "    '''\n",
    "    train_loss1, train_loss2 = run_epoch(model=mynet,criterion=mycriterion,\n",
    "                           optimizer=myoptimizer,dataloader=over_loader,\n",
    "                           iftrain=True)\n",
    "    train_history_th.append(train_loss1)\n",
    "    train_history_st.append(train_loss2)\n",
    "    val_loss1, val_loss2 =  run_epoch(model=mynet,criterion=mycriterion,\n",
    "                           optimizer=myoptimizer,dataloader=over_loader,\n",
    "                           iftrain=False)\n",
    "    val_history_th.append(val_loss1)\n",
    "    val_history_st.append(val_loss2)\n",
    "    if epoch % 10 == 9:\n",
    "        print(f\"Epoch {epoch + 1: >3}/{max_epochs} \\nThrottle: train_loss: %2e, val_loss: %2e \\nSteering Angle: train_loss: %2e, val_loss: %2e \"% \n",
    "          (train_loss1, val_loss1, train_loss2, val_loss2))\n",
    "        #print(scheduler.get_last_lr())"
   ]
  },
  {
   "cell_type": "code",
   "execution_count": 15,
   "metadata": {},
   "outputs": [
    {
     "data": {
      "image/png": "[encoded data removed]",
      "text/plain": [
       "<Figure size 640x480 with 1 Axes>"
      ]
     },
     "metadata": {},
     "output_type": "display_data"
    }
   ],
   "source": [
    "# plot the train&validation loss curve with only one sample\n",
    "epochs = range(len(train_history_th))\n",
    "plt.figure()\n",
    "plt.plot(epochs, train_history_th, 'bo', label='Training loss')\n",
    "plt.plot(epochs, val_history_th, 'b', label='Validation loss')\n",
    "plt.title('Training and validation loss')\n",
    "\n",
    "plt.legend()\n",
    "plt.show()"
   ]
  },
  {
   "cell_type": "code",
   "execution_count": 16,
   "metadata": {},
   "outputs": [
    {
     "name": "stdout",
     "output_type": "stream",
     "text": [
      "test_in tensor(4.9378, device='cuda:0')\n",
      "prediction:[[1.0000051  0.12588508]], ground truth:tensor([1.0000, 0.1259], device='cuda:0', dtype=torch.float64)\n"
     ]
    },
    {
     "name": "stderr",
     "output_type": "stream",
     "text": [
      "/home/melina/.local/lib/python3.7/site-packages/ipykernel_launcher.py:4: UserWarning: To copy construct from a tensor, it is recommended to use sourceTensor.clone().detach() or sourceTensor.clone().detach().requires_grad_(True), rather than torch.tensor(sourceTensor).\n",
      "  after removing the cwd from sys.path.\n"
     ]
    }
   ],
   "source": [
    "mynet.eval()\n",
    "TEST = random.randint (0, 11)\n",
    "test_in, gt_th, gt_st = over_data[TEST]\n",
    "test_in = [torch.tensor(x).cuda() for x in test_in]\n",
    "gt_output = [gt_th, gt_st]\n",
    "gt_output = torch.tensor(gt_output).to(device)\n",
    "output_pred = mynet(test_in) \n",
    "#print('TEST', TEST)\n",
    "print('test_in',test_in[1])\n",
    "print('prediction:{}, ground truth:{}'.format(output_pred.cpu().detach().numpy(), gt_output))"
   ]
  },
  {
   "cell_type": "code",
   "execution_count": 17,
   "metadata": {},
   "outputs": [],
   "source": [
    "# start the main training process\n",
    "\n",
    "num_trainbatch = np.ceil(len(train_data)/32) \n",
    "num_valbatch = np.ceil(len(val_data)/32) \n",
    "train_history_th = []\n",
    "train_history_st = []\n",
    "val_history_th = []\n",
    "val_history_st = []\n",
    "\n",
    "min_loss = 100000\n",
    "current_patience = 0\n",
    "patience = 5\n",
    "\n"
   ]
  },
  {
   "cell_type": "code",
   "execution_count": null,
   "metadata": {
    "scrolled": false
   },
   "outputs": [
    {
     "name": "stdout",
     "output_type": "stream",
     "text": [
      "Start training!\n",
      "Epoch   1/50 \n",
      "Throttle: train_loss: 1.179720e-03, val_loss: 1.870404e-02 \n",
      "Steering Angle: train_loss: 9.680483e-04, val_loss: 1.899589e-02 \n",
      "Epoch   2/50 \n",
      "Throttle: train_loss: 9.606909e-04, val_loss: 1.848582e-02 \n",
      "Steering Angle: train_loss: 8.160327e-04, val_loss: 1.899466e-02 \n",
      "Epoch   3/50 \n",
      "Throttle: train_loss: 8.516125e-04, val_loss: 1.842337e-02 \n",
      "Steering Angle: train_loss: 7.380844e-04, val_loss: 1.887489e-02 \n",
      "Epoch   4/50 \n",
      "Throttle: train_loss: 7.730620e-04, val_loss: 1.834213e-02 \n",
      "Steering Angle: train_loss: 6.810806e-04, val_loss: 1.880180e-02 \n",
      "Epoch   5/50 \n",
      "Throttle: train_loss: 7.082921e-04, val_loss: 1.823465e-02 \n",
      "Steering Angle: train_loss: 6.359492e-04, val_loss: 1.905984e-02 \n",
      "Epoch   6/50 \n",
      "Throttle: train_loss: 6.564486e-04, val_loss: 1.824716e-02 \n",
      "Steering Angle: train_loss: 5.977653e-04, val_loss: 1.877883e-02 \n",
      "Epoch   7/50 \n",
      "Throttle: train_loss: 6.125620e-04, val_loss: 1.816603e-02 \n",
      "Steering Angle: train_loss: 5.650095e-04, val_loss: 1.873514e-02 \n",
      "Epoch   8/50 \n",
      "Throttle: train_loss: 5.741508e-04, val_loss: 1.817188e-02 \n",
      "Steering Angle: train_loss: 5.362897e-04, val_loss: 1.872660e-02 \n",
      "Epoch   9/50 \n",
      "Throttle: train_loss: 5.392427e-04, val_loss: 1.812803e-02 \n",
      "Steering Angle: train_loss: 5.113611e-04, val_loss: 1.871875e-02 \n",
      "Epoch  10/50 \n",
      "Throttle: train_loss: 5.083495e-04, val_loss: 1.811249e-02 \n",
      "Steering Angle: train_loss: 4.890122e-04, val_loss: 1.867754e-02 \n",
      "Epoch  11/50 \n",
      "Throttle: train_loss: 4.792790e-04, val_loss: 1.809903e-02 \n",
      "Steering Angle: train_loss: 4.681835e-04, val_loss: 1.868321e-02 \n",
      "Epoch  12/50 \n",
      "Throttle: train_loss: 4.542115e-04, val_loss: 1.804533e-02 \n",
      "Steering Angle: train_loss: 4.493439e-04, val_loss: 1.866059e-02 \n",
      "Epoch  13/50 \n",
      "Throttle: train_loss: 4.306967e-04, val_loss: 1.806022e-02 \n",
      "Steering Angle: train_loss: 4.324253e-04, val_loss: 1.866434e-02 \n",
      "Epoch  14/50 \n",
      "Throttle: train_loss: 4.087226e-04, val_loss: 1.802219e-02 \n",
      "Steering Angle: train_loss: 4.164948e-04, val_loss: 1.866452e-02 \n",
      "Epoch  15/50 \n",
      "Throttle: train_loss: 3.886295e-04, val_loss: 1.798847e-02 \n",
      "Steering Angle: train_loss: 4.016014e-04, val_loss: 1.862194e-02 \n",
      "Epoch  16/50 \n",
      "Throttle: train_loss: 3.697910e-04, val_loss: 1.798732e-02 \n",
      "Steering Angle: train_loss: 3.882279e-04, val_loss: 1.861113e-02 \n",
      "Epoch  17/50 \n",
      "Throttle: train_loss: 3.523713e-04, val_loss: 1.797821e-02 \n",
      "Steering Angle: train_loss: 3.755851e-04, val_loss: 1.862427e-02 \n",
      "Epoch  18/50 \n",
      "Throttle: train_loss: 3.359503e-04, val_loss: 1.795725e-02 \n",
      "Steering Angle: train_loss: 3.630380e-04, val_loss: 1.860624e-02 \n",
      "Epoch  19/50 \n",
      "Throttle: train_loss: 3.205323e-04, val_loss: 1.794415e-02 \n",
      "Steering Angle: train_loss: 3.524941e-04, val_loss: 1.861158e-02 \n"
     ]
    }
   ],
   "source": [
    "myoptimizer = optim.Adam(mynet.parameters(), lr=1e-6, eps = 1e-08) \n",
    "max_epochs = 50\n",
    "print('Start training!')\n",
    "for epoch in range(max_epochs): \n",
    "    '''\n",
    "    if epoch >= 29 and epoch <= 39:\n",
    "        myoptimizer.param_groups[0]['lr'] = 1e-5\n",
    "    elif epoch > 39:\n",
    "        myoptimizer.param_groups[0]['lr'] = 1e-6\n",
    "    '''\n",
    "    train_loss1, train_loss2 = run_epoch(model=mynet,criterion=mycriterion,\n",
    "                           optimizer=myoptimizer,dataloader=train_loader,\n",
    "                           iftrain=True)\n",
    "    train_history_th.append(train_loss1/num_trainbatch)\n",
    "    train_history_st.append(train_loss2/num_trainbatch)\n",
    "    val_loss1, val_loss2 =  run_epoch(model=mynet,criterion=mycriterion,\n",
    "                           optimizer=myoptimizer,dataloader=val_loader,\n",
    "                           iftrain=False)\n",
    "    val_history_th.append(val_loss1/num_valbatch)\n",
    "    val_history_st.append(val_loss2/num_valbatch)\n",
    "    #if epoch % 10 == 9:\n",
    "    print(f\"Epoch {epoch + 1: >3}/{max_epochs} \\nThrottle: train_loss: %2e, val_loss: %2e \\nSteering Angle: train_loss: %2e, val_loss: %2e \"% \n",
    "          (train_loss1/num_trainbatch, val_loss1/num_valbatch, train_loss2/num_trainbatch, val_loss2/num_valbatch))\n",
    "'''\n",
    "    # early stopping\n",
    "    if min_loss == 100000 or val_loss < min_loss :\n",
    "        min_loss = val_loss\n",
    "        current_patience = 0\n",
    "        torch.save(mynet.state_dict(),'mynet.pth')\n",
    "      \n",
    "    else :\n",
    "        current_patience += 1 \n",
    "        if current_patience >= patience :\n",
    "            print(\"Stopping early at epoch {}!\".format(epoch+1)) \n",
    "            break   '''\n",
    "\n",
    "print('FINISH.')"
   ]
  },
  {
   "cell_type": "code",
   "execution_count": 23,
   "metadata": {
    "scrolled": false
   },
   "outputs": [
    {
     "ename": "ValueError",
     "evalue": "x and y must have same first dimension, but have shapes (23,) and (22,)",
     "output_type": "error",
     "traceback": [
      "\u001b[0;31m---------------------------------------------------------------------------\u001b[0m",
      "\u001b[0;31mValueError\u001b[0m                                Traceback (most recent call last)",
      "\u001b[0;32m<ipython-input-23-392afcb78ba1>\u001b[0m in \u001b[0;36m<module>\u001b[0;34m\u001b[0m\n\u001b[1;32m      3\u001b[0m \u001b[0mplt\u001b[0m\u001b[0;34m.\u001b[0m\u001b[0mfigure\u001b[0m\u001b[0;34m(\u001b[0m\u001b[0;34m)\u001b[0m\u001b[0;34m\u001b[0m\u001b[0;34m\u001b[0m\u001b[0m\n\u001b[1;32m      4\u001b[0m \u001b[0mplt\u001b[0m\u001b[0;34m.\u001b[0m\u001b[0mplot\u001b[0m\u001b[0;34m(\u001b[0m\u001b[0mepochs\u001b[0m\u001b[0;34m,\u001b[0m \u001b[0mtrain_history_th\u001b[0m\u001b[0;34m,\u001b[0m \u001b[0;34m'b'\u001b[0m\u001b[0;34m,\u001b[0m \u001b[0mlabel\u001b[0m\u001b[0;34m=\u001b[0m\u001b[0;34m'Training loss'\u001b[0m\u001b[0;34m)\u001b[0m\u001b[0;34m\u001b[0m\u001b[0;34m\u001b[0m\u001b[0m\n\u001b[0;32m----> 5\u001b[0;31m \u001b[0mplt\u001b[0m\u001b[0;34m.\u001b[0m\u001b[0mplot\u001b[0m\u001b[0;34m(\u001b[0m\u001b[0mepochs\u001b[0m\u001b[0;34m,\u001b[0m \u001b[0mval_history_th\u001b[0m\u001b[0;34m,\u001b[0m \u001b[0;34m'r'\u001b[0m\u001b[0;34m,\u001b[0m \u001b[0mlabel\u001b[0m\u001b[0;34m=\u001b[0m\u001b[0;34m'Validation loss'\u001b[0m\u001b[0;34m)\u001b[0m\u001b[0;34m\u001b[0m\u001b[0;34m\u001b[0m\u001b[0m\n\u001b[0m\u001b[1;32m      6\u001b[0m \u001b[0mplt\u001b[0m\u001b[0;34m.\u001b[0m\u001b[0mtitle\u001b[0m\u001b[0;34m(\u001b[0m\u001b[0;34m'Training and validation loss'\u001b[0m\u001b[0;34m)\u001b[0m\u001b[0;34m\u001b[0m\u001b[0;34m\u001b[0m\u001b[0m\n\u001b[1;32m      7\u001b[0m \u001b[0;34m\u001b[0m\u001b[0m\n",
      "\u001b[0;32m~/anaconda3/envs/intellisys/lib/python3.7/site-packages/matplotlib/pyplot.py\u001b[0m in \u001b[0;36mplot\u001b[0;34m(scalex, scaley, data, *args, **kwargs)\u001b[0m\n\u001b[1;32m   2757\u001b[0m     return gca().plot(\n\u001b[1;32m   2758\u001b[0m         \u001b[0;34m*\u001b[0m\u001b[0margs\u001b[0m\u001b[0;34m,\u001b[0m \u001b[0mscalex\u001b[0m\u001b[0;34m=\u001b[0m\u001b[0mscalex\u001b[0m\u001b[0;34m,\u001b[0m \u001b[0mscaley\u001b[0m\u001b[0;34m=\u001b[0m\u001b[0mscaley\u001b[0m\u001b[0;34m,\u001b[0m\u001b[0;34m\u001b[0m\u001b[0;34m\u001b[0m\u001b[0m\n\u001b[0;32m-> 2759\u001b[0;31m         **({\"data\": data} if data is not None else {}), **kwargs)\n\u001b[0m\u001b[1;32m   2760\u001b[0m \u001b[0;34m\u001b[0m\u001b[0m\n\u001b[1;32m   2761\u001b[0m \u001b[0;34m\u001b[0m\u001b[0m\n",
      "\u001b[0;32m~/anaconda3/envs/intellisys/lib/python3.7/site-packages/matplotlib/axes/_axes.py\u001b[0m in \u001b[0;36mplot\u001b[0;34m(self, scalex, scaley, data, *args, **kwargs)\u001b[0m\n\u001b[1;32m   1630\u001b[0m         \"\"\"\n\u001b[1;32m   1631\u001b[0m         \u001b[0mkwargs\u001b[0m \u001b[0;34m=\u001b[0m \u001b[0mcbook\u001b[0m\u001b[0;34m.\u001b[0m\u001b[0mnormalize_kwargs\u001b[0m\u001b[0;34m(\u001b[0m\u001b[0mkwargs\u001b[0m\u001b[0;34m,\u001b[0m \u001b[0mmlines\u001b[0m\u001b[0;34m.\u001b[0m\u001b[0mLine2D\u001b[0m\u001b[0;34m)\u001b[0m\u001b[0;34m\u001b[0m\u001b[0;34m\u001b[0m\u001b[0m\n\u001b[0;32m-> 1632\u001b[0;31m         \u001b[0mlines\u001b[0m \u001b[0;34m=\u001b[0m \u001b[0;34m[\u001b[0m\u001b[0;34m*\u001b[0m\u001b[0mself\u001b[0m\u001b[0;34m.\u001b[0m\u001b[0m_get_lines\u001b[0m\u001b[0;34m(\u001b[0m\u001b[0;34m*\u001b[0m\u001b[0margs\u001b[0m\u001b[0;34m,\u001b[0m \u001b[0mdata\u001b[0m\u001b[0;34m=\u001b[0m\u001b[0mdata\u001b[0m\u001b[0;34m,\u001b[0m \u001b[0;34m**\u001b[0m\u001b[0mkwargs\u001b[0m\u001b[0;34m)\u001b[0m\u001b[0;34m]\u001b[0m\u001b[0;34m\u001b[0m\u001b[0;34m\u001b[0m\u001b[0m\n\u001b[0m\u001b[1;32m   1633\u001b[0m         \u001b[0;32mfor\u001b[0m \u001b[0mline\u001b[0m \u001b[0;32min\u001b[0m \u001b[0mlines\u001b[0m\u001b[0;34m:\u001b[0m\u001b[0;34m\u001b[0m\u001b[0;34m\u001b[0m\u001b[0m\n\u001b[1;32m   1634\u001b[0m             \u001b[0mself\u001b[0m\u001b[0;34m.\u001b[0m\u001b[0madd_line\u001b[0m\u001b[0;34m(\u001b[0m\u001b[0mline\u001b[0m\u001b[0;34m)\u001b[0m\u001b[0;34m\u001b[0m\u001b[0;34m\u001b[0m\u001b[0m\n",
      "\u001b[0;32m~/anaconda3/envs/intellisys/lib/python3.7/site-packages/matplotlib/axes/_base.py\u001b[0m in \u001b[0;36m__call__\u001b[0;34m(self, data, *args, **kwargs)\u001b[0m\n\u001b[1;32m    310\u001b[0m                 \u001b[0mthis\u001b[0m \u001b[0;34m+=\u001b[0m \u001b[0margs\u001b[0m\u001b[0;34m[\u001b[0m\u001b[0;36m0\u001b[0m\u001b[0;34m]\u001b[0m\u001b[0;34m,\u001b[0m\u001b[0;34m\u001b[0m\u001b[0;34m\u001b[0m\u001b[0m\n\u001b[1;32m    311\u001b[0m                 \u001b[0margs\u001b[0m \u001b[0;34m=\u001b[0m \u001b[0margs\u001b[0m\u001b[0;34m[\u001b[0m\u001b[0;36m1\u001b[0m\u001b[0;34m:\u001b[0m\u001b[0;34m]\u001b[0m\u001b[0;34m\u001b[0m\u001b[0;34m\u001b[0m\u001b[0m\n\u001b[0;32m--> 312\u001b[0;31m             \u001b[0;32myield\u001b[0m \u001b[0;32mfrom\u001b[0m \u001b[0mself\u001b[0m\u001b[0;34m.\u001b[0m\u001b[0m_plot_args\u001b[0m\u001b[0;34m(\u001b[0m\u001b[0mthis\u001b[0m\u001b[0;34m,\u001b[0m \u001b[0mkwargs\u001b[0m\u001b[0;34m)\u001b[0m\u001b[0;34m\u001b[0m\u001b[0;34m\u001b[0m\u001b[0m\n\u001b[0m\u001b[1;32m    313\u001b[0m \u001b[0;34m\u001b[0m\u001b[0m\n\u001b[1;32m    314\u001b[0m     \u001b[0;32mdef\u001b[0m \u001b[0mget_next_color\u001b[0m\u001b[0;34m(\u001b[0m\u001b[0mself\u001b[0m\u001b[0;34m)\u001b[0m\u001b[0;34m:\u001b[0m\u001b[0;34m\u001b[0m\u001b[0;34m\u001b[0m\u001b[0m\n",
      "\u001b[0;32m~/anaconda3/envs/intellisys/lib/python3.7/site-packages/matplotlib/axes/_base.py\u001b[0m in \u001b[0;36m_plot_args\u001b[0;34m(self, tup, kwargs, return_kwargs)\u001b[0m\n\u001b[1;32m    496\u001b[0m \u001b[0;34m\u001b[0m\u001b[0m\n\u001b[1;32m    497\u001b[0m         \u001b[0;32mif\u001b[0m \u001b[0mx\u001b[0m\u001b[0;34m.\u001b[0m\u001b[0mshape\u001b[0m\u001b[0;34m[\u001b[0m\u001b[0;36m0\u001b[0m\u001b[0;34m]\u001b[0m \u001b[0;34m!=\u001b[0m \u001b[0my\u001b[0m\u001b[0;34m.\u001b[0m\u001b[0mshape\u001b[0m\u001b[0;34m[\u001b[0m\u001b[0;36m0\u001b[0m\u001b[0;34m]\u001b[0m\u001b[0;34m:\u001b[0m\u001b[0;34m\u001b[0m\u001b[0;34m\u001b[0m\u001b[0m\n\u001b[0;32m--> 498\u001b[0;31m             raise ValueError(f\"x and y must have same first dimension, but \"\n\u001b[0m\u001b[1;32m    499\u001b[0m                              f\"have shapes {x.shape} and {y.shape}\")\n\u001b[1;32m    500\u001b[0m         \u001b[0;32mif\u001b[0m \u001b[0mx\u001b[0m\u001b[0;34m.\u001b[0m\u001b[0mndim\u001b[0m \u001b[0;34m>\u001b[0m \u001b[0;36m2\u001b[0m \u001b[0;32mor\u001b[0m \u001b[0my\u001b[0m\u001b[0;34m.\u001b[0m\u001b[0mndim\u001b[0m \u001b[0;34m>\u001b[0m \u001b[0;36m2\u001b[0m\u001b[0;34m:\u001b[0m\u001b[0;34m\u001b[0m\u001b[0;34m\u001b[0m\u001b[0m\n",
      "\u001b[0;31mValueError\u001b[0m: x and y must have same first dimension, but have shapes (23,) and (22,)"
     ]
    }
   ],
   "source": [
    "# plot the train&validation loss curve \n",
    "epochs = range(len(train_history_th))\n",
    "plt.figure()\n",
    "plt.plot(epochs, train_history_th, 'b', label='Training loss')\n",
    "plt.plot(epochs, val_history_th, 'r', label='Validation loss')\n",
    "plt.title('Training and validation loss')\n",
    "\n",
    "plt.legend()\n",
    "plt.show()\n"
   ]
  },
  {
   "cell_type": "code",
   "execution_count": 26,
   "metadata": {},
   "outputs": [],
   "source": [
    "# save trained model\n",
    "torch.save(mynet.state_dict(),'./models/mynet_alexnet_1.pth')"
   ]
  },
  {
   "cell_type": "code",
   "execution_count": 15,
   "metadata": {},
   "outputs": [
    {
     "data": {
      "text/plain": [
       "<All keys matched successfully>"
      ]
     },
     "execution_count": 15,
     "metadata": {},
     "output_type": "execute_result"
    }
   ],
   "source": [
    "mynet.load_state_dict(torch.load('./models/mynet_alexnet_all_4.pth'))"
   ]
  },
  {
   "cell_type": "code",
   "execution_count": 25,
   "metadata": {},
   "outputs": [
    {
     "name": "stdout",
     "output_type": "stream",
     "text": [
      "prediction:[[ 0.37571758 -0.02146863]], ground truth:[ 0.33001755 -0.0320853 ]\n",
      "prediction:[[ 0.49417245 -0.02807501]], ground truth:[ 0.55259206 -0.04712439]\n",
      "prediction:[[-0.00096686 -0.02700344]], ground truth:[ 4.07686433e-14 -2.76466643e-02]\n",
      "prediction:[[ 0.3470227  -0.00972778]], ground truth:[ 0.35624558 -0.0006141 ]\n",
      "prediction:[[0.97774863 0.23365976]], ground truth:[1.         0.11941857]\n",
      "prediction:[[ 0.629377   -0.19288659]], ground truth:[ 0.44922987 -0.24013502]\n",
      "prediction:[[0.26414663 0.00900005]], ground truth:[0.22469821 0.04141541]\n",
      "prediction:[[1.0165029  0.98445576]], ground truth:[1.         0.99078671]\n",
      "prediction:[[1.0424839  0.10771824]], ground truth:[1.         0.09920795]\n",
      "prediction:[[0.98704827 0.00537097]], ground truth:[1.         0.00656906]\n",
      "prediction:[[ 0.89920515 -0.5916534 ]], ground truth:[ 1.         -0.48886307]\n",
      "prediction:[[0.00513009 0.00737754]], ground truth:[ 7.49754142e-16 -8.22064573e-03]\n",
      "prediction:[[ 0.2712327  -0.04734502]], ground truth:[ 0.22366045 -0.07134576]\n",
      "prediction:[[-0.00584532  0.38522857]], ground truth:[2.19761490e-14 2.43821298e-01]\n",
      "prediction:[[-0.00554774  0.0094569 ]], ground truth:[2.83013914e-14 1.47690908e-02]\n",
      "prediction:[[ 0.98858726 -0.00105133]], ground truth:[ 1.         -0.01349725]\n",
      "prediction:[[1.005966   0.54125935]], ground truth:[1.         0.56884853]\n",
      "prediction:[[ 0.9991372  -0.00692767]], ground truth:[ 0.99999904 -0.10761351]\n",
      "prediction:[[0.7832517 0.2748112]], ground truth:[0.54782999 0.24452437]\n",
      "prediction:[[ 0.3194875  -0.00467458]], ground truth:[ 0.3296098  -0.00317049]\n",
      "prediction:[[ 0.02977929 -0.04275307]], ground truth:[ 0.         -0.07584352]\n"
     ]
    },
    {
     "name": "stderr",
     "output_type": "stream",
     "text": [
      "/home/melina/.local/lib/python3.7/site-packages/ipykernel_launcher.py:4: UserWarning: To copy construct from a tensor, it is recommended to use sourceTensor.clone().detach() or sourceTensor.clone().detach().requires_grad_(True), rather than torch.tensor(sourceTensor).\n",
      "  after removing the cwd from sys.path.\n"
     ]
    }
   ],
   "source": [
    "for i in range (21):\n",
    "    TEST = random.randint (0, 2900)\n",
    "    test_in, gt_th, gt_st = val_data[TEST]\n",
    "    test_in = [torch.tensor(x).cuda() for x in test_in]\n",
    "    gt_output = [gt_th, gt_st]\n",
    "    gt_output = torch.tensor(gt_output).to(device)\n",
    "    output_pred = mynet(test_in) \n",
    "    #print('TEST', TEST)\n",
    "    #print('test_in',test_in)\n",
    "    print('prediction:{}, ground truth:{}'.format(output_pred.cpu().detach().numpy(), gt_output.cpu().detach().numpy()))"
   ]
  },
  {
   "cell_type": "code",
   "execution_count": null,
   "metadata": {},
   "outputs": [],
   "source": []
  }
 ],
 "metadata": {
  "kernelspec": {
   "display_name": "Python 3",
   "language": "python",
   "name": "python3"
  },
  "language_info": {
   "codemirror_mode": {
    "name": "ipython",
    "version": 3
   },
   "file_extension": ".py",
   "mimetype": "text/x-python",
   "name": "python",
   "nbconvert_exporter": "python",
   "pygments_lexer": "ipython3",
   "version": "3.7.11"
  }
 },
 "nbformat": 4,
 "nbformat_minor": 5
}
