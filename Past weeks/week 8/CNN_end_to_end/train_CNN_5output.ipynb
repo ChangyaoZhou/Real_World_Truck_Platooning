{
 "cells": [
  {
   "cell_type": "markdown",
   "metadata": {},
   "source": [
    "### 1 Loading Dataset"
   ]
  },
  {
   "cell_type": "code",
   "execution_count": 1,
   "metadata": {},
   "outputs": [],
   "source": [
    "import numpy as np\n",
    "import random\n",
    "import cv2\n",
    "import matplotlib.pyplot as plt\n",
    "import torch\n",
    "import torch.nn as nn\n",
    "import torch.optim as optim\n",
    "from torch.utils.data import DataLoader\n",
    "import os\n",
    "import random\n",
    "from torchvision import transforms\n",
    "\n",
    "from models.my_datasets import MyDataset2\n",
    "from models.my_models_alex import MyModel_CNN\n",
    "#from models.my_models_alex import MyModel_CNN\n"
   ]
  },
  {
   "cell_type": "code",
   "execution_count": 2,
   "metadata": {},
   "outputs": [],
   "source": [
    "%load_ext autoreload\n",
    "%autoreload 2"
   ]
  },
  {
   "cell_type": "code",
   "execution_count": 3,
   "metadata": {},
   "outputs": [
    {
     "name": "stdout",
     "output_type": "stream",
     "text": [
      "True\n",
      "cuda:0\n"
     ]
    }
   ],
   "source": [
    "device = torch.device(\"cuda:0\" if torch.cuda.is_available() else \"cpu\")\n",
    "print(torch.cuda.is_available())\n",
    "print(device)"
   ]
  },
  {
   "cell_type": "code",
   "execution_count": 4,
   "metadata": {},
   "outputs": [
    {
     "data": {
      "text/plain": [
       "\"\\nROOT = './output/town04_image_data/images/'\\nOUT = './output/town04_image_data/smallimages/'\\nSIZE = (400,300)\\nimage_paths = os.listdir(ROOT)\\nimage_paths.sort()\\nfor im in image_paths:\\n    #print(im)\\n    img = cv2.imread(ROOT+im)\\n    img = cv2.resize(img, SIZE,  interpolation = cv2.INTER_AREA)\\n    cv2.imwrite(OUT+im, img)\\n\""
      ]
     },
     "execution_count": 4,
     "metadata": {},
     "output_type": "execute_result"
    }
   ],
   "source": [
    "'''\n",
    "ROOT = './output/town04_image_data/images/'\n",
    "OUT = './output/town04_image_data/smallimages/'\n",
    "SIZE = (400,300)\n",
    "image_paths = os.listdir(ROOT)\n",
    "image_paths.sort()\n",
    "for im in image_paths:\n",
    "    #print(im)\n",
    "    img = cv2.imread(ROOT+im)\n",
    "    img = cv2.resize(img, SIZE,  interpolation = cv2.INTER_AREA)\n",
    "    cv2.imwrite(OUT+im, img)\n",
    "'''"
   ]
  },
  {
   "cell_type": "code",
   "execution_count": 5,
   "metadata": {},
   "outputs": [
    {
     "data": {
      "text/plain": [
       "'\\n#### delete the data for the unstored images\\nROOT = \\'./output/town04_image_data/\\'\\nout = open(ROOT+\"alldata.txt\",\\'w\\')\\nlines=[]\\nwith open(ROOT+\"offdata_image.txt\", \\'r\\') as infile:\\n    for line in infile:\\n        line = line.rstrip()\\n        words = line.split()\\n        img = cv2.imread(ROOT+words[0])\\n        if img is None:\\n            pass\\n        else:\\n            out.write(line)\\n            out.write(\\'\\r\\n\\')\\nout.close()\\n'"
      ]
     },
     "execution_count": 5,
     "metadata": {},
     "output_type": "execute_result"
    }
   ],
   "source": [
    "'''\n",
    "#### delete the data for the unstored images\n",
    "ROOT = './output/town04_image_data/'\n",
    "out = open(ROOT+\"alldata.txt\",'w')\n",
    "lines=[]\n",
    "with open(ROOT+\"offdata_image.txt\", 'r') as infile:\n",
    "    for line in infile:\n",
    "        line = line.rstrip()\n",
    "        words = line.split()\n",
    "        img = cv2.imread(ROOT+words[0])\n",
    "        if img is None:\n",
    "            pass\n",
    "        else:\n",
    "            out.write(line)\n",
    "            out.write('\\r\\n')\n",
    "out.close()\n",
    "'''"
   ]
  },
  {
   "cell_type": "code",
   "execution_count": 6,
   "metadata": {},
   "outputs": [
    {
     "data": {
      "text/plain": [
       "'\\n#### compute the delta imformation from the original information\\nROOT = \\'./output/town04_image_data/\\'\\nout = open(ROOT+\"delta.txt\",\\'w\\')\\ndelta_data = np.empty((0,3))\\nwith open(ROOT+\"data_image_all.txt\", \\'r\\') as infile:\\n    for line in infile:\\n        line = line.rstrip()\\n        words = line.split()\\n        newline = np.array([[float(words[1])-float(words[2]), float(words[3]), float(words[4])]])\\n        delta_data = np.append(delta_data, newline, axis=0)\\n        \\nnp.set_printoptions(threshold = np.inf)\\nout.write(str(repr(np.array(delta_data))))\\nout.close()\\n'"
      ]
     },
     "execution_count": 6,
     "metadata": {},
     "output_type": "execute_result"
    }
   ],
   "source": [
    "'''\n",
    "#### compute the delta imformation from the original information\n",
    "ROOT = './output/town04_image_data/'\n",
    "out = open(ROOT+\"delta.txt\",'w')\n",
    "delta_data = np.empty((0,3))\n",
    "with open(ROOT+\"data_image_all.txt\", 'r') as infile:\n",
    "    for line in infile:\n",
    "        line = line.rstrip()\n",
    "        words = line.split()\n",
    "        newline = np.array([[float(words[1])-float(words[2]), float(words[3]), float(words[4])]])\n",
    "        delta_data = np.append(delta_data, newline, axis=0)\n",
    "        \n",
    "np.set_printoptions(threshold = np.inf)\n",
    "out.write(str(repr(np.array(delta_data))))\n",
    "out.close()\n",
    "'''"
   ]
  },
  {
   "cell_type": "code",
   "execution_count": 7,
   "metadata": {},
   "outputs": [
    {
     "name": "stdout",
     "output_type": "stream",
     "text": [
      "images_off/pjx_1_000470_06_03.png 4.939019407980143 4.067550942845005 8.042180663676135 -0.01331708538714338 -0.09387469737058485 0.9999999999999929 0.1148864519452058\n",
      "\n",
      "images_off/pjx_1_000410_09_06.png 4.938853979025358 6.916371806204925 8.598970726711084 1.2952681744473011 0.36948051147195043 7.689932190753901e-16 0.12884707484625266\n",
      "\n",
      "images_off/traj2_000040_10_05.png 5.349486221704329 4.671695539899523 7.1508423303283735 -1.0114434199224718 -0.3333914163290395 0.9999999999999998 0.12279470121900404\n",
      "\n",
      "images_off/pjx_1_000190_03_17.png 4.9392810794068325 5.543134513236862 7.792073199822347 -0.4280866664921632 -0.12351035398098631 2.6863082667197584e-16 -0.056712241154498515\n",
      "\n",
      "images_off/traj1_000290_07_02.png 4.93837194302824 4.143114481123035 9.523938877116223 -0.9452614955223453 0.13161608423280666 0.9999999999999171 -0.49742368896355504\n",
      "\n",
      "images_off/pjx_1_000820_01_08.png 5.1393643126678095 5.680902030539136 7.79212054811569 -0.35152990641728366 -0.10503267654774497 3.718169676371676e-05 -0.03528850783307587\n",
      "\n",
      "images_off/pjx_1_000500_02_14.png 4.937483910850713 4.908263148275022 7.101100194791599 -0.021462693285570822 -0.06391453458135565 0.39028591040148436 0.12669729552099263\n",
      "\n",
      "images_on/traj4_000019.png 1.3072956237489758e-06 3.255169418699261e-07 9.382066531140651 -0.17616343029689574 -0.04481381061108878 0.9999999999999819 -1.1545831380179744e-06\n",
      "\n",
      "images_off/traj2_000240_01_13.png 11.366431184664691 9.035418414866566 12.679472660406404 -2.512282215028307 -0.3129789523638564 1.0 -0.23745270620587308\n",
      "\n",
      "images_off/traj1_000090_01_01.png 4.939646521400082 4.600857600147231 6.37577979928858 2.0379045033757848 0.03174860861927131 0.8044429986843674 0.9999999999999997\n",
      "\n",
      "images_off/pjx_1_000970_08_18.png 2.027706979378171e-06 0.01698412355526032 4.841006963460359 0.20014193077105347 -0.0018955049058631 0.00036017261303746863 -0.3521408362762598\n",
      "\n"
     ]
    }
   ],
   "source": [
    "#preprocess the txt file\n",
    "ROOT = './output/town04_data/trajectory1_pjx/'\n",
    "train_out = open(ROOT+\"traindata_shuffle.txt\",'w')\n",
    "val_out = open(ROOT+\"valdata_shuffle.txt\",'w')\n",
    "over_out = open(ROOT+\"overdata_shuffle.txt\",'w')\n",
    "lines=[]\n",
    "with open(ROOT+\"delta_5outs_CNN.txt\", 'r') as infile:\n",
    "    for line in infile:\n",
    "        lines.append(line)\n",
    "    random.shuffle(lines)\n",
    "    num_train = np.ceil(0.85*len(lines))\n",
    "    for count, line in enumerate(lines):\n",
    "        if count <=num_train:\n",
    "            if count>=25 and count<=35:\n",
    "                print(line)\n",
    "                over_out.write(line)\n",
    "            train_out.write(line)\n",
    "        else:\n",
    "            val_out.write(line) \n",
    "train_out.close()            \n",
    "val_out.close()\n",
    "over_out.close()        "
   ]
  },
  {
   "cell_type": "code",
   "execution_count": 8,
   "metadata": {},
   "outputs": [
    {
     "name": "stdout",
     "output_type": "stream",
     "text": [
      "Overfit size: 11\n",
      "Train size: 53562\n",
      "Validation size: 9450\n"
     ]
    }
   ],
   "source": [
    "TRANSFORM = transforms.Compose([#transforms.Grayscale(num_output_channels=3),\n",
    "                                transforms.ToTensor(),\n",
    "                                #transforms.Normalize((0.5,), (0.5, ))])\n",
    "                                transforms.Normalize([0.485, 0.456, 0.406],[0.229, 0.224, 0.225])])\n",
    "SIZE = (128,128)\n",
    "over_data = MyDataset2(root = ROOT, txtname = 'overdata_shuffle.txt', transform=TRANSFORM, size=SIZE)\n",
    "train_data = MyDataset2(root = ROOT, txtname = 'traindata_shuffle.txt' , transform = TRANSFORM, size= SIZE)\n",
    "val_data = MyDataset2(root = ROOT, txtname = 'valdata_shuffle.txt', transform = TRANSFORM, size= SIZE)\n",
    "over_loader = DataLoader(dataset=over_data, batch_size=32, shuffle=True)\n",
    "train_loader = DataLoader(dataset=train_data, batch_size=32, shuffle=True)\n",
    "val_loader = DataLoader(dataset=val_data, batch_size=32, shuffle=True)\n",
    "print(\"Overfit size: %i\" % len(over_data))\n",
    "print(\"Train size: %i\" % len(train_data))\n",
    "print(\"Validation size: %i\" % len(val_data))"
   ]
  },
  {
   "cell_type": "code",
   "execution_count": 9,
   "metadata": {},
   "outputs": [
    {
     "name": "stdout",
     "output_type": "stream",
     "text": [
      "torch.Size([3, 128, 128])\n"
     ]
    },
    {
     "ename": "error",
     "evalue": "OpenCV(4.5.4) :-1: error: (-5:Bad argument) in function 'imshow'\n> Overload resolution failed:\n>  - mat is not a numpy array, neither a scalar\n>  - Expected Ptr<cv::cuda::GpuMat> for argument 'mat'\n>  - Expected Ptr<cv::UMat> for argument 'mat'\n",
     "output_type": "error",
     "traceback": [
      "\u001b[0;31m---------------------------------------------------------------------------\u001b[0m",
      "\u001b[0;31merror\u001b[0m                                     Traceback (most recent call last)",
      "\u001b[0;32m<ipython-input-9-550740790079>\u001b[0m in \u001b[0;36m<module>\u001b[0;34m\u001b[0m\n\u001b[1;32m      1\u001b[0m \u001b[0mprint\u001b[0m\u001b[0;34m(\u001b[0m\u001b[0mover_data\u001b[0m\u001b[0;34m[\u001b[0m\u001b[0;36m0\u001b[0m\u001b[0;34m]\u001b[0m\u001b[0;34m[\u001b[0m\u001b[0;36m0\u001b[0m\u001b[0;34m]\u001b[0m\u001b[0;34m[\u001b[0m\u001b[0;36m0\u001b[0m\u001b[0;34m]\u001b[0m\u001b[0;34m.\u001b[0m\u001b[0mshape\u001b[0m\u001b[0;34m)\u001b[0m\u001b[0;34m\u001b[0m\u001b[0;34m\u001b[0m\u001b[0m\n\u001b[0;32m----> 2\u001b[0;31m \u001b[0mcv2\u001b[0m\u001b[0;34m.\u001b[0m\u001b[0mimshow\u001b[0m\u001b[0;34m(\u001b[0m\u001b[0;34m'Window'\u001b[0m\u001b[0;34m,\u001b[0m\u001b[0mover_data\u001b[0m\u001b[0;34m[\u001b[0m\u001b[0;36m0\u001b[0m\u001b[0;34m]\u001b[0m\u001b[0;34m[\u001b[0m\u001b[0;36m0\u001b[0m\u001b[0;34m]\u001b[0m\u001b[0;34m[\u001b[0m\u001b[0;36m0\u001b[0m\u001b[0;34m]\u001b[0m\u001b[0;34m)\u001b[0m\u001b[0;34m\u001b[0m\u001b[0;34m\u001b[0m\u001b[0m\n\u001b[0m\u001b[1;32m      3\u001b[0m \u001b[0mcv2\u001b[0m\u001b[0;34m.\u001b[0m\u001b[0mwaitKey\u001b[0m\u001b[0;34m(\u001b[0m\u001b[0;36m0\u001b[0m\u001b[0;34m)\u001b[0m\u001b[0;34m\u001b[0m\u001b[0;34m\u001b[0m\u001b[0m\n\u001b[1;32m      4\u001b[0m \u001b[0mcv2\u001b[0m\u001b[0;34m.\u001b[0m\u001b[0mdestroyAllWindows\u001b[0m\u001b[0;34m(\u001b[0m\u001b[0;34m)\u001b[0m\u001b[0;34m\u001b[0m\u001b[0;34m\u001b[0m\u001b[0m\n",
      "\u001b[0;31merror\u001b[0m: OpenCV(4.5.4) :-1: error: (-5:Bad argument) in function 'imshow'\n> Overload resolution failed:\n>  - mat is not a numpy array, neither a scalar\n>  - Expected Ptr<cv::cuda::GpuMat> for argument 'mat'\n>  - Expected Ptr<cv::UMat> for argument 'mat'\n"
     ]
    }
   ],
   "source": [
    "print(over_data[0][0][0].shape)\n",
    "cv2.imshow('Window',over_data[0][0][0])\n",
    "cv2.waitKey(0)\n",
    "cv2.destroyAllWindows()"
   ]
  },
  {
   "cell_type": "markdown",
   "metadata": {},
   "source": [
    "### 2 Defining Neural Network"
   ]
  },
  {
   "cell_type": "code",
   "execution_count": 10,
   "metadata": {},
   "outputs": [],
   "source": [
    "def init_weights(m):\n",
    "    if isinstance(m, nn.Linear):\n",
    "        torch.nn.init.xavier_uniform_(m.weight)\n",
    "        m.bias.data.fill_(0.01)"
   ]
  },
  {
   "cell_type": "code",
   "execution_count": 11,
   "metadata": {},
   "outputs": [
    {
     "ename": "RuntimeError",
     "evalue": "CUDA error: out of memory\nCUDA kernel errors might be asynchronously reported at some other API call,so the stacktrace below might be incorrect.\nFor debugging consider passing CUDA_LAUNCH_BLOCKING=1.",
     "output_type": "error",
     "traceback": [
      "\u001b[0;31m---------------------------------------------------------------------------\u001b[0m",
      "\u001b[0;31mRuntimeError\u001b[0m                              Traceback (most recent call last)",
      "\u001b[0;32m<ipython-input-11-8bc4c5915a6c>\u001b[0m in \u001b[0;36m<module>\u001b[0;34m\u001b[0m\n\u001b[0;32m----> 1\u001b[0;31m \u001b[0mmynet\u001b[0m\u001b[0;34m=\u001b[0m \u001b[0mMyModel_CNN\u001b[0m\u001b[0;34m(\u001b[0m\u001b[0;34m)\u001b[0m\u001b[0;34m.\u001b[0m\u001b[0mto\u001b[0m\u001b[0;34m(\u001b[0m\u001b[0mdevice\u001b[0m\u001b[0;34m)\u001b[0m\u001b[0;34m\u001b[0m\u001b[0;34m\u001b[0m\u001b[0m\n\u001b[0m\u001b[1;32m      2\u001b[0m \u001b[0mprint\u001b[0m\u001b[0;34m(\u001b[0m\u001b[0mmynet\u001b[0m\u001b[0;34m)\u001b[0m\u001b[0;34m\u001b[0m\u001b[0;34m\u001b[0m\u001b[0m\n",
      "\u001b[0;32m~/anaconda3/envs/intellisys/lib/python3.7/site-packages/torch/nn/modules/module.py\u001b[0m in \u001b[0;36mto\u001b[0;34m(self, *args, **kwargs)\u001b[0m\n\u001b[1;32m    897\u001b[0m             \u001b[0;32mreturn\u001b[0m \u001b[0mt\u001b[0m\u001b[0;34m.\u001b[0m\u001b[0mto\u001b[0m\u001b[0;34m(\u001b[0m\u001b[0mdevice\u001b[0m\u001b[0;34m,\u001b[0m \u001b[0mdtype\u001b[0m \u001b[0;32mif\u001b[0m \u001b[0mt\u001b[0m\u001b[0;34m.\u001b[0m\u001b[0mis_floating_point\u001b[0m\u001b[0;34m(\u001b[0m\u001b[0;34m)\u001b[0m \u001b[0;32mor\u001b[0m \u001b[0mt\u001b[0m\u001b[0;34m.\u001b[0m\u001b[0mis_complex\u001b[0m\u001b[0;34m(\u001b[0m\u001b[0;34m)\u001b[0m \u001b[0;32melse\u001b[0m \u001b[0;32mNone\u001b[0m\u001b[0;34m,\u001b[0m \u001b[0mnon_blocking\u001b[0m\u001b[0;34m)\u001b[0m\u001b[0;34m\u001b[0m\u001b[0;34m\u001b[0m\u001b[0m\n\u001b[1;32m    898\u001b[0m \u001b[0;34m\u001b[0m\u001b[0m\n\u001b[0;32m--> 899\u001b[0;31m         \u001b[0;32mreturn\u001b[0m \u001b[0mself\u001b[0m\u001b[0;34m.\u001b[0m\u001b[0m_apply\u001b[0m\u001b[0;34m(\u001b[0m\u001b[0mconvert\u001b[0m\u001b[0;34m)\u001b[0m\u001b[0;34m\u001b[0m\u001b[0;34m\u001b[0m\u001b[0m\n\u001b[0m\u001b[1;32m    900\u001b[0m \u001b[0;34m\u001b[0m\u001b[0m\n\u001b[1;32m    901\u001b[0m     def register_backward_hook(\n",
      "\u001b[0;32m~/anaconda3/envs/intellisys/lib/python3.7/site-packages/torch/nn/modules/module.py\u001b[0m in \u001b[0;36m_apply\u001b[0;34m(self, fn)\u001b[0m\n\u001b[1;32m    568\u001b[0m     \u001b[0;32mdef\u001b[0m \u001b[0m_apply\u001b[0m\u001b[0;34m(\u001b[0m\u001b[0mself\u001b[0m\u001b[0;34m,\u001b[0m \u001b[0mfn\u001b[0m\u001b[0;34m)\u001b[0m\u001b[0;34m:\u001b[0m\u001b[0;34m\u001b[0m\u001b[0;34m\u001b[0m\u001b[0m\n\u001b[1;32m    569\u001b[0m         \u001b[0;32mfor\u001b[0m \u001b[0mmodule\u001b[0m \u001b[0;32min\u001b[0m \u001b[0mself\u001b[0m\u001b[0;34m.\u001b[0m\u001b[0mchildren\u001b[0m\u001b[0;34m(\u001b[0m\u001b[0;34m)\u001b[0m\u001b[0;34m:\u001b[0m\u001b[0;34m\u001b[0m\u001b[0;34m\u001b[0m\u001b[0m\n\u001b[0;32m--> 570\u001b[0;31m             \u001b[0mmodule\u001b[0m\u001b[0;34m.\u001b[0m\u001b[0m_apply\u001b[0m\u001b[0;34m(\u001b[0m\u001b[0mfn\u001b[0m\u001b[0;34m)\u001b[0m\u001b[0;34m\u001b[0m\u001b[0;34m\u001b[0m\u001b[0m\n\u001b[0m\u001b[1;32m    571\u001b[0m \u001b[0;34m\u001b[0m\u001b[0m\n\u001b[1;32m    572\u001b[0m         \u001b[0;32mdef\u001b[0m \u001b[0mcompute_should_use_set_data\u001b[0m\u001b[0;34m(\u001b[0m\u001b[0mtensor\u001b[0m\u001b[0;34m,\u001b[0m \u001b[0mtensor_applied\u001b[0m\u001b[0;34m)\u001b[0m\u001b[0;34m:\u001b[0m\u001b[0;34m\u001b[0m\u001b[0;34m\u001b[0m\u001b[0m\n",
      "\u001b[0;32m~/anaconda3/envs/intellisys/lib/python3.7/site-packages/torch/nn/modules/module.py\u001b[0m in \u001b[0;36m_apply\u001b[0;34m(self, fn)\u001b[0m\n\u001b[1;32m    568\u001b[0m     \u001b[0;32mdef\u001b[0m \u001b[0m_apply\u001b[0m\u001b[0;34m(\u001b[0m\u001b[0mself\u001b[0m\u001b[0;34m,\u001b[0m \u001b[0mfn\u001b[0m\u001b[0;34m)\u001b[0m\u001b[0;34m:\u001b[0m\u001b[0;34m\u001b[0m\u001b[0;34m\u001b[0m\u001b[0m\n\u001b[1;32m    569\u001b[0m         \u001b[0;32mfor\u001b[0m \u001b[0mmodule\u001b[0m \u001b[0;32min\u001b[0m \u001b[0mself\u001b[0m\u001b[0;34m.\u001b[0m\u001b[0mchildren\u001b[0m\u001b[0;34m(\u001b[0m\u001b[0;34m)\u001b[0m\u001b[0;34m:\u001b[0m\u001b[0;34m\u001b[0m\u001b[0;34m\u001b[0m\u001b[0m\n\u001b[0;32m--> 570\u001b[0;31m             \u001b[0mmodule\u001b[0m\u001b[0;34m.\u001b[0m\u001b[0m_apply\u001b[0m\u001b[0;34m(\u001b[0m\u001b[0mfn\u001b[0m\u001b[0;34m)\u001b[0m\u001b[0;34m\u001b[0m\u001b[0;34m\u001b[0m\u001b[0m\n\u001b[0m\u001b[1;32m    571\u001b[0m \u001b[0;34m\u001b[0m\u001b[0m\n\u001b[1;32m    572\u001b[0m         \u001b[0;32mdef\u001b[0m \u001b[0mcompute_should_use_set_data\u001b[0m\u001b[0;34m(\u001b[0m\u001b[0mtensor\u001b[0m\u001b[0;34m,\u001b[0m \u001b[0mtensor_applied\u001b[0m\u001b[0;34m)\u001b[0m\u001b[0;34m:\u001b[0m\u001b[0;34m\u001b[0m\u001b[0;34m\u001b[0m\u001b[0m\n",
      "\u001b[0;32m~/anaconda3/envs/intellisys/lib/python3.7/site-packages/torch/nn/modules/module.py\u001b[0m in \u001b[0;36m_apply\u001b[0;34m(self, fn)\u001b[0m\n\u001b[1;32m    591\u001b[0m             \u001b[0;31m# `with torch.no_grad():`\u001b[0m\u001b[0;34m\u001b[0m\u001b[0;34m\u001b[0m\u001b[0;34m\u001b[0m\u001b[0m\n\u001b[1;32m    592\u001b[0m             \u001b[0;32mwith\u001b[0m \u001b[0mtorch\u001b[0m\u001b[0;34m.\u001b[0m\u001b[0mno_grad\u001b[0m\u001b[0;34m(\u001b[0m\u001b[0;34m)\u001b[0m\u001b[0;34m:\u001b[0m\u001b[0;34m\u001b[0m\u001b[0;34m\u001b[0m\u001b[0m\n\u001b[0;32m--> 593\u001b[0;31m                 \u001b[0mparam_applied\u001b[0m \u001b[0;34m=\u001b[0m \u001b[0mfn\u001b[0m\u001b[0;34m(\u001b[0m\u001b[0mparam\u001b[0m\u001b[0;34m)\u001b[0m\u001b[0;34m\u001b[0m\u001b[0;34m\u001b[0m\u001b[0m\n\u001b[0m\u001b[1;32m    594\u001b[0m             \u001b[0mshould_use_set_data\u001b[0m \u001b[0;34m=\u001b[0m \u001b[0mcompute_should_use_set_data\u001b[0m\u001b[0;34m(\u001b[0m\u001b[0mparam\u001b[0m\u001b[0;34m,\u001b[0m \u001b[0mparam_applied\u001b[0m\u001b[0;34m)\u001b[0m\u001b[0;34m\u001b[0m\u001b[0;34m\u001b[0m\u001b[0m\n\u001b[1;32m    595\u001b[0m             \u001b[0;32mif\u001b[0m \u001b[0mshould_use_set_data\u001b[0m\u001b[0;34m:\u001b[0m\u001b[0;34m\u001b[0m\u001b[0;34m\u001b[0m\u001b[0m\n",
      "\u001b[0;32m~/anaconda3/envs/intellisys/lib/python3.7/site-packages/torch/nn/modules/module.py\u001b[0m in \u001b[0;36mconvert\u001b[0;34m(t)\u001b[0m\n\u001b[1;32m    895\u001b[0m                 return t.to(device, dtype if t.is_floating_point() or t.is_complex() else None,\n\u001b[1;32m    896\u001b[0m                             non_blocking, memory_format=convert_to_format)\n\u001b[0;32m--> 897\u001b[0;31m             \u001b[0;32mreturn\u001b[0m \u001b[0mt\u001b[0m\u001b[0;34m.\u001b[0m\u001b[0mto\u001b[0m\u001b[0;34m(\u001b[0m\u001b[0mdevice\u001b[0m\u001b[0;34m,\u001b[0m \u001b[0mdtype\u001b[0m \u001b[0;32mif\u001b[0m \u001b[0mt\u001b[0m\u001b[0;34m.\u001b[0m\u001b[0mis_floating_point\u001b[0m\u001b[0;34m(\u001b[0m\u001b[0;34m)\u001b[0m \u001b[0;32mor\u001b[0m \u001b[0mt\u001b[0m\u001b[0;34m.\u001b[0m\u001b[0mis_complex\u001b[0m\u001b[0;34m(\u001b[0m\u001b[0;34m)\u001b[0m \u001b[0;32melse\u001b[0m \u001b[0;32mNone\u001b[0m\u001b[0;34m,\u001b[0m \u001b[0mnon_blocking\u001b[0m\u001b[0;34m)\u001b[0m\u001b[0;34m\u001b[0m\u001b[0;34m\u001b[0m\u001b[0m\n\u001b[0m\u001b[1;32m    898\u001b[0m \u001b[0;34m\u001b[0m\u001b[0m\n\u001b[1;32m    899\u001b[0m         \u001b[0;32mreturn\u001b[0m \u001b[0mself\u001b[0m\u001b[0;34m.\u001b[0m\u001b[0m_apply\u001b[0m\u001b[0;34m(\u001b[0m\u001b[0mconvert\u001b[0m\u001b[0;34m)\u001b[0m\u001b[0;34m\u001b[0m\u001b[0;34m\u001b[0m\u001b[0m\n",
      "\u001b[0;31mRuntimeError\u001b[0m: CUDA error: out of memory\nCUDA kernel errors might be asynchronously reported at some other API call,so the stacktrace below might be incorrect.\nFor debugging consider passing CUDA_LAUNCH_BLOCKING=1."
     ]
    }
   ],
   "source": [
    "mynet= MyModel_CNN().to(device)\n",
    "print(mynet)"
   ]
  },
  {
   "cell_type": "code",
   "execution_count": 37,
   "metadata": {},
   "outputs": [],
   "source": [
    "#mynet.apply(init_weights)"
   ]
  },
  {
   "cell_type": "code",
   "execution_count": 38,
   "metadata": {},
   "outputs": [
    {
     "name": "stdout",
     "output_type": "stream",
     "text": [
      "2,486,597 total parameters.\n",
      "2,486,597 trainable parameters.\n"
     ]
    }
   ],
   "source": [
    "total_params = sum(p.numel() for p in mynet.parameters())\n",
    "print(f'{total_params:,} total parameters.')\n",
    "total_trainable_params = sum(\n",
    "    p.numel() for p in mynet.parameters() if p.requires_grad)\n",
    "print(f'{total_trainable_params:,} trainable parameters.')"
   ]
  },
  {
   "cell_type": "markdown",
   "metadata": {},
   "source": [
    "### 3 Training Neural network"
   ]
  },
  {
   "cell_type": "code",
   "execution_count": 39,
   "metadata": {},
   "outputs": [],
   "source": [
    "mycriterion = nn.MSELoss(reduction='mean') \n",
    "myoptimizer = optim.Adam(mynet.parameters(), lr=1e-6, eps = 1e-08) "
   ]
  },
  {
   "cell_type": "code",
   "execution_count": 47,
   "metadata": {
    "scrolled": true
   },
   "outputs": [],
   "source": [
    "def run_epoch(model,criterion,optimizer,dataloader,iftrain):    \n",
    "    running_loss1 = 0.0  \n",
    "    running_loss2 = 0.0\n",
    "    running_loss3 = 0.0  \n",
    "    running_loss4 = 0.0\n",
    "    running_loss5 = 0.0\n",
    "    #Iterating through the minibatches of the data\n",
    "    for i, data in enumerate(dataloader, 0): \n",
    "        X, y1, y2, y3, y4, y5 = data\n",
    "        X = [x.cuda() for x in X]\n",
    "        y1 = y1.to(device).float()\n",
    "        y2 = y2.to(device).float()\n",
    "        y3 = y3.to(device).float()\n",
    "        y4 = y4.to(device).float()\n",
    "        y5 = y5.to(device).float()\n",
    "        #Y = [y.cuda() for y in Y]\n",
    "        #X = torch.tensor(X)\n",
    "        #Y = torch.as_tensor(np.array(Y))\n",
    "        #print(X.shape)\n",
    "        if iftrain:  \n",
    "            optimizer.zero_grad()\n",
    "            y_pred = model(X)\n",
    "            y_pred1 = y_pred[:,0].float()\n",
    "            y_pred2 = y_pred[:,1].float()\n",
    "            y_pred3 = y_pred[:,2].float()\n",
    "            y_pred4 = y_pred[:,3].float()\n",
    "            y_pred5 = y_pred[:,4].float()\n",
    "            loss1 = criterion(y_pred1, y1)\n",
    "            loss2 = criterion(y_pred2, y2) \n",
    "            loss3 = criterion(y_pred3, y3)\n",
    "            loss4 = criterion(y_pred4, y4) \n",
    "            loss5 = criterion(y_pred5, y5) \n",
    "            loss = loss1 + loss2 + loss3 + (loss4 + loss5)\n",
    "            #print(y)\n",
    "            #print(y_pred)\n",
    "            loss.backward()             \n",
    "            optimizer.step()            \n",
    "            running_loss1 += loss1.item() \n",
    "            running_loss2 += loss2.item() \n",
    "            running_loss3 += loss3.item() \n",
    "            running_loss4 += loss4.item() \n",
    "            running_loss5 += loss5.item()\n",
    "            #print('x', X[1])\n",
    "            #print('prediction', y_pred1)\n",
    "            #print('gt', y1)\n",
    "        else:\n",
    "            y_pred = y_pred = model(X)\n",
    "            y_pred1 = y_pred[:,0].float()\n",
    "            y_pred2 = y_pred[:,1].float()\n",
    "            y_pred3 = y_pred[:,2].float()\n",
    "            y_pred4 = y_pred[:,3].float()\n",
    "            y_pred5 = y_pred[:,4].float()\n",
    "            loss1 = criterion(y_pred1, y1)\n",
    "            loss2 = criterion(y_pred2, y2)\n",
    "            loss3 = criterion(y_pred3, y3)\n",
    "            loss4 = criterion(y_pred4, y4) \n",
    "            loss5 = criterion(y_pred5, y5)\n",
    "            loss = loss1 + loss2 + loss3 + (loss4 + loss5)\n",
    "            running_loss1 += loss1.item() \n",
    "            running_loss2 += loss2.item() \n",
    "            running_loss3 += loss3.item() \n",
    "            running_loss4 += loss4.item() \n",
    "            running_loss5 += loss5.item()\n",
    "    return running_loss1, running_loss2, running_loss3, running_loss4, running_loss5"
   ]
  },
  {
   "cell_type": "code",
   "execution_count": 48,
   "metadata": {
    "scrolled": true
   },
   "outputs": [
    {
     "name": "stdout",
     "output_type": "stream",
     "text": [
      "Epoch 10/600\n",
      "Delta X: train_loss: 3.524752e+00, val_loss: 2.760947e+00\n",
      "Delta Y: train_loss: 1.908681e+00, val_loss: 1.937792e+00\n",
      "Delta yaw: train_loss: 3.269719e+00, val_loss: 2.207694e+00\n",
      "Throttle: train_loss: 7.115465e-01, val_loss: 5.683656e-01\n",
      "Steering Angle: train_loss: 2.989249e-01, val_loss: 2.852865e-01\n",
      "Epoch 20/600\n",
      "Delta X: train_loss: 1.027936e-01, val_loss: 9.268255e-02\n",
      "Delta Y: train_loss: 7.550504e-01, val_loss: 7.558414e-01\n",
      "Delta yaw: train_loss: 3.681460e-01, val_loss: 2.417771e-01\n",
      "Throttle: train_loss: 1.676163e-01, val_loss: 1.646495e-01\n",
      "Steering Angle: train_loss: 1.558968e-01, val_loss: 8.284579e-02\n",
      "Epoch 30/600\n",
      "Delta X: train_loss: 2.657750e-02, val_loss: 2.103204e-02\n",
      "Delta Y: train_loss: 9.738187e-02, val_loss: 8.927441e-02\n",
      "Delta yaw: train_loss: 6.433997e-02, val_loss: 6.427152e-02\n",
      "Throttle: train_loss: 4.933986e-02, val_loss: 4.401823e-02\n",
      "Steering Angle: train_loss: 4.473627e-02, val_loss: 6.611971e-02\n",
      "Epoch 40/600\n",
      "Delta X: train_loss: 1.867198e-02, val_loss: 1.458919e-02\n",
      "Delta Y: train_loss: 3.578401e-02, val_loss: 3.962996e-02\n",
      "Delta yaw: train_loss: 3.427275e-03, val_loss: 2.730209e-03\n",
      "Throttle: train_loss: 3.486872e-02, val_loss: 3.159884e-02\n",
      "Steering Angle: train_loss: 1.081833e-02, val_loss: 7.587856e-03\n",
      "Epoch 50/600\n",
      "Delta X: train_loss: 5.587054e-03, val_loss: 5.617110e-03\n",
      "Delta Y: train_loss: 6.662364e-03, val_loss: 4.299883e-03\n",
      "Delta yaw: train_loss: 5.633253e-03, val_loss: 4.568273e-03\n",
      "Throttle: train_loss: 9.998076e-03, val_loss: 8.157179e-03\n",
      "Steering Angle: train_loss: 3.913990e-03, val_loss: 3.601531e-03\n",
      "Epoch 60/600\n",
      "Delta X: train_loss: 1.318758e-03, val_loss: 1.568020e-03\n",
      "Delta Y: train_loss: 2.197169e-03, val_loss: 2.160742e-03\n",
      "Delta yaw: train_loss: 2.740299e-04, val_loss: 4.006331e-04\n",
      "Throttle: train_loss: 3.279668e-03, val_loss: 3.514068e-03\n",
      "Steering Angle: train_loss: 1.497921e-03, val_loss: 9.171526e-04\n",
      "Epoch 70/600\n",
      "Delta X: train_loss: 6.828927e-04, val_loss: 6.116980e-04\n",
      "Delta Y: train_loss: 3.018750e-04, val_loss: 4.404867e-04\n",
      "Delta yaw: train_loss: 7.295688e-04, val_loss: 8.989450e-04\n",
      "Throttle: train_loss: 9.447167e-04, val_loss: 9.759651e-04\n",
      "Steering Angle: train_loss: 7.640208e-04, val_loss: 7.154956e-04\n",
      "Epoch 80/600\n",
      "Delta X: train_loss: 2.810518e-04, val_loss: 1.602608e-04\n",
      "Delta Y: train_loss: 2.300234e-04, val_loss: 1.262643e-04\n",
      "Delta yaw: train_loss: 3.777137e-04, val_loss: 3.313957e-04\n",
      "Throttle: train_loss: 2.718095e-04, val_loss: 3.406826e-04\n",
      "Steering Angle: train_loss: 2.355750e-04, val_loss: 1.988905e-04\n",
      "Epoch 90/600\n",
      "Delta X: train_loss: 8.058896e-05, val_loss: 6.468085e-05\n",
      "Delta Y: train_loss: 1.052018e-04, val_loss: 1.070515e-04\n",
      "Delta yaw: train_loss: 6.104047e-05, val_loss: 4.795054e-05\n",
      "Throttle: train_loss: 7.593191e-05, val_loss: 7.694570e-05\n",
      "Steering Angle: train_loss: 1.647283e-04, val_loss: 1.107591e-04\n",
      "Epoch 100/600\n",
      "Delta X: train_loss: 4.739194e-05, val_loss: 3.693942e-05\n",
      "Delta Y: train_loss: 1.995790e-05, val_loss: 2.699993e-05\n",
      "Delta yaw: train_loss: 1.012122e-05, val_loss: 1.206790e-05\n",
      "Throttle: train_loss: 2.901337e-05, val_loss: 2.786821e-05\n",
      "Steering Angle: train_loss: 5.328375e-05, val_loss: 4.120739e-05\n",
      "Epoch 110/600\n",
      "Delta X: train_loss: 1.626229e-05, val_loss: 1.141476e-05\n",
      "Delta Y: train_loss: 1.049725e-05, val_loss: 8.069049e-06\n",
      "Delta yaw: train_loss: 7.867957e-06, val_loss: 4.572096e-06\n",
      "Throttle: train_loss: 1.132486e-05, val_loss: 1.059240e-05\n",
      "Steering Angle: train_loss: 1.005510e-05, val_loss: 1.046490e-05\n",
      "Epoch 120/600\n",
      "Delta X: train_loss: 2.663724e-06, val_loss: 3.947504e-06\n",
      "Delta Y: train_loss: 1.640969e-06, val_loss: 1.401549e-06\n",
      "Delta yaw: train_loss: 4.819287e-06, val_loss: 4.763392e-06\n",
      "Throttle: train_loss: 4.354767e-06, val_loss: 4.375448e-06\n",
      "Steering Angle: train_loss: 4.188341e-06, val_loss: 4.644154e-06\n",
      "Epoch 130/600\n",
      "Delta X: train_loss: 2.364410e-06, val_loss: 1.909053e-06\n",
      "Delta Y: train_loss: 1.579135e-06, val_loss: 1.070909e-06\n",
      "Delta yaw: train_loss: 9.420380e-07, val_loss: 9.383735e-07\n",
      "Throttle: train_loss: 1.507007e-06, val_loss: 1.501686e-06\n",
      "Steering Angle: train_loss: 7.403145e-07, val_loss: 1.215294e-06\n",
      "Epoch 140/600\n",
      "Delta X: train_loss: 4.306214e-07, val_loss: 4.240625e-07\n",
      "Delta Y: train_loss: 1.849453e-07, val_loss: 1.350345e-07\n",
      "Delta yaw: train_loss: 1.018450e-06, val_loss: 1.189459e-06\n",
      "Throttle: train_loss: 4.832563e-07, val_loss: 4.481373e-07\n",
      "Steering Angle: train_loss: 4.127280e-07, val_loss: 4.978288e-07\n",
      "Epoch 150/600\n",
      "Delta X: train_loss: 1.496959e-07, val_loss: 1.374571e-07\n",
      "Delta Y: train_loss: 1.781315e-07, val_loss: 9.377449e-08\n",
      "Delta yaw: train_loss: 1.672926e-07, val_loss: 1.023092e-07\n",
      "Throttle: train_loss: 2.418624e-07, val_loss: 1.901839e-07\n",
      "Steering Angle: train_loss: 1.946419e-07, val_loss: 1.750085e-07\n",
      "Epoch 160/600\n",
      "Delta X: train_loss: 1.089986e-07, val_loss: 1.068811e-07\n",
      "Delta Y: train_loss: 6.165102e-08, val_loss: 5.513104e-08\n",
      "Delta yaw: train_loss: 1.002053e-07, val_loss: 9.935976e-08\n",
      "Throttle: train_loss: 8.350889e-08, val_loss: 6.796603e-08\n",
      "Steering Angle: train_loss: 6.635209e-08, val_loss: 3.897080e-08\n",
      "Epoch 170/600\n",
      "Delta X: train_loss: 9.363434e-09, val_loss: 1.078973e-08\n",
      "Delta Y: train_loss: 1.710210e-08, val_loss: 3.356649e-08\n",
      "Delta yaw: train_loss: 1.513332e-08, val_loss: 1.519074e-08\n",
      "Throttle: train_loss: 4.077785e-08, val_loss: 4.341341e-08\n",
      "Steering Angle: train_loss: 1.784846e-08, val_loss: 1.704747e-08\n",
      "Epoch 180/600\n",
      "Delta X: train_loss: 1.188844e-08, val_loss: 7.590912e-09\n",
      "Delta Y: train_loss: 5.578728e-09, val_loss: 5.152427e-09\n",
      "Delta yaw: train_loss: 6.459748e-09, val_loss: 4.065997e-09\n",
      "Throttle: train_loss: 1.685127e-08, val_loss: 1.348382e-08\n",
      "Steering Angle: train_loss: 5.448516e-09, val_loss: 5.786389e-09\n",
      "Epoch 190/600\n",
      "Delta X: train_loss: 4.514753e-09, val_loss: 4.807506e-09\n",
      "Delta Y: train_loss: 3.200430e-09, val_loss: 2.426497e-09\n",
      "Delta yaw: train_loss: 2.667100e-09, val_loss: 1.276297e-09\n",
      "Throttle: train_loss: 4.616276e-09, val_loss: 4.810730e-09\n",
      "Steering Angle: train_loss: 9.342522e-10, val_loss: 1.235208e-09\n",
      "Epoch 200/600\n",
      "Delta X: train_loss: 1.126202e-09, val_loss: 9.571606e-10\n",
      "Delta Y: train_loss: 1.150112e-09, val_loss: 1.004531e-09\n",
      "Delta yaw: train_loss: 5.454884e-10, val_loss: 1.020134e-09\n",
      "Throttle: train_loss: 1.293390e-09, val_loss: 1.310843e-09\n",
      "Steering Angle: train_loss: 9.928012e-10, val_loss: 1.133948e-09\n",
      "Epoch 210/600\n",
      "Delta X: train_loss: 4.880266e-10, val_loss: 3.462901e-10\n",
      "Delta Y: train_loss: 1.768689e-10, val_loss: 1.237579e-10\n",
      "Delta yaw: train_loss: 5.161917e-10, val_loss: 3.054050e-10\n",
      "Throttle: train_loss: 4.292217e-10, val_loss: 3.336812e-10\n",
      "Steering Angle: train_loss: 2.252824e-10, val_loss: 2.641970e-10\n",
      "Epoch 220/600\n",
      "Delta X: train_loss: 1.162293e-10, val_loss: 1.007886e-10\n",
      "Delta Y: train_loss: 1.215937e-10, val_loss: 7.560436e-11\n",
      "Delta yaw: train_loss: 1.617754e-10, val_loss: 1.314121e-10\n",
      "Throttle: train_loss: 1.678098e-10, val_loss: 1.368012e-10\n",
      "Steering Angle: train_loss: 7.571194e-11, val_loss: 1.127094e-10\n",
      "Epoch 230/600\n",
      "Delta X: train_loss: 5.593392e-11, val_loss: 4.727306e-11\n",
      "Delta Y: train_loss: 1.257824e-11, val_loss: 9.399370e-12\n",
      "Delta yaw: train_loss: 2.010824e-11, val_loss: 2.247044e-11\n",
      "Throttle: train_loss: 7.260662e-11, val_loss: 6.488853e-11\n",
      "Steering Angle: train_loss: 3.158655e-11, val_loss: 3.449011e-11\n",
      "Epoch 240/600\n",
      "Delta X: train_loss: 1.783850e-11, val_loss: 1.413851e-11\n",
      "Delta Y: train_loss: 4.469980e-12, val_loss: 5.948393e-12\n",
      "Delta yaw: train_loss: 8.656638e-12, val_loss: 6.355932e-12\n",
      "Throttle: train_loss: 1.223158e-11, val_loss: 1.539449e-11\n",
      "Steering Angle: train_loss: 1.733786e-11, val_loss: 1.299188e-11\n",
      "Epoch 250/600\n",
      "Delta X: train_loss: 2.873177e-12, val_loss: 1.881001e-12\n",
      "Delta Y: train_loss: 2.083122e-12, val_loss: 1.952559e-12\n",
      "Delta yaw: train_loss: 2.908670e-12, val_loss: 2.444031e-12\n",
      "Throttle: train_loss: 3.765798e-12, val_loss: 3.437496e-12\n",
      "Steering Angle: train_loss: 3.048094e-12, val_loss: 4.458229e-12\n",
      "Epoch 260/600\n",
      "Delta X: train_loss: 7.854727e-13, val_loss: 8.474837e-13\n",
      "Delta Y: train_loss: 1.164584e-12, val_loss: 9.548927e-13\n",
      "Delta yaw: train_loss: 2.575603e-12, val_loss: 2.060661e-12\n",
      "Throttle: train_loss: 8.611975e-13, val_loss: 1.067850e-12\n",
      "Steering Angle: train_loss: 1.737294e-12, val_loss: 1.948035e-12\n",
      "Epoch 270/600\n",
      "Delta X: train_loss: 1.012846e-12, val_loss: 3.927364e-13\n",
      "Delta Y: train_loss: 3.837133e-13, val_loss: 3.754774e-13\n",
      "Delta yaw: train_loss: 4.319436e-13, val_loss: 4.046523e-13\n",
      "Throttle: train_loss: 4.112242e-13, val_loss: 6.106354e-13\n",
      "Steering Angle: train_loss: 8.486416e-13, val_loss: 8.677072e-13\n"
     ]
    },
    {
     "name": "stdout",
     "output_type": "stream",
     "text": [
      "Epoch 280/600\n",
      "Delta X: train_loss: 5.167583e-13, val_loss: 6.201100e-13\n",
      "Delta Y: train_loss: 2.865788e-13, val_loss: 6.865216e-14\n",
      "Delta yaw: train_loss: 1.019450e-13, val_loss: 3.166419e-13\n",
      "Throttle: train_loss: 1.708508e-13, val_loss: 2.767459e-13\n",
      "Steering Angle: train_loss: 3.904425e-13, val_loss: 3.621823e-13\n",
      "Epoch 290/600\n",
      "Delta X: train_loss: 2.687144e-13, val_loss: 2.687144e-13\n",
      "Delta Y: train_loss: 1.636872e-13, val_loss: 2.002641e-13\n",
      "Delta yaw: train_loss: 2.877358e-13, val_loss: 2.595159e-13\n",
      "Throttle: train_loss: 2.302730e-13, val_loss: 1.245040e-13\n",
      "Steering Angle: train_loss: 1.534200e-13, val_loss: 1.599097e-13\n",
      "Epoch 300/600\n",
      "Delta X: train_loss: 2.273737e-13, val_loss: 8.268134e-14\n",
      "Delta Y: train_loss: 2.285243e-13, val_loss: 2.086614e-13\n",
      "Delta yaw: train_loss: 1.042058e-13, val_loss: 1.857567e-13\n",
      "Throttle: train_loss: 2.038042e-13, val_loss: 1.323361e-13\n",
      "Steering Angle: train_loss: 2.150878e-13, val_loss: 2.576497e-13\n",
      "Epoch 310/600\n",
      "Delta X: train_loss: 2.067033e-13, val_loss: 2.893847e-13\n",
      "Delta Y: train_loss: 1.794322e-13, val_loss: 1.206510e-13\n",
      "Delta yaw: train_loss: 1.029946e-13, val_loss: 6.956683e-14\n",
      "Throttle: train_loss: 1.748375e-13, val_loss: 1.267295e-13\n",
      "Steering Angle: train_loss: 2.665820e-13, val_loss: 1.830125e-13\n",
      "Epoch 320/600\n",
      "Delta X: train_loss: 2.273737e-13, val_loss: 1.860330e-13\n",
      "Delta Y: train_loss: 4.798182e-14, val_loss: 6.308085e-14\n",
      "Delta yaw: train_loss: 1.092926e-13, val_loss: 4.376928e-14\n",
      "Throttle: train_loss: 5.336394e-14, val_loss: 6.470339e-14\n",
      "Steering Angle: train_loss: 1.161670e-13, val_loss: 1.609190e-13\n",
      "Epoch 330/600\n",
      "Delta X: train_loss: 1.446923e-13, val_loss: 1.653627e-13\n",
      "Delta Y: train_loss: 1.815316e-13, val_loss: 2.717220e-13\n",
      "Delta yaw: train_loss: 1.203949e-13, val_loss: 5.898943e-14\n",
      "Throttle: train_loss: 7.471558e-14, val_loss: 1.046310e-13\n",
      "Steering Angle: train_loss: 5.350999e-14, val_loss: 1.251396e-13\n",
      "Epoch 340/600\n",
      "Delta X: train_loss: 2.067033e-13, val_loss: 3.513957e-13\n",
      "Delta Y: train_loss: 9.012992e-14, val_loss: 1.422902e-13\n",
      "Delta yaw: train_loss: 4.748348e-14, val_loss: 1.017027e-13\n",
      "Throttle: train_loss: 5.530181e-14, val_loss: 6.243246e-14\n",
      "Steering Angle: train_loss: 2.234650e-13, val_loss: 1.622412e-13\n",
      "Epoch 350/600\n",
      "Delta X: train_loss: 1.653627e-13, val_loss: 4.134067e-14\n",
      "Delta Y: train_loss: 4.394465e-14, val_loss: 1.343774e-13\n",
      "Delta yaw: train_loss: 1.047306e-13, val_loss: 1.345653e-13\n",
      "Throttle: train_loss: 6.000009e-14, val_loss: 1.309232e-13\n",
      "Steering Angle: train_loss: 1.324771e-13, val_loss: 2.806414e-13\n",
      "Epoch 360/600\n",
      "Delta X: train_loss: 1.446923e-13, val_loss: 2.067033e-13\n",
      "Delta Y: train_loss: 1.256571e-13, val_loss: 1.603768e-13\n",
      "Delta yaw: train_loss: 6.028133e-14, val_loss: 9.245761e-14\n",
      "Throttle: train_loss: 8.570676e-14, val_loss: 1.067203e-13\n",
      "Steering Angle: train_loss: 9.378081e-14, val_loss: 1.540054e-13\n",
      "Epoch 370/600\n",
      "Delta X: train_loss: 1.446923e-13, val_loss: 2.067033e-13\n",
      "Delta Y: train_loss: 8.786911e-14, val_loss: 7.204338e-14\n",
      "Delta yaw: train_loss: 6.419739e-14, val_loss: 5.055174e-14\n",
      "Throttle: train_loss: 9.036469e-14, val_loss: 4.354354e-14\n",
      "Steering Angle: train_loss: 4.865529e-14, val_loss: 1.210015e-13\n",
      "Epoch 380/600\n",
      "Delta X: train_loss: 1.446923e-13, val_loss: 3.100550e-13\n",
      "Delta Y: train_loss: 1.254956e-13, val_loss: 7.971401e-14\n",
      "Delta yaw: train_loss: 4.231590e-14, val_loss: 9.508177e-14\n",
      "Throttle: train_loss: 6.972966e-14, val_loss: 6.692384e-14\n",
      "Steering Angle: train_loss: 8.413196e-14, val_loss: 3.076098e-13\n",
      "Epoch 390/600\n",
      "Delta X: train_loss: 2.480440e-13, val_loss: 4.134067e-13\n",
      "Delta Y: train_loss: 1.429362e-13, val_loss: 1.066016e-13\n",
      "Delta yaw: train_loss: 1.037213e-13, val_loss: 1.388044e-13\n",
      "Throttle: train_loss: 4.732335e-14, val_loss: 1.010279e-13\n",
      "Steering Angle: train_loss: 1.475156e-13, val_loss: 7.726876e-14\n",
      "Epoch 400/600\n",
      "Delta X: train_loss: 2.480440e-13, val_loss: 1.653627e-13\n",
      "Delta Y: train_loss: 4.967744e-14, val_loss: 4.717439e-14\n",
      "Delta yaw: train_loss: 1.115534e-13, val_loss: 5.374110e-14\n",
      "Throttle: train_loss: 2.137155e-13, val_loss: 4.961443e-14\n",
      "Steering Angle: train_loss: 2.497167e-13, val_loss: 1.095864e-13\n",
      "Epoch 410/600\n",
      "Delta X: train_loss: 6.201100e-14, val_loss: 4.547474e-13\n",
      "Delta Y: train_loss: 1.045830e-13, val_loss: 1.101543e-13\n",
      "Delta yaw: train_loss: 8.781486e-14, val_loss: 1.107056e-13\n",
      "Throttle: train_loss: 7.575512e-14, val_loss: 5.538759e-14\n",
      "Steering Angle: train_loss: 1.410561e-13, val_loss: 1.503113e-13\n",
      "Epoch 420/600\n",
      "Delta X: train_loss: 2.273737e-13, val_loss: 1.033517e-13\n",
      "Delta Y: train_loss: 7.277008e-14, val_loss: 1.210547e-13\n",
      "Delta yaw: train_loss: 1.031158e-13, val_loss: 1.690428e-13\n",
      "Throttle: train_loss: 8.817450e-14, val_loss: 7.599234e-14\n",
      "Steering Angle: train_loss: 1.545807e-13, val_loss: 1.210317e-13\n",
      "Epoch 430/600\n",
      "Delta X: train_loss: 6.821210e-13, val_loss: 4.134067e-13\n",
      "Delta Y: train_loss: 1.258185e-13, val_loss: 1.734572e-13\n",
      "Delta yaw: train_loss: 8.248579e-14, val_loss: 1.824059e-13\n",
      "Throttle: train_loss: 6.774134e-14, val_loss: 1.947761e-13\n",
      "Steering Angle: train_loss: 2.484147e-13, val_loss: 2.527244e-13\n",
      "Epoch 440/600\n",
      "Delta X: train_loss: 1.653627e-13, val_loss: 1.653627e-13\n",
      "Delta Y: train_loss: 8.528531e-14, val_loss: 2.551696e-13\n",
      "Delta yaw: train_loss: 1.001686e-13, val_loss: 9.274021e-14\n",
      "Throttle: train_loss: 9.445735e-14, val_loss: 5.617483e-14\n",
      "Steering Angle: train_loss: 1.979298e-13, val_loss: 2.023001e-13\n",
      "Epoch 450/600\n",
      "Delta X: train_loss: 4.134067e-13, val_loss: 8.268134e-14\n",
      "Delta Y: train_loss: 2.555733e-13, val_loss: 3.259009e-13\n",
      "Delta yaw: train_loss: 1.641578e-13, val_loss: 2.008558e-13\n",
      "Throttle: train_loss: 6.825103e-14, val_loss: 6.287655e-14\n",
      "Steering Angle: train_loss: 1.867166e-13, val_loss: 4.752535e-13\n",
      "Epoch 460/600\n",
      "Delta X: train_loss: 1.653627e-13, val_loss: 2.480440e-13\n",
      "Delta Y: train_loss: 1.168560e-13, val_loss: 1.658673e-13\n",
      "Delta yaw: train_loss: 4.288110e-14, val_loss: 1.072740e-13\n",
      "Throttle: train_loss: 1.029708e-13, val_loss: 2.300963e-13\n",
      "Steering Angle: train_loss: 1.435693e-13, val_loss: 1.470211e-13\n",
      "Epoch 470/600\n",
      "Delta X: train_loss: 1.860330e-13, val_loss: 3.927364e-13\n",
      "Delta Y: train_loss: 7.753394e-14, val_loss: 9.287520e-14\n",
      "Delta yaw: train_loss: 1.097771e-13, val_loss: 5.337776e-14\n",
      "Throttle: train_loss: 6.411294e-14, val_loss: 8.878511e-14\n",
      "Steering Angle: train_loss: 8.748282e-14, val_loss: 1.598996e-13\n",
      "Epoch 480/600\n",
      "Delta X: train_loss: 4.340770e-13, val_loss: 3.513957e-13\n",
      "Delta Y: train_loss: 1.466504e-13, val_loss: 8.318599e-14\n",
      "Delta yaw: train_loss: 1.994427e-13, val_loss: 1.225346e-13\n",
      "Throttle: train_loss: 1.074167e-13, val_loss: 5.071456e-14\n",
      "Steering Angle: train_loss: 2.464667e-13, val_loss: 6.845763e-14\n",
      "Epoch 490/600\n",
      "Delta X: train_loss: 2.273737e-13, val_loss: 3.100550e-13\n",
      "Delta Y: train_loss: 1.071668e-13, val_loss: 1.406754e-13\n",
      "Delta yaw: train_loss: 2.321035e-13, val_loss: 1.245531e-13\n",
      "Throttle: train_loss: 1.716986e-13, val_loss: 2.257362e-13\n",
      "Steering Angle: train_loss: 2.047829e-13, val_loss: 2.270379e-13\n",
      "Epoch 500/600\n",
      "Delta X: train_loss: 1.653627e-13, val_loss: 1.446923e-13\n",
      "Delta Y: train_loss: 1.453585e-13, val_loss: 1.390605e-13\n",
      "Delta yaw: train_loss: 6.492408e-14, val_loss: 4.970393e-14\n",
      "Throttle: train_loss: 4.880194e-14, val_loss: 8.811393e-14\n",
      "Steering Angle: train_loss: 1.229393e-13, val_loss: 1.087789e-13\n",
      "Epoch 510/600\n",
      "Delta X: train_loss: 5.580990e-13, val_loss: 3.720660e-13\n",
      "Delta Y: train_loss: 9.933468e-14, val_loss: 2.223878e-13\n",
      "Delta yaw: train_loss: 7.005129e-14, val_loss: 9.007568e-14\n",
      "Throttle: train_loss: 1.194374e-13, val_loss: 6.392624e-14\n",
      "Steering Angle: train_loss: 6.989083e-14, val_loss: 1.261388e-13\n",
      "Epoch 520/600\n",
      "Delta X: train_loss: 3.100550e-13, val_loss: 3.307254e-13\n",
      "Delta Y: train_loss: 1.187131e-13, val_loss: 1.539173e-13\n",
      "Delta yaw: train_loss: 9.911895e-14, val_loss: 2.335165e-13\n",
      "Throttle: train_loss: 1.261491e-13, val_loss: 5.314695e-14\n",
      "Steering Angle: train_loss: 2.687822e-13, val_loss: 1.644011e-13\n",
      "Epoch 530/600\n",
      "Delta X: train_loss: 1.240220e-13, val_loss: 1.446923e-13\n",
      "Delta Y: train_loss: 1.238000e-13, val_loss: 1.170983e-13\n",
      "Delta yaw: train_loss: 1.069914e-13, val_loss: 8.026534e-14\n",
      "Throttle: train_loss: 1.015376e-13, val_loss: 1.405114e-13\n",
      "Steering Angle: train_loss: 1.696191e-13, val_loss: 4.708327e-13\n",
      "Epoch 540/600\n",
      "Delta X: train_loss: 4.134067e-13, val_loss: 3.307254e-13\n",
      "Delta Y: train_loss: 1.185516e-13, val_loss: 1.613457e-13\n",
      "Delta yaw: train_loss: 3.198073e-14, val_loss: 3.367635e-14\n",
      "Throttle: train_loss: 1.291316e-13, val_loss: 2.016343e-13\n",
      "Steering Angle: train_loss: 7.889373e-14, val_loss: 7.450330e-14\n"
     ]
    },
    {
     "name": "stdout",
     "output_type": "stream",
     "text": [
      "Epoch 550/600\n",
      "Delta X: train_loss: 6.407804e-13, val_loss: 2.480440e-13\n",
      "Delta Y: train_loss: 7.301231e-14, val_loss: 1.545632e-13\n",
      "Delta yaw: train_loss: 1.949615e-13, val_loss: 6.859791e-14\n",
      "Throttle: train_loss: 1.190034e-13, val_loss: 1.009875e-13\n",
      "Steering Angle: train_loss: 4.826112e-13, val_loss: 2.580131e-13\n",
      "Epoch 560/600\n",
      "Delta X: train_loss: 2.893847e-13, val_loss: 5.580990e-13\n",
      "Delta Y: train_loss: 8.399342e-14, val_loss: 2.211766e-13\n",
      "Delta yaw: train_loss: 8.696705e-14, val_loss: 1.381988e-13\n",
      "Throttle: train_loss: 7.211662e-14, val_loss: 5.821361e-14\n",
      "Steering Angle: train_loss: 2.145630e-13, val_loss: 2.404615e-13\n",
      "Epoch 570/600\n",
      "Delta X: train_loss: 2.480440e-13, val_loss: 1.860330e-13\n",
      "Delta Y: train_loss: 1.608612e-13, val_loss: 2.445115e-13\n",
      "Delta yaw: train_loss: 1.005723e-13, val_loss: 8.801672e-14\n",
      "Throttle: train_loss: 1.504328e-13, val_loss: 1.879734e-13\n",
      "Steering Angle: train_loss: 2.086586e-13, val_loss: 1.219603e-13\n",
      "Epoch 580/600\n",
      "Delta X: train_loss: 4.134067e-13, val_loss: 4.340770e-13\n",
      "Delta Y: train_loss: 8.956472e-14, val_loss: 8.463937e-14\n",
      "Delta yaw: train_loss: 1.078392e-13, val_loss: 1.058207e-13\n",
      "Throttle: train_loss: 1.654493e-14, val_loss: 7.464491e-14\n",
      "Steering Angle: train_loss: 5.545793e-14, val_loss: 4.356845e-14\n",
      "Epoch 590/600\n",
      "Delta X: train_loss: 2.273737e-13, val_loss: 2.480440e-13\n",
      "Delta Y: train_loss: 1.348618e-13, val_loss: 1.216199e-13\n",
      "Delta yaw: train_loss: 1.258450e-13, val_loss: 1.430434e-13\n",
      "Throttle: train_loss: 7.672403e-14, val_loss: 1.493579e-13\n",
      "Steering Angle: train_loss: 8.421271e-14, val_loss: 2.025827e-13\n",
      "Epoch 600/600\n",
      "Delta X: train_loss: 1.653627e-13, val_loss: 5.787693e-13\n",
      "Delta Y: train_loss: 1.534328e-13, val_loss: 1.799167e-13\n",
      "Delta yaw: train_loss: 2.267340e-13, val_loss: 1.409844e-13\n",
      "Throttle: train_loss: 1.666269e-13, val_loss: 1.760789e-13\n",
      "Steering Angle: train_loss: 2.314384e-13, val_loss: 2.680455e-13\n"
     ]
    }
   ],
   "source": [
    "# test if the model will overfit with only one sample\n",
    "max_epochs = 600\n",
    "train_history = np.empty([0, 5], dtype=float) \n",
    "val_history = np.empty([0, 5], dtype=float) \n",
    "myoptimizer = optim.Adam(mynet.parameters(), lr=1e-4, eps = 1e-08) \n",
    "#scheduler = optim.lr_scheduler.CosineAnnealingLR(myoptimizer, max_epochs)\n",
    "for epoch in range(max_epochs): \n",
    "    '''\n",
    "    if epoch >= 1999 and epoch <= 2999:\n",
    "        myoptimizer.param_groups[0]['lr'] = 1e-5\n",
    "    elif epoch > 2999:\n",
    "        myoptimizer.param_groups[0]['lr'] = 1e-6\n",
    "    scheduler.step()\n",
    "    '''\n",
    "    train_loss1, train_loss2, train_loss3, train_loss4, train_loss5 = run_epoch(model=mynet,criterion=mycriterion,\n",
    "                           optimizer=myoptimizer,dataloader=over_loader,\n",
    "                           iftrain=True)\n",
    "    train_history = np.append(train_history, np.array([[train_loss1, train_loss2, train_loss3, train_loss4, train_loss5]]), axis=0)\n",
    "    val_loss1, val_loss2, val_loss3, val_loss4, val_loss5 =  run_epoch(model=mynet,criterion=mycriterion,\n",
    "                           optimizer=myoptimizer,dataloader=over_loader,\n",
    "                           iftrain=False)\n",
    "    val_history = np.append(val_history, np.array([[val_loss1, val_loss2, val_loss3, val_loss4, val_loss5]]), axis=0)\n",
    "    if epoch % 10 == 9:\n",
    "        print(f\"Epoch {epoch + 1}/{max_epochs}\")\n",
    "        print('Delta X: train_loss: %2e, val_loss: %2e'%(train_loss1, val_loss1))\n",
    "        print('Delta Y: train_loss: %2e, val_loss: %2e'%(train_loss2, val_loss2))\n",
    "        print('Delta yaw: train_loss: %2e, val_loss: %2e'%(train_loss3, val_loss3))\n",
    "        print('Throttle: train_loss: %2e, val_loss: %2e'%(train_loss4, val_loss4))\n",
    "        print('Steering Angle: train_loss: %2e, val_loss: %2e'%(train_loss5, val_loss5))\n",
    "        #print(scheduler.get_last_lr())"
   ]
  },
  {
   "cell_type": "code",
   "execution_count": 49,
   "metadata": {},
   "outputs": [
    {
     "data": {
      "image/png": "[encoded data removed]",
      "text/plain": [
       "<Figure size 640x480 with 1 Axes>"
      ]
     },
     "metadata": {},
     "output_type": "display_data"
    }
   ],
   "source": [
    "# plot the train&validation loss curve with only one sample\n",
    "epochs = range(len(train_history))\n",
    "plt.figure()\n",
    "plt.plot(epochs, train_history[:,3], 'bo', label='Training loss')\n",
    "plt.plot(epochs, val_history[:,3], 'r', label='Validation loss')\n",
    "plt.title('Training and validation loss')\n",
    "\n",
    "plt.legend()\n",
    "plt.show()"
   ]
  },
  {
   "cell_type": "code",
   "execution_count": 50,
   "metadata": {},
   "outputs": [
    {
     "name": "stdout",
     "output_type": "stream",
     "text": [
      "test_in tensor(4.9390, device='cuda:0')\n",
      "prediction:[[5.270471   3.9836092  0.62367886 1.0000006  0.9999999 ]],\n",
      "ground truth:tensor([5.2705, 3.9836, 0.6237, 1.0000, 1.0000], device='cuda:0',\n",
      "       dtype=torch.float64)\n"
     ]
    },
    {
     "name": "stderr",
     "output_type": "stream",
     "text": [
      "/home/melina/.local/lib/python3.7/site-packages/ipykernel_launcher.py:4: UserWarning: To copy construct from a tensor, it is recommended to use sourceTensor.clone().detach() or sourceTensor.clone().detach().requires_grad_(True), rather than torch.tensor(sourceTensor).\n",
      "  after removing the cwd from sys.path.\n"
     ]
    }
   ],
   "source": [
    "mynet.eval()\n",
    "TEST = random.randint (0, 11)\n",
    "test_in, gt_X, gt_Y, gt_yaw, gt_th, gt_st = over_data[TEST]\n",
    "test_in = [torch.tensor(x).cuda() for x in test_in]\n",
    "gt_output = [gt_X, gt_Y, gt_yaw, gt_th, gt_st]\n",
    "gt_output = torch.tensor(gt_output).to(device)\n",
    "output_pred = mynet(test_in) \n",
    "#print('TEST', TEST)\n",
    "print('test_in',test_in[1])\n",
    "print('prediction:{},\\nground truth:{}'.format(output_pred.cpu().detach().numpy(), gt_output))"
   ]
  },
  {
   "cell_type": "code",
   "execution_count": 51,
   "metadata": {},
   "outputs": [],
   "source": [
    "# start the main training process\n",
    "\n",
    "num_trainbatch = np.ceil(len(train_data)/32) \n",
    "num_valbatch = np.ceil(len(val_data)/32) \n",
    "train_history = np.empty([0, 5], dtype=float) \n",
    "val_history = np.empty([0, 5], dtype=float) \n",
    "\n",
    "min_loss = 100000\n",
    "current_patience = 0\n",
    "patience = 5\n",
    "\n"
   ]
  },
  {
   "cell_type": "code",
   "execution_count": 57,
   "metadata": {
    "scrolled": true
   },
   "outputs": [
    {
     "name": "stdout",
     "output_type": "stream",
     "text": [
      "Start training!\n",
      "Epoch   1/50\n",
      "Delta X: train_loss: 6.874965e-03, val_loss: 8.161874e-02\n",
      "Delta Y: train_loss: 3.659056e-03, val_loss: 6.113305e-02\n",
      "Delta yaw: train_loss: 4.833219e-04, val_loss: 1.522152e-03\n",
      "Throttle: train_loss: 1.821463e-03, val_loss: 3.392555e-02\n",
      "Steering Angle: train_loss: 1.189624e-03, val_loss: 1.917386e-02\n",
      "Epoch   2/50\n",
      "Delta X: train_loss: 6.393266e-03, val_loss: 8.153284e-02\n",
      "Delta Y: train_loss: 3.424545e-03, val_loss: 6.082876e-02\n",
      "Delta yaw: train_loss: 4.773171e-04, val_loss: 1.511087e-03\n",
      "Throttle: train_loss: 1.737024e-03, val_loss: 3.381680e-02\n",
      "Steering Angle: train_loss: 1.151773e-03, val_loss: 1.915028e-02\n",
      "Epoch   3/50\n",
      "Delta X: train_loss: 5.988955e-03, val_loss: 8.143891e-02\n",
      "Delta Y: train_loss: 3.207452e-03, val_loss: 6.085388e-02\n",
      "Delta yaw: train_loss: 4.723087e-04, val_loss: 1.504126e-03\n",
      "Throttle: train_loss: 1.669230e-03, val_loss: 3.386615e-02\n",
      "Steering Angle: train_loss: 1.119284e-03, val_loss: 1.918039e-02\n",
      "Epoch   4/50\n",
      "Delta X: train_loss: 5.611204e-03, val_loss: 8.142917e-02\n",
      "Delta Y: train_loss: 3.013838e-03, val_loss: 6.096753e-02\n",
      "Delta yaw: train_loss: 4.676528e-04, val_loss: 1.506525e-03\n",
      "Throttle: train_loss: 1.606544e-03, val_loss: 3.378625e-02\n",
      "Steering Angle: train_loss: 1.088720e-03, val_loss: 1.935383e-02\n",
      "Epoch   5/50\n",
      "Delta X: train_loss: 5.270386e-03, val_loss: 8.146499e-02\n",
      "Delta Y: train_loss: 2.842791e-03, val_loss: 6.106453e-02\n",
      "Delta yaw: train_loss: 4.630932e-04, val_loss: 1.498996e-03\n",
      "Throttle: train_loss: 1.548568e-03, val_loss: 3.363598e-02\n",
      "Steering Angle: train_loss: 1.060667e-03, val_loss: 1.909891e-02\n",
      "Epoch   6/50\n",
      "Delta X: train_loss: 4.963374e-03, val_loss: 8.153235e-02\n",
      "Delta Y: train_loss: 2.691101e-03, val_loss: 6.079618e-02\n",
      "Delta yaw: train_loss: 4.595458e-04, val_loss: 1.492407e-03\n",
      "Throttle: train_loss: 1.493779e-03, val_loss: 3.363984e-02\n",
      "Steering Angle: train_loss: 1.035580e-03, val_loss: 1.910720e-02\n",
      "Epoch   7/50\n",
      "Delta X: train_loss: 4.662904e-03, val_loss: 8.119871e-02\n",
      "Delta Y: train_loss: 2.537016e-03, val_loss: 6.072620e-02\n",
      "Delta yaw: train_loss: 4.556195e-04, val_loss: 1.489304e-03\n",
      "Throttle: train_loss: 1.446681e-03, val_loss: 3.363491e-02\n",
      "Steering Angle: train_loss: 1.012180e-03, val_loss: 1.909528e-02\n",
      "Epoch   8/50\n",
      "Delta X: train_loss: 4.412060e-03, val_loss: 8.143156e-02\n",
      "Delta Y: train_loss: 2.396291e-03, val_loss: 6.098597e-02\n",
      "Delta yaw: train_loss: 4.521428e-04, val_loss: 1.497025e-03\n",
      "Throttle: train_loss: 1.401881e-03, val_loss: 3.362225e-02\n",
      "Steering Angle: train_loss: 9.902305e-04, val_loss: 1.910608e-02\n",
      "Epoch   9/50\n",
      "Delta X: train_loss: 4.164013e-03, val_loss: 8.131601e-02\n",
      "Delta Y: train_loss: 2.277741e-03, val_loss: 6.083181e-02\n",
      "Delta yaw: train_loss: 4.488930e-04, val_loss: 1.491298e-03\n",
      "Throttle: train_loss: 1.357246e-03, val_loss: 3.349335e-02\n",
      "Steering Angle: train_loss: 9.691295e-04, val_loss: 1.961710e-02\n",
      "Epoch  10/50\n",
      "Delta X: train_loss: 3.945014e-03, val_loss: 8.128165e-02\n",
      "Delta Y: train_loss: 2.161941e-03, val_loss: 6.076497e-02\n",
      "Delta yaw: train_loss: 4.457789e-04, val_loss: 1.482101e-03\n",
      "Throttle: train_loss: 1.318039e-03, val_loss: 3.345334e-02\n",
      "Steering Angle: train_loss: 9.488031e-04, val_loss: 1.903213e-02\n",
      "Epoch  11/50\n",
      "Delta X: train_loss: 3.732312e-03, val_loss: 8.111432e-02\n",
      "Delta Y: train_loss: 2.066209e-03, val_loss: 6.073059e-02\n",
      "Delta yaw: train_loss: 4.428151e-04, val_loss: 1.480651e-03\n",
      "Throttle: train_loss: 1.281256e-03, val_loss: 3.344734e-02\n",
      "Steering Angle: train_loss: 9.312112e-04, val_loss: 1.903118e-02\n",
      "Epoch  12/50\n",
      "Delta X: train_loss: 3.537802e-03, val_loss: 8.135450e-02\n",
      "Delta Y: train_loss: 1.966789e-03, val_loss: 6.103433e-02\n",
      "Delta yaw: train_loss: 4.394848e-04, val_loss: 1.478229e-03\n",
      "Throttle: train_loss: 1.243457e-03, val_loss: 3.345844e-02\n",
      "Steering Angle: train_loss: 9.129110e-04, val_loss: 1.905914e-02\n",
      "Epoch  13/50\n",
      "Delta X: train_loss: 3.353554e-03, val_loss: 8.122151e-02\n",
      "Delta Y: train_loss: 1.876317e-03, val_loss: 6.092382e-02\n",
      "Delta yaw: train_loss: 4.370106e-04, val_loss: 1.475277e-03\n",
      "Throttle: train_loss: 1.212267e-03, val_loss: 3.337729e-02\n",
      "Steering Angle: train_loss: 8.970864e-04, val_loss: 1.903213e-02\n",
      "Epoch  14/50\n",
      "Delta X: train_loss: 3.200016e-03, val_loss: 8.130350e-02\n",
      "Delta Y: train_loss: 1.789350e-03, val_loss: 6.088612e-02\n",
      "Delta yaw: train_loss: 4.341983e-04, val_loss: 1.472082e-03\n",
      "Throttle: train_loss: 1.180001e-03, val_loss: 3.335253e-02\n",
      "Steering Angle: train_loss: 8.810590e-04, val_loss: 1.902219e-02\n",
      "Epoch  15/50\n",
      "Delta X: train_loss: 3.044706e-03, val_loss: 8.122366e-02\n",
      "Delta Y: train_loss: 1.710316e-03, val_loss: 6.085042e-02\n",
      "Delta yaw: train_loss: 4.316628e-04, val_loss: 1.472214e-03\n",
      "Throttle: train_loss: 1.150425e-03, val_loss: 3.342054e-02\n",
      "Steering Angle: train_loss: 8.657480e-04, val_loss: 1.904125e-02\n",
      "Epoch  16/50\n",
      "Delta X: train_loss: 2.905956e-03, val_loss: 8.144283e-02\n",
      "Delta Y: train_loss: 1.640573e-03, val_loss: 6.075878e-02\n",
      "Delta yaw: train_loss: 4.289353e-04, val_loss: 1.471687e-03\n",
      "Throttle: train_loss: 1.120078e-03, val_loss: 3.337925e-02\n",
      "Steering Angle: train_loss: 8.518882e-04, val_loss: 1.916929e-02\n",
      "Epoch  17/50\n",
      "Delta X: train_loss: 2.766972e-03, val_loss: 8.131529e-02\n",
      "Delta Y: train_loss: 1.569726e-03, val_loss: 6.073511e-02\n",
      "Delta yaw: train_loss: 4.263732e-04, val_loss: 1.466854e-03\n",
      "Throttle: train_loss: 1.095485e-03, val_loss: 3.328168e-02\n",
      "Steering Angle: train_loss: 8.386820e-04, val_loss: 1.902262e-02\n",
      "Epoch  18/50\n",
      "Delta X: train_loss: 2.650574e-03, val_loss: 8.162552e-02\n",
      "Delta Y: train_loss: 1.507907e-03, val_loss: 6.092025e-02\n",
      "Delta yaw: train_loss: 4.240932e-04, val_loss: 1.464296e-03\n",
      "Throttle: train_loss: 1.067323e-03, val_loss: 3.330431e-02\n",
      "Steering Angle: train_loss: 8.257013e-04, val_loss: 1.901989e-02\n",
      "Epoch  19/50\n",
      "Delta X: train_loss: 2.529154e-03, val_loss: 8.152081e-02\n",
      "Delta Y: train_loss: 1.449880e-03, val_loss: 6.077163e-02\n",
      "Delta yaw: train_loss: 4.216484e-04, val_loss: 1.462346e-03\n",
      "Throttle: train_loss: 1.042687e-03, val_loss: 3.336854e-02\n",
      "Steering Angle: train_loss: 8.131433e-04, val_loss: 1.903180e-02\n",
      "Epoch  20/50\n",
      "Delta X: train_loss: 2.436134e-03, val_loss: 8.129651e-02\n",
      "Delta Y: train_loss: 1.390706e-03, val_loss: 6.098817e-02\n",
      "Delta yaw: train_loss: 4.196129e-04, val_loss: 1.460592e-03\n",
      "Throttle: train_loss: 1.019008e-03, val_loss: 3.331019e-02\n",
      "Steering Angle: train_loss: 8.014536e-04, val_loss: 1.902219e-02\n",
      "Epoch  21/50\n",
      "Delta X: train_loss: 2.328925e-03, val_loss: 8.144191e-02\n",
      "Delta Y: train_loss: 1.339082e-03, val_loss: 6.060242e-02\n",
      "Delta yaw: train_loss: 4.174513e-04, val_loss: 1.457759e-03\n",
      "Throttle: train_loss: 9.960691e-04, val_loss: 3.329498e-02\n",
      "Steering Angle: train_loss: 7.898376e-04, val_loss: 1.900597e-02\n",
      "Epoch  22/50\n",
      "Delta X: train_loss: 2.243777e-03, val_loss: 8.138081e-02\n",
      "Delta Y: train_loss: 1.289612e-03, val_loss: 6.108982e-02\n",
      "Delta yaw: train_loss: 4.149277e-04, val_loss: 1.459218e-03\n",
      "Throttle: train_loss: 9.744327e-04, val_loss: 3.321289e-02\n",
      "Steering Angle: train_loss: 7.792923e-04, val_loss: 1.903247e-02\n",
      "Epoch  23/50\n",
      "Delta X: train_loss: 2.156978e-03, val_loss: 8.155025e-02\n",
      "Delta Y: train_loss: 1.243031e-03, val_loss: 6.089156e-02\n",
      "Delta yaw: train_loss: 4.127923e-04, val_loss: 1.463336e-03\n",
      "Throttle: train_loss: 9.518216e-04, val_loss: 3.322861e-02\n",
      "Steering Angle: train_loss: 7.688082e-04, val_loss: 1.900811e-02\n",
      "Epoch  24/50\n",
      "Delta X: train_loss: 2.074029e-03, val_loss: 8.143052e-02\n",
      "Delta Y: train_loss: 1.197397e-03, val_loss: 6.115692e-02\n",
      "Delta yaw: train_loss: 4.107087e-04, val_loss: 1.457367e-03\n",
      "Throttle: train_loss: 9.319612e-04, val_loss: 3.334740e-02\n",
      "Steering Angle: train_loss: 7.584568e-04, val_loss: 1.912076e-02\n",
      "Epoch  25/50\n",
      "Delta X: train_loss: 1.994842e-03, val_loss: 8.135388e-02\n",
      "Delta Y: train_loss: 1.155648e-03, val_loss: 6.125504e-02\n",
      "Delta yaw: train_loss: 4.084814e-04, val_loss: 1.454133e-03\n",
      "Throttle: train_loss: 9.124781e-04, val_loss: 3.322311e-02\n",
      "Steering Angle: train_loss: 7.485981e-04, val_loss: 1.901809e-02\n"
     ]
    },
    {
     "ename": "KeyboardInterrupt",
     "evalue": "",
     "output_type": "error",
     "traceback": [
      "\u001b[0;31m---------------------------------------------------------------------------\u001b[0m",
      "\u001b[0;31mKeyboardInterrupt\u001b[0m                         Traceback (most recent call last)",
      "\u001b[0;32m<ipython-input-57-1d6785dcbdfc>\u001b[0m in \u001b[0;36m<module>\u001b[0;34m\u001b[0m\n\u001b[1;32m     11\u001b[0m     train_loss1, train_loss2, train_loss3, train_loss4, train_loss5 = run_epoch(model=mynet,criterion=mycriterion,\n\u001b[1;32m     12\u001b[0m                            \u001b[0moptimizer\u001b[0m\u001b[0;34m=\u001b[0m\u001b[0mmyoptimizer\u001b[0m\u001b[0;34m,\u001b[0m\u001b[0mdataloader\u001b[0m\u001b[0;34m=\u001b[0m\u001b[0mtrain_loader\u001b[0m\u001b[0;34m,\u001b[0m\u001b[0;34m\u001b[0m\u001b[0;34m\u001b[0m\u001b[0m\n\u001b[0;32m---> 13\u001b[0;31m                            iftrain=True)\n\u001b[0m\u001b[1;32m     14\u001b[0m     \u001b[0mtrain_history\u001b[0m \u001b[0;34m=\u001b[0m \u001b[0mnp\u001b[0m\u001b[0;34m.\u001b[0m\u001b[0mappend\u001b[0m\u001b[0;34m(\u001b[0m\u001b[0mtrain_history\u001b[0m\u001b[0;34m,\u001b[0m \u001b[0mnp\u001b[0m\u001b[0;34m.\u001b[0m\u001b[0marray\u001b[0m\u001b[0;34m(\u001b[0m\u001b[0;34m[\u001b[0m\u001b[0;34m[\u001b[0m\u001b[0mtrain_loss1\u001b[0m\u001b[0;34m,\u001b[0m \u001b[0mtrain_loss2\u001b[0m\u001b[0;34m,\u001b[0m \u001b[0mtrain_loss3\u001b[0m\u001b[0;34m,\u001b[0m \u001b[0mtrain_loss4\u001b[0m\u001b[0;34m,\u001b[0m \u001b[0mtrain_loss5\u001b[0m\u001b[0;34m]\u001b[0m\u001b[0;34m]\u001b[0m\u001b[0;34m)\u001b[0m\u001b[0;34m/\u001b[0m\u001b[0mnum_trainbatch\u001b[0m\u001b[0;34m,\u001b[0m \u001b[0maxis\u001b[0m\u001b[0;34m=\u001b[0m\u001b[0;36m0\u001b[0m\u001b[0;34m)\u001b[0m\u001b[0;34m\u001b[0m\u001b[0;34m\u001b[0m\u001b[0m\n\u001b[1;32m     15\u001b[0m     val_loss1, val_loss2, val_loss3, val_loss4, val_loss5 =  run_epoch(model=mynet,criterion=mycriterion,\n",
      "\u001b[0;32m<ipython-input-47-4280574b3176>\u001b[0m in \u001b[0;36mrun_epoch\u001b[0;34m(model, criterion, optimizer, dataloader, iftrain)\u001b[0m\n\u001b[1;32m      6\u001b[0m     \u001b[0mrunning_loss5\u001b[0m \u001b[0;34m=\u001b[0m \u001b[0;36m0.0\u001b[0m\u001b[0;34m\u001b[0m\u001b[0;34m\u001b[0m\u001b[0m\n\u001b[1;32m      7\u001b[0m     \u001b[0;31m#Iterating through the minibatches of the data\u001b[0m\u001b[0;34m\u001b[0m\u001b[0;34m\u001b[0m\u001b[0;34m\u001b[0m\u001b[0m\n\u001b[0;32m----> 8\u001b[0;31m     \u001b[0;32mfor\u001b[0m \u001b[0mi\u001b[0m\u001b[0;34m,\u001b[0m \u001b[0mdata\u001b[0m \u001b[0;32min\u001b[0m \u001b[0menumerate\u001b[0m\u001b[0;34m(\u001b[0m\u001b[0mdataloader\u001b[0m\u001b[0;34m,\u001b[0m \u001b[0;36m0\u001b[0m\u001b[0;34m)\u001b[0m\u001b[0;34m:\u001b[0m\u001b[0;34m\u001b[0m\u001b[0;34m\u001b[0m\u001b[0m\n\u001b[0m\u001b[1;32m      9\u001b[0m         \u001b[0mX\u001b[0m\u001b[0;34m,\u001b[0m \u001b[0my1\u001b[0m\u001b[0;34m,\u001b[0m \u001b[0my2\u001b[0m\u001b[0;34m,\u001b[0m \u001b[0my3\u001b[0m\u001b[0;34m,\u001b[0m \u001b[0my4\u001b[0m\u001b[0;34m,\u001b[0m \u001b[0my5\u001b[0m \u001b[0;34m=\u001b[0m \u001b[0mdata\u001b[0m\u001b[0;34m\u001b[0m\u001b[0;34m\u001b[0m\u001b[0m\n\u001b[1;32m     10\u001b[0m         \u001b[0mX\u001b[0m \u001b[0;34m=\u001b[0m \u001b[0;34m[\u001b[0m\u001b[0mx\u001b[0m\u001b[0;34m.\u001b[0m\u001b[0mcuda\u001b[0m\u001b[0;34m(\u001b[0m\u001b[0;34m)\u001b[0m \u001b[0;32mfor\u001b[0m \u001b[0mx\u001b[0m \u001b[0;32min\u001b[0m \u001b[0mX\u001b[0m\u001b[0;34m]\u001b[0m\u001b[0;34m\u001b[0m\u001b[0;34m\u001b[0m\u001b[0m\n",
      "\u001b[0;32m~/anaconda3/envs/intellisys/lib/python3.7/site-packages/torch/utils/data/dataloader.py\u001b[0m in \u001b[0;36m__next__\u001b[0;34m(self)\u001b[0m\n\u001b[1;32m    519\u001b[0m             \u001b[0;32mif\u001b[0m \u001b[0mself\u001b[0m\u001b[0;34m.\u001b[0m\u001b[0m_sampler_iter\u001b[0m \u001b[0;32mis\u001b[0m \u001b[0;32mNone\u001b[0m\u001b[0;34m:\u001b[0m\u001b[0;34m\u001b[0m\u001b[0;34m\u001b[0m\u001b[0m\n\u001b[1;32m    520\u001b[0m                 \u001b[0mself\u001b[0m\u001b[0;34m.\u001b[0m\u001b[0m_reset\u001b[0m\u001b[0;34m(\u001b[0m\u001b[0;34m)\u001b[0m\u001b[0;34m\u001b[0m\u001b[0;34m\u001b[0m\u001b[0m\n\u001b[0;32m--> 521\u001b[0;31m             \u001b[0mdata\u001b[0m \u001b[0;34m=\u001b[0m \u001b[0mself\u001b[0m\u001b[0;34m.\u001b[0m\u001b[0m_next_data\u001b[0m\u001b[0;34m(\u001b[0m\u001b[0;34m)\u001b[0m\u001b[0;34m\u001b[0m\u001b[0;34m\u001b[0m\u001b[0m\n\u001b[0m\u001b[1;32m    522\u001b[0m             \u001b[0mself\u001b[0m\u001b[0;34m.\u001b[0m\u001b[0m_num_yielded\u001b[0m \u001b[0;34m+=\u001b[0m \u001b[0;36m1\u001b[0m\u001b[0;34m\u001b[0m\u001b[0;34m\u001b[0m\u001b[0m\n\u001b[1;32m    523\u001b[0m             \u001b[0;32mif\u001b[0m \u001b[0mself\u001b[0m\u001b[0;34m.\u001b[0m\u001b[0m_dataset_kind\u001b[0m \u001b[0;34m==\u001b[0m \u001b[0m_DatasetKind\u001b[0m\u001b[0;34m.\u001b[0m\u001b[0mIterable\u001b[0m \u001b[0;32mand\u001b[0m\u001b[0;31m \u001b[0m\u001b[0;31m\\\u001b[0m\u001b[0;34m\u001b[0m\u001b[0;34m\u001b[0m\u001b[0m\n",
      "\u001b[0;32m~/anaconda3/envs/intellisys/lib/python3.7/site-packages/torch/utils/data/dataloader.py\u001b[0m in \u001b[0;36m_next_data\u001b[0;34m(self)\u001b[0m\n\u001b[1;32m    559\u001b[0m     \u001b[0;32mdef\u001b[0m \u001b[0m_next_data\u001b[0m\u001b[0;34m(\u001b[0m\u001b[0mself\u001b[0m\u001b[0;34m)\u001b[0m\u001b[0;34m:\u001b[0m\u001b[0;34m\u001b[0m\u001b[0;34m\u001b[0m\u001b[0m\n\u001b[1;32m    560\u001b[0m         \u001b[0mindex\u001b[0m \u001b[0;34m=\u001b[0m \u001b[0mself\u001b[0m\u001b[0;34m.\u001b[0m\u001b[0m_next_index\u001b[0m\u001b[0;34m(\u001b[0m\u001b[0;34m)\u001b[0m  \u001b[0;31m# may raise StopIteration\u001b[0m\u001b[0;34m\u001b[0m\u001b[0;34m\u001b[0m\u001b[0m\n\u001b[0;32m--> 561\u001b[0;31m         \u001b[0mdata\u001b[0m \u001b[0;34m=\u001b[0m \u001b[0mself\u001b[0m\u001b[0;34m.\u001b[0m\u001b[0m_dataset_fetcher\u001b[0m\u001b[0;34m.\u001b[0m\u001b[0mfetch\u001b[0m\u001b[0;34m(\u001b[0m\u001b[0mindex\u001b[0m\u001b[0;34m)\u001b[0m  \u001b[0;31m# may raise StopIteration\u001b[0m\u001b[0;34m\u001b[0m\u001b[0;34m\u001b[0m\u001b[0m\n\u001b[0m\u001b[1;32m    562\u001b[0m         \u001b[0;32mif\u001b[0m \u001b[0mself\u001b[0m\u001b[0;34m.\u001b[0m\u001b[0m_pin_memory\u001b[0m\u001b[0;34m:\u001b[0m\u001b[0;34m\u001b[0m\u001b[0;34m\u001b[0m\u001b[0m\n\u001b[1;32m    563\u001b[0m             \u001b[0mdata\u001b[0m \u001b[0;34m=\u001b[0m \u001b[0m_utils\u001b[0m\u001b[0;34m.\u001b[0m\u001b[0mpin_memory\u001b[0m\u001b[0;34m.\u001b[0m\u001b[0mpin_memory\u001b[0m\u001b[0;34m(\u001b[0m\u001b[0mdata\u001b[0m\u001b[0;34m)\u001b[0m\u001b[0;34m\u001b[0m\u001b[0;34m\u001b[0m\u001b[0m\n",
      "\u001b[0;32m~/anaconda3/envs/intellisys/lib/python3.7/site-packages/torch/utils/data/_utils/fetch.py\u001b[0m in \u001b[0;36mfetch\u001b[0;34m(self, possibly_batched_index)\u001b[0m\n\u001b[1;32m     47\u001b[0m     \u001b[0;32mdef\u001b[0m \u001b[0mfetch\u001b[0m\u001b[0;34m(\u001b[0m\u001b[0mself\u001b[0m\u001b[0;34m,\u001b[0m \u001b[0mpossibly_batched_index\u001b[0m\u001b[0;34m)\u001b[0m\u001b[0;34m:\u001b[0m\u001b[0;34m\u001b[0m\u001b[0;34m\u001b[0m\u001b[0m\n\u001b[1;32m     48\u001b[0m         \u001b[0;32mif\u001b[0m \u001b[0mself\u001b[0m\u001b[0;34m.\u001b[0m\u001b[0mauto_collation\u001b[0m\u001b[0;34m:\u001b[0m\u001b[0;34m\u001b[0m\u001b[0;34m\u001b[0m\u001b[0m\n\u001b[0;32m---> 49\u001b[0;31m             \u001b[0mdata\u001b[0m \u001b[0;34m=\u001b[0m \u001b[0;34m[\u001b[0m\u001b[0mself\u001b[0m\u001b[0;34m.\u001b[0m\u001b[0mdataset\u001b[0m\u001b[0;34m[\u001b[0m\u001b[0midx\u001b[0m\u001b[0;34m]\u001b[0m \u001b[0;32mfor\u001b[0m \u001b[0midx\u001b[0m \u001b[0;32min\u001b[0m \u001b[0mpossibly_batched_index\u001b[0m\u001b[0;34m]\u001b[0m\u001b[0;34m\u001b[0m\u001b[0;34m\u001b[0m\u001b[0m\n\u001b[0m\u001b[1;32m     50\u001b[0m         \u001b[0;32melse\u001b[0m\u001b[0;34m:\u001b[0m\u001b[0;34m\u001b[0m\u001b[0;34m\u001b[0m\u001b[0m\n\u001b[1;32m     51\u001b[0m             \u001b[0mdata\u001b[0m \u001b[0;34m=\u001b[0m \u001b[0mself\u001b[0m\u001b[0;34m.\u001b[0m\u001b[0mdataset\u001b[0m\u001b[0;34m[\u001b[0m\u001b[0mpossibly_batched_index\u001b[0m\u001b[0;34m]\u001b[0m\u001b[0;34m\u001b[0m\u001b[0;34m\u001b[0m\u001b[0m\n",
      "\u001b[0;32m~/anaconda3/envs/intellisys/lib/python3.7/site-packages/torch/utils/data/_utils/fetch.py\u001b[0m in \u001b[0;36m<listcomp>\u001b[0;34m(.0)\u001b[0m\n\u001b[1;32m     47\u001b[0m     \u001b[0;32mdef\u001b[0m \u001b[0mfetch\u001b[0m\u001b[0;34m(\u001b[0m\u001b[0mself\u001b[0m\u001b[0;34m,\u001b[0m \u001b[0mpossibly_batched_index\u001b[0m\u001b[0;34m)\u001b[0m\u001b[0;34m:\u001b[0m\u001b[0;34m\u001b[0m\u001b[0;34m\u001b[0m\u001b[0m\n\u001b[1;32m     48\u001b[0m         \u001b[0;32mif\u001b[0m \u001b[0mself\u001b[0m\u001b[0;34m.\u001b[0m\u001b[0mauto_collation\u001b[0m\u001b[0;34m:\u001b[0m\u001b[0;34m\u001b[0m\u001b[0;34m\u001b[0m\u001b[0m\n\u001b[0;32m---> 49\u001b[0;31m             \u001b[0mdata\u001b[0m \u001b[0;34m=\u001b[0m \u001b[0;34m[\u001b[0m\u001b[0mself\u001b[0m\u001b[0;34m.\u001b[0m\u001b[0mdataset\u001b[0m\u001b[0;34m[\u001b[0m\u001b[0midx\u001b[0m\u001b[0;34m]\u001b[0m \u001b[0;32mfor\u001b[0m \u001b[0midx\u001b[0m \u001b[0;32min\u001b[0m \u001b[0mpossibly_batched_index\u001b[0m\u001b[0;34m]\u001b[0m\u001b[0;34m\u001b[0m\u001b[0;34m\u001b[0m\u001b[0m\n\u001b[0m\u001b[1;32m     50\u001b[0m         \u001b[0;32melse\u001b[0m\u001b[0;34m:\u001b[0m\u001b[0;34m\u001b[0m\u001b[0;34m\u001b[0m\u001b[0m\n\u001b[1;32m     51\u001b[0m             \u001b[0mdata\u001b[0m \u001b[0;34m=\u001b[0m \u001b[0mself\u001b[0m\u001b[0;34m.\u001b[0m\u001b[0mdataset\u001b[0m\u001b[0;34m[\u001b[0m\u001b[0mpossibly_batched_index\u001b[0m\u001b[0;34m]\u001b[0m\u001b[0;34m\u001b[0m\u001b[0;34m\u001b[0m\u001b[0m\n",
      "\u001b[0;32m/media/melina/Extreme SSD/Carla_0.9.11/PythonAPI/examples/models/my_datasets.py\u001b[0m in \u001b[0;36m__getitem__\u001b[0;34m(self, index)\u001b[0m\n\u001b[1;32m     43\u001b[0m     \u001b[0;32mdef\u001b[0m \u001b[0m__getitem__\u001b[0m\u001b[0;34m(\u001b[0m\u001b[0mself\u001b[0m\u001b[0;34m,\u001b[0m \u001b[0mindex\u001b[0m\u001b[0;34m)\u001b[0m\u001b[0;34m:\u001b[0m\u001b[0;34m\u001b[0m\u001b[0;34m\u001b[0m\u001b[0m\n\u001b[1;32m     44\u001b[0m         \u001b[0mimg_path\u001b[0m \u001b[0;34m=\u001b[0m \u001b[0mself\u001b[0m\u001b[0;34m.\u001b[0m\u001b[0minput_list\u001b[0m\u001b[0;34m[\u001b[0m\u001b[0mindex\u001b[0m\u001b[0;34m]\u001b[0m\u001b[0;34m[\u001b[0m\u001b[0;36m0\u001b[0m\u001b[0;34m]\u001b[0m\u001b[0;34m\u001b[0m\u001b[0;34m\u001b[0m\u001b[0m\n\u001b[0;32m---> 45\u001b[0;31m         \u001b[0mimg\u001b[0m \u001b[0;34m=\u001b[0m \u001b[0mcv2\u001b[0m\u001b[0;34m.\u001b[0m\u001b[0mimread\u001b[0m\u001b[0;34m(\u001b[0m\u001b[0mself\u001b[0m\u001b[0;34m.\u001b[0m\u001b[0mroot\u001b[0m\u001b[0;34m+\u001b[0m\u001b[0mimg_path\u001b[0m\u001b[0;34m)\u001b[0m\u001b[0;34m\u001b[0m\u001b[0;34m\u001b[0m\u001b[0m\n\u001b[0m\u001b[1;32m     46\u001b[0m         \u001b[0mimg\u001b[0m \u001b[0;34m=\u001b[0m \u001b[0mcv2\u001b[0m\u001b[0;34m.\u001b[0m\u001b[0mresize\u001b[0m\u001b[0;34m(\u001b[0m\u001b[0mimg\u001b[0m\u001b[0;34m,\u001b[0m \u001b[0mself\u001b[0m\u001b[0;34m.\u001b[0m\u001b[0msize\u001b[0m\u001b[0;34m,\u001b[0m \u001b[0minterpolation\u001b[0m \u001b[0;34m=\u001b[0m \u001b[0mcv2\u001b[0m\u001b[0;34m.\u001b[0m\u001b[0mINTER_AREA\u001b[0m\u001b[0;34m)\u001b[0m\u001b[0;34m\u001b[0m\u001b[0;34m\u001b[0m\u001b[0m\n\u001b[1;32m     47\u001b[0m         \u001b[0;31m#img = cv2.cvtColor(img, cv2.COLOR_BGR2GRAY )\u001b[0m\u001b[0;34m\u001b[0m\u001b[0;34m\u001b[0m\u001b[0;34m\u001b[0m\u001b[0m\n",
      "\u001b[0;31mKeyboardInterrupt\u001b[0m: "
     ]
    }
   ],
   "source": [
    "myoptimizer = optim.Adam(mynet.parameters(), lr=1e-6, eps = 1e-08) \n",
    "max_epochs = 50\n",
    "print('Start training!')\n",
    "for epoch in range(max_epochs): \n",
    "    '''\n",
    "    if epoch >= 29 and epoch <= 39:\n",
    "        myoptimizer.param_groups[0]['lr'] = 1e-5\n",
    "    elif epoch > 39:\n",
    "        myoptimizer.param_groups[0]['lr'] = 1e-6\n",
    "    '''\n",
    "    train_loss1, train_loss2, train_loss3, train_loss4, train_loss5 = run_epoch(model=mynet,criterion=mycriterion,\n",
    "                           optimizer=myoptimizer,dataloader=train_loader,\n",
    "                           iftrain=True)\n",
    "    train_history = np.append(train_history, np.array([[train_loss1, train_loss2, train_loss3, train_loss4, train_loss5]])/num_trainbatch, axis=0)\n",
    "    val_loss1, val_loss2, val_loss3, val_loss4, val_loss5 =  run_epoch(model=mynet,criterion=mycriterion,\n",
    "                           optimizer=myoptimizer,dataloader=val_loader,\n",
    "                           iftrain=False)\n",
    "    val_history = np.append(val_history, np.array([[val_loss1, val_loss2, val_loss3, val_loss4, val_loss5]])/num_valbatch, axis=0)\n",
    "    #if epoch % 10 == 9:\n",
    "    print(f\"Epoch {epoch + 1: >3}/{max_epochs}\")\n",
    "    print('Delta X: train_loss: %2e, val_loss: %2e'%(train_history[-1][0], val_history[-1][0]))\n",
    "    print('Delta Y: train_loss: %2e, val_loss: %2e'%(train_history[-1][1], val_history[-1][1]))\n",
    "    print('Delta yaw: train_loss: %2e, val_loss: %2e'%(train_history[-1][2], val_history[-1][2]))\n",
    "    print('Throttle: train_loss: %2e, val_loss: %2e'%(train_history[-1][3], val_history[-1][3]))\n",
    "    print('Steering Angle: train_loss: %2e, val_loss: %2e'%(train_history[-1][4], val_history[-1][4]))\n",
    "'''\n",
    "    # early stopping\n",
    "    if min_loss == 100000 or val_loss < min_loss :\n",
    "        min_loss = val_loss\n",
    "        current_patience = 0\n",
    "        torch.save(mynet.state_dict(),'mynet.pth')\n",
    "      \n",
    "    else :\n",
    "        current_patience += 1 \n",
    "        if current_patience >= patience :\n",
    "            print(\"Stopping early at epoch {}!\".format(epoch+1)) \n",
    "            break   '''\n",
    "\n",
    "print('FINISH.')"
   ]
  },
  {
   "cell_type": "code",
   "execution_count": 72,
   "metadata": {
    "scrolled": false
   },
   "outputs": [
    {
     "data": {
      "image/png": "[encoded data removed]",
      "text/plain": [
       "<Figure size 640x480 with 1 Axes>"
      ]
     },
     "metadata": {},
     "output_type": "display_data"
    }
   ],
   "source": [
    "# plot the train&validation loss curve \n",
    "epochs = range(len(train_history))\n",
    "plt.figure()\n",
    "plt.plot(epochs, train_history[:,0], 'b', label='Training loss')\n",
    "plt.plot(epochs, val_history[:,0], 'r', label='Validation loss')\n",
    "plt.title('Training and validation loss')\n",
    "\n",
    "plt.legend()\n",
    "plt.show()\n"
   ]
  },
  {
   "cell_type": "code",
   "execution_count": 58,
   "metadata": {},
   "outputs": [],
   "source": [
    "# save trained model\n",
    "torch.save(mynet.state_dict(),'./models/mynet_alex_1.pth')"
   ]
  },
  {
   "cell_type": "code",
   "execution_count": 15,
   "metadata": {},
   "outputs": [
    {
     "data": {
      "text/plain": [
       "<All keys matched successfully>"
      ]
     },
     "execution_count": 15,
     "metadata": {},
     "output_type": "execute_result"
    }
   ],
   "source": [
    "mynet.load_state_dict(torch.load('./models/mynet_simple_1.pth'))"
   ]
  },
  {
   "cell_type": "code",
   "execution_count": 59,
   "metadata": {},
   "outputs": [
    {
     "name": "stdout",
     "output_type": "stream",
     "text": [
      "prediction:[[0.20180774 0.00740812]], ground truth:[0.22825652 0.01198591]\n",
      "prediction:[[ 0.38047433 -0.06458561]], ground truth:[0.3172086  0.00246053]\n",
      "prediction:[[ 0.9981288  -0.01455041]], ground truth:[ 1.         -0.08149473]\n",
      "prediction:[[0.80992866 0.05731828]], ground truth:[0.98859996 0.04723896]\n",
      "prediction:[[-0.01853594 -0.09389754]], ground truth:[ 1.98382589e-13 -2.01118566e-02]\n",
      "prediction:[[-0.05176756  0.00249628]], ground truth:[1.43580562e-14 5.54072520e-03]\n",
      "prediction:[[0.08309838 0.02042792]], ground truth:[1.50902971e-05 5.24200301e-02]\n",
      "prediction:[[ 0.14169094 -0.0623159 ]], ground truth:[ 0.12143705 -0.03632329]\n",
      "prediction:[[0.30289507 0.00980852]], ground truth:[0.46432591 0.00847631]\n",
      "prediction:[[0.28165555 0.01636351]], ground truth:[4.00460310e-06 6.97819681e-02]\n",
      "prediction:[[ 0.9981288  -0.01455041]], ground truth:[ 1.         -0.08149473]\n",
      "prediction:[[ 0.408731  -0.9222911]], ground truth:[ 1.93341381e-16 -1.00000000e+00]\n",
      "prediction:[[0.63473165 0.17228682]], ground truth:[0.57200824 0.10398017]\n",
      "prediction:[[0.31330305 0.13584165]], ground truth:[0.41110217 0.12939746]\n",
      "prediction:[[ 0.569287   -0.00970798]], ground truth:[ 1.         -0.00747343]\n",
      "prediction:[[ 1.0126103 -0.0045199]], ground truth:[ 1.         -0.00859796]\n",
      "prediction:[[0.26629868 0.05189214]], ground truth:[1.99333305e-14 4.77740261e-02]\n",
      "prediction:[[ 0.97684467 -0.02242788]], ground truth:[ 1.         -0.00872909]\n",
      "prediction:[[ 0.42784882 -0.03925874]], ground truth:[ 0.45221472 -0.04230022]\n",
      "prediction:[[ 0.8088429  -0.16206627]], ground truth:[ 1.         -0.15205537]\n",
      "prediction:[[ 0.8088429  -0.16206627]], ground truth:[ 1.         -0.15205537]\n"
     ]
    },
    {
     "name": "stderr",
     "output_type": "stream",
     "text": [
      "/home/melina/.local/lib/python3.7/site-packages/ipykernel_launcher.py:4: UserWarning: To copy construct from a tensor, it is recommended to use sourceTensor.clone().detach() or sourceTensor.clone().detach().requires_grad_(True), rather than torch.tensor(sourceTensor).\n",
      "  after removing the cwd from sys.path.\n"
     ]
    }
   ],
   "source": [
    "for i in range (21):\n",
    "    TEST = random.randint (0, 2900)\n",
    "    test_in, gt_X, gt_Y, gt_yaw, gt_th, gt_st = val_data[TEST]\n",
    "    test_in = [torch.tensor(x).cuda() for x in test_in]\n",
    "    gt_output = [gt_X, gt_Y, gt_yaw, gt_th, gt_st]\n",
    "    gt_output = torch.tensor(gt_output).to(device)\n",
    "    output_pred = mynet(test_in) \n",
    "    #print('TEST', TEST)\n",
    "    #print('test_in',test_in)\n",
    "    print('prediction:{}, ground truth:{}'.format(output_pred[:,3:].cpu().detach().numpy(), gt_output[3:].cpu().detach().numpy()))"
   ]
  },
  {
   "cell_type": "code",
   "execution_count": 60,
   "metadata": {},
   "outputs": [
    {
     "name": "stdout",
     "output_type": "stream",
     "text": [
      "prediction:[[7.6231966  1.2463416  0.36152515]], ground truth:[7.68005268 1.2896464  0.33085424]\n",
      "prediction:[[7.740574  0.3489024 0.1202274]], ground truth:[7.73125087 0.31547991 0.08318976]\n",
      "prediction:[[ 8.4234915  -0.10904135 -0.03282177]], ground truth:[ 8.41632591 -0.13101208 -0.05037928]\n",
      "prediction:[[6.314478   3.7126942  0.47694176]], ground truth:[6.23725881 3.68921218 0.49257721]\n",
      "prediction:[[ 1.2351148e+01 -1.3838485e-02  5.0660670e-03]], ground truth:[1.24483810e+01 2.68044061e-02 5.55455509e-03]\n",
      "prediction:[[11.325806   -0.14030631 -0.03471857]], ground truth:[11.51552601 -0.28899742 -0.06259574]\n",
      "prediction:[[10.301918    0.38443768  0.10137194]], ground truth:[10.38774131  0.35287853  0.08975599]\n",
      "prediction:[[14.760749    0.32737595 -0.04234618]], ground truth:[16.9425874   0.64110132 -0.0376286 ]\n",
      "prediction:[[ 7.59889    -0.03663762 -0.02172571]], ground truth:[ 7.58857241 -0.0706915  -0.0297073 ]\n",
      "prediction:[[12.801566    0.7412424   0.09253979]], ground truth:[12.52444006  0.69279993  0.08285613]\n",
      "prediction:[[10.94276    -0.23197635 -0.09344137]], ground truth:[10.86412622 -0.24756771 -0.10278244]\n",
      "prediction:[[9.859734   0.42620826 0.15641588]], ground truth:[9.75434154 0.35687194 0.1438344 ]\n",
      "prediction:[[ 1.0550683e+01 -3.2528192e-03  1.8112630e-02]], ground truth:[10.71004996 -0.10046461 -0.0132463 ]\n",
      "prediction:[[ 7.520208    0.24790369 -0.01021382]], ground truth:[ 7.55599598  0.24703407 -0.00794927]\n",
      "prediction:[[ 1.5224621e+01  5.1394388e-02 -6.2416792e-03]], ground truth:[1.52161225e+01 3.43337130e-02 9.97367144e-03]\n",
      "prediction:[[5.8295655 3.520086  0.5340091]], ground truth:[5.83432788 3.44424488 0.51433743]\n",
      "prediction:[[ 7.693081   -0.3105262  -0.07295537]], ground truth:[ 7.74262294 -0.29628893 -0.09593026]\n",
      "prediction:[[7.5120153  0.1474875  0.04486066]], ground truth:[7.54810008 0.16904293 0.06280506]\n",
      "prediction:[[ 7.3022428  -0.38074547 -0.09721124]], ground truth:[ 7.31167842 -0.3674707  -0.09573505]\n",
      "prediction:[[13.2632475  0.382052   0.1847553]], ground truth:[13.20537953  0.53303403  0.15240099]\n",
      "prediction:[[11.841897    0.3709193   0.03538659]], ground truth:[11.65801703  0.31443413  0.05734398]\n"
     ]
    },
    {
     "name": "stderr",
     "output_type": "stream",
     "text": [
      "/home/melina/.local/lib/python3.7/site-packages/ipykernel_launcher.py:4: UserWarning: To copy construct from a tensor, it is recommended to use sourceTensor.clone().detach() or sourceTensor.clone().detach().requires_grad_(True), rather than torch.tensor(sourceTensor).\n",
      "  after removing the cwd from sys.path.\n"
     ]
    }
   ],
   "source": [
    "for i in range (21):\n",
    "    TEST = random.randint (0, 2900)\n",
    "    test_in, gt_X, gt_Y, gt_yaw, gt_th, gt_st = val_data[TEST]\n",
    "    test_in = [torch.tensor(x).cuda() for x in test_in]\n",
    "    gt_output = [gt_X, gt_Y, gt_yaw, gt_th, gt_st]\n",
    "    gt_output = torch.tensor(gt_output).to(device)\n",
    "    output_pred = mynet(test_in) \n",
    "    #print('TEST', TEST)\n",
    "    #print('test_in',test_in)\n",
    "    print('prediction:{}, ground truth:{}'.format(output_pred[:,:3].cpu().detach().numpy(), gt_output[:3].cpu().detach().numpy()))"
   ]
  },
  {
   "cell_type": "code",
   "execution_count": 69,
   "metadata": {},
   "outputs": [
    {
     "data": {
      "text/plain": [
       "tensor([11.8419,  0.3709,  0.0354,  1.0000,  2.0000], device='cuda:0',\n",
       "       grad_fn=<CatBackward0>)"
      ]
     },
     "execution_count": 69,
     "metadata": {},
     "output_type": "execute_result"
    }
   ],
   "source": [
    "torch.cat((output_pred[0][:3], torch.tensor([1,2]).to(device)), axis = 0)"
   ]
  },
  {
   "cell_type": "code",
   "execution_count": 67,
   "metadata": {},
   "outputs": [
    {
     "data": {
      "text/plain": [
       "torch.Size([1])"
      ]
     },
     "execution_count": 67,
     "metadata": {},
     "output_type": "execute_result"
    }
   ],
   "source": [
    "torch.tensor([1]).shape"
   ]
  },
  {
   "cell_type": "code",
   "execution_count": null,
   "metadata": {},
   "outputs": [],
   "source": []
  }
 ],
 "metadata": {
  "kernelspec": {
   "display_name": "Python 3",
   "language": "python",
   "name": "python3"
  },
  "language_info": {
   "codemirror_mode": {
    "name": "ipython",
    "version": 3
   },
   "file_extension": ".py",
   "mimetype": "text/x-python",
   "name": "python",
   "nbconvert_exporter": "python",
   "pygments_lexer": "ipython3",
   "version": "3.7.11"
  }
 },
 "nbformat": 4,
 "nbformat_minor": 5
}
